{
 "cells": [
  {
   "cell_type": "markdown",
   "metadata": {},
   "source": [
    "## Load libraries"
   ]
  },
  {
   "cell_type": "code",
   "execution_count": 9,
   "metadata": {},
   "outputs": [],
   "source": [
    "# Libraries to work cross-platform\n",
    "import os\n",
    "\n",
    "# Libraries to work with dataset\n",
    "import numpy as np\n",
    "import pandas as pd\n",
    "\n",
    "# Libraries for evaluation\n",
    "from pyclustertend import hopkins\n",
    "\n",
    "# Libraries for monitoring operation process\n",
    "from datetime import datetime\n",
    "from tqdm import tqdm"
   ]
  },
  {
   "cell_type": "markdown",
   "metadata": {},
   "source": [
    "## Configurate and declare global variables"
   ]
  },
  {
   "cell_type": "code",
   "execution_count": 10,
   "metadata": {},
   "outputs": [],
   "source": [
    "os_name = os.name\n",
    "\n",
    "if os_name == 'nt':\n",
    "    \"\"\"Windows platform\"\"\"\n",
    "    BASE_DIR = \"E:/THIENDHB_GOOGLEDRIVE/MASTER TILBURG/THESIS/\"\n",
    "\n",
    "elif os_name == 'posix':\n",
    "    \"\"\"Linux platform\"\"\"\n",
    "    BASE_DIR = \"/media/pinkalinux/WORK/THIENDHB_GOOGLEDRIVE/MASTER TILBURG/THESIS/\"\n",
    "\n",
    "INPUT_DIR = BASE_DIR + \"DATASET/INPUT/\"\n",
    "OUTPUT_DIR = BASE_DIR + \"DATASET/OUTPUT/\"\n",
    "RESULT_DIR = BASE_DIR + \"RESULTS/\"\n",
    "\n",
    "SEED = 6886\n",
    "%matplotlib inline"
   ]
  },
  {
   "cell_type": "markdown",
   "metadata": {},
   "source": [
    "## Import data"
   ]
  },
  {
   "cell_type": "code",
   "execution_count": 11,
   "metadata": {},
   "outputs": [
    {
     "data": {
      "text/plain": [
       "(257205, 150)"
      ]
     },
     "execution_count": 11,
     "metadata": {},
     "output_type": "execute_result"
    }
   ],
   "source": [
    "skill_embeddings = np.load(OUTPUT_DIR + \"skill_feat_halfsize_embeddings.npy\")\n",
    "skill_embeddings.shape"
   ]
  },
  {
   "cell_type": "markdown",
   "metadata": {},
   "source": [
    "## Test cluster tendency"
   ]
  },
  {
   "cell_type": "code",
   "execution_count": 12,
   "metadata": {},
   "outputs": [],
   "source": [
    "def get_hopkins_stats(X, n):\n",
    "    \"\"\"\n",
    "    Function to run the Hopkins test to test the cluster tendency\n",
    "    Inputs:\n",
    "    - X: dataset to test \n",
    "    - n: sample size to test\n",
    "    Return:\n",
    "    - Hopkins statistics (= 1 - H): Closer to 0 means cluster tendency. \n",
    "    - Duration: time spent in minutes to run the Hopkins test\n",
    "    \"\"\"\n",
    "    start_hopkin_time = datetime.now()\n",
    "    print(\n",
    "        \"n =\", n,\n",
    "        \"\\nStart computing Hopkins statistic\",\n",
    "        start_hopkin_time.strftime(\"%Y-%m-%d %H:%M:%S.%f\"),\n",
    "    )\n",
    "\n",
    "    h_stat = hopkins(X, n)\n",
    "\n",
    "    end_hopkin_time = datetime.now()\n",
    "    print(\n",
    "        \"End computing Hopkins statistic\",\n",
    "        end_hopkin_time.strftime(\"%Y-%m-%d %H:%M:%S.%f\")\n",
    "    )\n",
    "    print(\"Duration\", end_hopkin_time - start_hopkin_time)\n",
    "    print('Hopkins statistics =', h_stat)\n",
    "    return h_stat, round((end_hopkin_time - start_hopkin_time).seconds/60, 2)"
   ]
  },
  {
   "cell_type": "code",
   "execution_count": 13,
   "metadata": {},
   "outputs": [
    {
     "name": "stderr",
     "output_type": "stream",
     "text": [
      "Running Hopkins test:   0%|                                                                      | 0/5 [00:00<?, ?it/s]"
     ]
    },
    {
     "name": "stdout",
     "output_type": "stream",
     "text": [
      "n = 50 \n",
      "Start computing Hopkins statistic 2021-05-17 22:42:19.167699\n"
     ]
    },
    {
     "name": "stderr",
     "output_type": "stream",
     "text": [
      "Running Hopkins test:  20%|████████████▍                                                 | 1/5 [00:43<02:52, 43.24s/it]"
     ]
    },
    {
     "name": "stdout",
     "output_type": "stream",
     "text": [
      "End computing Hopkins statistic 2021-05-17 22:43:02.405016\n",
      "Duration 0:00:43.237317\n",
      "Hopkins statistics = 0.024671787817664628\n",
      "n = 100 \n",
      "Start computing Hopkins statistic 2021-05-17 22:43:02.411995\n"
     ]
    },
    {
     "name": "stderr",
     "output_type": "stream",
     "text": [
      "Running Hopkins test:  40%|████████████████████████▊                                     | 2/5 [02:47<04:33, 91.01s/it]"
     ]
    },
    {
     "name": "stdout",
     "output_type": "stream",
     "text": [
      "End computing Hopkins statistic 2021-05-17 22:45:06.859543\n",
      "Duration 0:02:04.447548\n",
      "Hopkins statistics = 0.04004249502577315\n",
      "n = 1000 \n",
      "Start computing Hopkins statistic 2021-05-17 22:45:06.863545\n"
     ]
    },
    {
     "name": "stderr",
     "output_type": "stream",
     "text": [
      "Running Hopkins test:  60%|████████████████████████████████████▌                        | 3/5 [10:19<08:31, 255.73s/it]"
     ]
    },
    {
     "name": "stdout",
     "output_type": "stream",
     "text": [
      "End computing Hopkins statistic 2021-05-17 22:52:38.612397\n",
      "Duration 0:07:31.748852\n",
      "Hopkins statistics = 0.02885201502123857\n",
      "n = 5000 \n",
      "Start computing Hopkins statistic 2021-05-17 22:52:38.614396\n"
     ]
    },
    {
     "name": "stderr",
     "output_type": "stream",
     "text": [
      "Running Hopkins test:  80%|████████████████████████████████████████████████▊            | 4/5 [28:39<09:49, 589.19s/it]"
     ]
    },
    {
     "name": "stdout",
     "output_type": "stream",
     "text": [
      "End computing Hopkins statistic 2021-05-17 23:10:58.979225\n",
      "Duration 0:18:20.364829\n",
      "Hopkins statistics = 0.03082334135271056\n",
      "n = 10000 \n",
      "Start computing Hopkins statistic 2021-05-17 23:10:58.981222\n"
     ]
    },
    {
     "name": "stderr",
     "output_type": "stream",
     "text": [
      "Running Hopkins test: 100%|█████████████████████████████████████████████████████████████| 5/5 [54:29<00:00, 653.82s/it]"
     ]
    },
    {
     "name": "stdout",
     "output_type": "stream",
     "text": [
      "End computing Hopkins statistic 2021-05-17 23:36:48.259854\n",
      "Duration 0:25:49.278632\n",
      "Hopkins statistics = 0.03106992018099733\n"
     ]
    },
    {
     "name": "stderr",
     "output_type": "stream",
     "text": [
      "\n"
     ]
    }
   ],
   "source": [
    "# Test the cluster tendency of data\n",
    "n_sample_list = [50, 100, 1000, 5000, 10000]\n",
    "hopkins_list = []\n",
    "duration_list = []\n",
    "\n",
    "tqdm_bar = tqdm(desc=\"Running Hopkins test\", total=len(n_sample_list))\n",
    "for n in n_sample_list:\n",
    "    hopkins_stat, duration = get_hopkins_stats(skill_embeddings, n)\n",
    "    hopkins_list.append(hopkins_stat)\n",
    "    duration_list.append(duration)\n",
    "    tqdm_bar.update(1)\n",
    "tqdm_bar.close()"
   ]
  },
  {
   "cell_type": "code",
   "execution_count": 14,
   "metadata": {},
   "outputs": [],
   "source": [
    "hopkins_result_df = pd.DataFrame(\n",
    "    {\n",
    "        \"dataset\": [\"skill_halfsize_embeddings\"]*len(n_sample_list),\n",
    "        \"dataset_size\": [skill_embeddings.shape]*len(n_sample_list),\n",
    "        \"n\": n_sample_list,\n",
    "        \"hopkins_stastitics\": hopkins_list,\n",
    "        \"test_duration\": duration_list\n",
    "    }\n",
    ")"
   ]
  },
  {
   "cell_type": "code",
   "execution_count": 15,
   "metadata": {},
   "outputs": [
    {
     "data": {
      "text/html": [
       "<div>\n",
       "<style scoped>\n",
       "    .dataframe tbody tr th:only-of-type {\n",
       "        vertical-align: middle;\n",
       "    }\n",
       "\n",
       "    .dataframe tbody tr th {\n",
       "        vertical-align: top;\n",
       "    }\n",
       "\n",
       "    .dataframe thead th {\n",
       "        text-align: right;\n",
       "    }\n",
       "</style>\n",
       "<table border=\"1\" class=\"dataframe\">\n",
       "  <thead>\n",
       "    <tr style=\"text-align: right;\">\n",
       "      <th></th>\n",
       "      <th>dataset</th>\n",
       "      <th>dataset_size</th>\n",
       "      <th>n</th>\n",
       "      <th>hopkins_stastitics</th>\n",
       "      <th>test_duration</th>\n",
       "    </tr>\n",
       "  </thead>\n",
       "  <tbody>\n",
       "    <tr>\n",
       "      <th>0</th>\n",
       "      <td>skill_halfsize_embeddings</td>\n",
       "      <td>(257205, 150)</td>\n",
       "      <td>50</td>\n",
       "      <td>0.024672</td>\n",
       "      <td>0.72</td>\n",
       "    </tr>\n",
       "    <tr>\n",
       "      <th>1</th>\n",
       "      <td>skill_halfsize_embeddings</td>\n",
       "      <td>(257205, 150)</td>\n",
       "      <td>100</td>\n",
       "      <td>0.040042</td>\n",
       "      <td>2.07</td>\n",
       "    </tr>\n",
       "    <tr>\n",
       "      <th>2</th>\n",
       "      <td>skill_halfsize_embeddings</td>\n",
       "      <td>(257205, 150)</td>\n",
       "      <td>1000</td>\n",
       "      <td>0.028852</td>\n",
       "      <td>7.52</td>\n",
       "    </tr>\n",
       "    <tr>\n",
       "      <th>3</th>\n",
       "      <td>skill_halfsize_embeddings</td>\n",
       "      <td>(257205, 150)</td>\n",
       "      <td>5000</td>\n",
       "      <td>0.030823</td>\n",
       "      <td>18.33</td>\n",
       "    </tr>\n",
       "    <tr>\n",
       "      <th>4</th>\n",
       "      <td>skill_halfsize_embeddings</td>\n",
       "      <td>(257205, 150)</td>\n",
       "      <td>10000</td>\n",
       "      <td>0.031070</td>\n",
       "      <td>25.82</td>\n",
       "    </tr>\n",
       "  </tbody>\n",
       "</table>\n",
       "</div>"
      ],
      "text/plain": [
       "                     dataset   dataset_size      n  hopkins_stastitics  \\\n",
       "0  skill_halfsize_embeddings  (257205, 150)     50            0.024672   \n",
       "1  skill_halfsize_embeddings  (257205, 150)    100            0.040042   \n",
       "2  skill_halfsize_embeddings  (257205, 150)   1000            0.028852   \n",
       "3  skill_halfsize_embeddings  (257205, 150)   5000            0.030823   \n",
       "4  skill_halfsize_embeddings  (257205, 150)  10000            0.031070   \n",
       "\n",
       "   test_duration  \n",
       "0           0.72  \n",
       "1           2.07  \n",
       "2           7.52  \n",
       "3          18.33  \n",
       "4          25.82  "
      ]
     },
     "execution_count": 15,
     "metadata": {},
     "output_type": "execute_result"
    }
   ],
   "source": [
    "hopkins_result_df"
   ]
  },
  {
   "cell_type": "code",
   "execution_count": 16,
   "metadata": {},
   "outputs": [],
   "source": [
    "hopkins_result_df.to_csv(\n",
    "    RESULT_DIR + \"skill_halfsize_hopkins_test_result.csv\", index=False\n",
    ")"
   ]
  },
  {
   "cell_type": "code",
   "execution_count": null,
   "metadata": {},
   "outputs": [],
   "source": []
  }
 ],
 "metadata": {
  "kernelspec": {
   "display_name": "Python 3",
   "language": "python",
   "name": "python3"
  },
  "language_info": {
   "codemirror_mode": {
    "name": "ipython",
    "version": 3
   },
   "file_extension": ".py",
   "mimetype": "text/x-python",
   "name": "python",
   "nbconvert_exporter": "python",
   "pygments_lexer": "ipython3",
   "version": "3.8.5"
  }
 },
 "nbformat": 4,
 "nbformat_minor": 4
}
