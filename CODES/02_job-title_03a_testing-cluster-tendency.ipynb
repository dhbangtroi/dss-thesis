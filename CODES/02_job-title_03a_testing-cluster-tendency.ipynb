{
 "cells": [
  {
   "cell_type": "markdown",
   "metadata": {},
   "source": [
    "## Load libraries"
   ]
  },
  {
   "cell_type": "code",
   "execution_count": 1,
   "metadata": {},
   "outputs": [],
   "source": [
    "# Libraries to work cross-platform\n",
    "import os\n",
    "\n",
    "# Libraries to work with dataset\n",
    "import numpy as np\n",
    "import pandas as pd\n",
    "\n",
    "# Libraries for evaluation\n",
    "from pyclustertend import hopkins\n",
    "\n",
    "# Libraries for monitoring operation process\n",
    "from datetime import datetime\n",
    "from tqdm import tqdm"
   ]
  },
  {
   "cell_type": "markdown",
   "metadata": {},
   "source": [
    "## Configurate and declare global variables"
   ]
  },
  {
   "cell_type": "code",
   "execution_count": 2,
   "metadata": {},
   "outputs": [],
   "source": [
    "os_name = os.name\n",
    "\n",
    "if os_name == 'nt':\n",
    "    \"\"\"Windows platform\"\"\"\n",
    "    BASE_DIR = \"E:/THIENDHB_GOOGLEDRIVE/MASTER TILBURG/THESIS/\"\n",
    "    INPUT_DIR = BASE_DIR + \"DATASET/INPUT/\"\n",
    "    OUTPUT_DIR = BASE_DIR + \"DATASET/OUTPUT/\"\n",
    "elif os_name == 'posix':\n",
    "    \"\"\"Linux platform\"\"\"\n",
    "    BASE_DIR = \"/media/pinkalinux/WORK/THIENDHB_GOOGLEDRIVE/MASTER TILBURG/THESIS/\"\n",
    "    INPUT_DIR = BASE_DIR + \"DATASET/INPUT/\"\n",
    "    OUTPUT_DIR = BASE_DIR + \"DATASET/OUTPUT/\"\n",
    "\n",
    "SEED = 6886\n",
    "%matplotlib inline"
   ]
  },
  {
   "cell_type": "markdown",
   "metadata": {},
   "source": [
    "## Import data"
   ]
  },
  {
   "cell_type": "code",
   "execution_count": 3,
   "metadata": {},
   "outputs": [
    {
     "data": {
      "text/plain": [
       "(18992, 300)"
      ]
     },
     "execution_count": 3,
     "metadata": {},
     "output_type": "execute_result"
    }
   ],
   "source": [
    "title_embeddings = np.load(OUTPUT_DIR + \"title_embeddings.npy\")\n",
    "title_embeddings.shape"
   ]
  },
  {
   "cell_type": "markdown",
   "metadata": {},
   "source": [
    "## Test cluster tendency"
   ]
  },
  {
   "cell_type": "code",
   "execution_count": 4,
   "metadata": {},
   "outputs": [],
   "source": [
    "def get_hopkins_stats(X, n):\n",
    "    \"\"\"\n",
    "    Function to run the Hopkins test to test the cluster tendency\n",
    "    Inputs:\n",
    "    - X: dataset to test \n",
    "    - n: sample size to test\n",
    "    Return:\n",
    "    - Hopkins statistics (= 1 - H): Closer to 0 means cluster tendency. \n",
    "    - Duration: time spent in minutes to run the Hopkins test\n",
    "    \"\"\"\n",
    "    start_hopkin_time = datetime.now()\n",
    "    print(\n",
    "        \"n =\", n,\n",
    "        \"\\nStart computing Hopkins statistic\",\n",
    "        start_hopkin_time.strftime(\"%Y-%m-%d %H:%M:%S.%f\"),\n",
    "    )\n",
    "\n",
    "    h_stat = hopkins(X, n)\n",
    "\n",
    "    end_hopkin_time = datetime.now()\n",
    "    print(\n",
    "        \"End computing Hopkins statistic\",\n",
    "        end_hopkin_time.strftime(\"%Y-%m-%d %H:%M:%S.%f\")\n",
    "    )\n",
    "    print(\"Duration\", end_hopkin_time - start_hopkin_time)\n",
    "    print('Hopkins statistics =', h_stat)\n",
    "    return h_stat, round((end_hopkin_time - start_hopkin_time).seconds/60, 2)"
   ]
  },
  {
   "cell_type": "code",
   "execution_count": 8,
   "metadata": {},
   "outputs": [
    {
     "name": "stderr",
     "output_type": "stream",
     "text": [
      "\n",
      "Running Hopkins test:   0%|                                                                      | 0/5 [00:00<?, ?it/s]\u001b[A"
     ]
    },
    {
     "name": "stdout",
     "output_type": "stream",
     "text": [
      "n = 50 \n",
      "Start computing Hopkins statistic 2021-05-17 14:02:38.186160\n"
     ]
    },
    {
     "name": "stderr",
     "output_type": "stream",
     "text": [
      "\n",
      "Running Hopkins test:  20%|████████████▍                                                 | 1/5 [00:03<00:14,  3.57s/it]\u001b[A"
     ]
    },
    {
     "name": "stdout",
     "output_type": "stream",
     "text": [
      "End computing Hopkins statistic 2021-05-17 14:02:41.750163\n",
      "Duration 0:00:03.564003\n",
      "Hopkins statistics = 0.051022755850972816\n",
      "n = 100 \n",
      "Start computing Hopkins statistic 2021-05-17 14:02:41.754162\n"
     ]
    },
    {
     "name": "stderr",
     "output_type": "stream",
     "text": [
      "\n",
      "Running Hopkins test:  40%|████████████████████████▊                                     | 2/5 [00:07<00:11,  3.93s/it]\u001b[A"
     ]
    },
    {
     "name": "stdout",
     "output_type": "stream",
     "text": [
      "End computing Hopkins statistic 2021-05-17 14:02:45.939158\n",
      "Duration 0:00:04.184996\n",
      "Hopkins statistics = 0.062280359369503116\n",
      "n = 1000 \n",
      "Start computing Hopkins statistic 2021-05-17 14:02:45.941175\n"
     ]
    },
    {
     "name": "stderr",
     "output_type": "stream",
     "text": [
      "\n",
      "Running Hopkins test:  60%|█████████████████████████████████████▏                        | 3/5 [00:24<00:19,  9.71s/it]\u001b[A"
     ]
    },
    {
     "name": "stdout",
     "output_type": "stream",
     "text": [
      "End computing Hopkins statistic 2021-05-17 14:03:02.531194\n",
      "Duration 0:00:16.590019\n",
      "Hopkins statistics = 0.057781820855310695\n",
      "n = 5000 \n",
      "Start computing Hopkins statistic 2021-05-17 14:03:02.534195\n"
     ]
    },
    {
     "name": "stderr",
     "output_type": "stream",
     "text": [
      "\n",
      "Running Hopkins test:  80%|█████████████████████████████████████████████████▌            | 4/5 [01:36<00:34, 34.20s/it]\u001b[A"
     ]
    },
    {
     "name": "stdout",
     "output_type": "stream",
     "text": [
      "End computing Hopkins statistic 2021-05-17 14:04:14.269237\n",
      "Duration 0:01:11.735042\n",
      "Hopkins statistics = 0.05711136666156168\n",
      "n = 10000 \n",
      "Start computing Hopkins statistic 2021-05-17 14:04:14.271195\n"
     ]
    },
    {
     "name": "stderr",
     "output_type": "stream",
     "text": [
      "\n",
      "Running Hopkins test: 100%|██████████████████████████████████████████████████████████████| 5/5 [03:55<00:00, 47.02s/it]\u001b[A"
     ]
    },
    {
     "name": "stdout",
     "output_type": "stream",
     "text": [
      "End computing Hopkins statistic 2021-05-17 14:06:33.275789\n",
      "Duration 0:02:19.004594\n",
      "Hopkins statistics = 0.05744909443742822\n"
     ]
    },
    {
     "name": "stderr",
     "output_type": "stream",
     "text": [
      "\n"
     ]
    }
   ],
   "source": [
    "# Test the cluster tendency of data\n",
    "n_sample_list = [50, 100, 1000, 5000, 10000]\n",
    "hopkins_list = []\n",
    "duration_list = []\n",
    "\n",
    "tqdm_bar = tqdm(desc=\"Running Hopkins test\", total=len(n_sample_list))\n",
    "for n in n_sample_list:\n",
    "    hopkins_stat, duration = get_hopkins_stats(title_embeddings, n)\n",
    "    hopkins_list.append(hopkins_stat)\n",
    "    duration_list.append(duration)\n",
    "    tqdm_bar.update(1)\n",
    "tqdm_bar.close()"
   ]
  },
  {
   "cell_type": "code",
   "execution_count": 9,
   "metadata": {},
   "outputs": [],
   "source": [
    "hopkins_result_df = pd.DataFrame(\n",
    "    {\n",
    "        \"dataset\": [\"title_embeddings\"]*len(n_sample_list),\n",
    "        \"dataset_size\": [title_embeddings.shape]*len(n_sample_list),\n",
    "        \"n\": n_sample_list,\n",
    "        \"hopkins_stastitics\": hopkins_list,\n",
    "        \"test_duration\": duration_list\n",
    "    }\n",
    ")"
   ]
  },
  {
   "cell_type": "code",
   "execution_count": 10,
   "metadata": {},
   "outputs": [
    {
     "data": {
      "text/html": [
       "<div>\n",
       "<style scoped>\n",
       "    .dataframe tbody tr th:only-of-type {\n",
       "        vertical-align: middle;\n",
       "    }\n",
       "\n",
       "    .dataframe tbody tr th {\n",
       "        vertical-align: top;\n",
       "    }\n",
       "\n",
       "    .dataframe thead th {\n",
       "        text-align: right;\n",
       "    }\n",
       "</style>\n",
       "<table border=\"1\" class=\"dataframe\">\n",
       "  <thead>\n",
       "    <tr style=\"text-align: right;\">\n",
       "      <th></th>\n",
       "      <th>dataset</th>\n",
       "      <th>dataset_size</th>\n",
       "      <th>n</th>\n",
       "      <th>hopkins_stastitics</th>\n",
       "      <th>test_duration</th>\n",
       "    </tr>\n",
       "  </thead>\n",
       "  <tbody>\n",
       "    <tr>\n",
       "      <th>0</th>\n",
       "      <td>title_embeddings</td>\n",
       "      <td>(18992, 300)</td>\n",
       "      <td>50</td>\n",
       "      <td>0.051023</td>\n",
       "      <td>0 days 00:00:03.564003</td>\n",
       "    </tr>\n",
       "    <tr>\n",
       "      <th>1</th>\n",
       "      <td>title_embeddings</td>\n",
       "      <td>(18992, 300)</td>\n",
       "      <td>100</td>\n",
       "      <td>0.062280</td>\n",
       "      <td>0 days 00:00:04.184996</td>\n",
       "    </tr>\n",
       "    <tr>\n",
       "      <th>2</th>\n",
       "      <td>title_embeddings</td>\n",
       "      <td>(18992, 300)</td>\n",
       "      <td>1000</td>\n",
       "      <td>0.057782</td>\n",
       "      <td>0 days 00:00:16.590019</td>\n",
       "    </tr>\n",
       "    <tr>\n",
       "      <th>3</th>\n",
       "      <td>title_embeddings</td>\n",
       "      <td>(18992, 300)</td>\n",
       "      <td>5000</td>\n",
       "      <td>0.057111</td>\n",
       "      <td>0 days 00:01:11.735042</td>\n",
       "    </tr>\n",
       "    <tr>\n",
       "      <th>4</th>\n",
       "      <td>title_embeddings</td>\n",
       "      <td>(18992, 300)</td>\n",
       "      <td>10000</td>\n",
       "      <td>0.057449</td>\n",
       "      <td>0 days 00:02:19.004594</td>\n",
       "    </tr>\n",
       "  </tbody>\n",
       "</table>\n",
       "</div>"
      ],
      "text/plain": [
       "            dataset  dataset_size      n  hopkins_stastitics  \\\n",
       "0  title_embeddings  (18992, 300)     50            0.051023   \n",
       "1  title_embeddings  (18992, 300)    100            0.062280   \n",
       "2  title_embeddings  (18992, 300)   1000            0.057782   \n",
       "3  title_embeddings  (18992, 300)   5000            0.057111   \n",
       "4  title_embeddings  (18992, 300)  10000            0.057449   \n",
       "\n",
       "           test_duration  \n",
       "0 0 days 00:00:03.564003  \n",
       "1 0 days 00:00:04.184996  \n",
       "2 0 days 00:00:16.590019  \n",
       "3 0 days 00:01:11.735042  \n",
       "4 0 days 00:02:19.004594  "
      ]
     },
     "execution_count": 10,
     "metadata": {},
     "output_type": "execute_result"
    }
   ],
   "source": [
    "hopkins_result_df"
   ]
  },
  {
   "cell_type": "code",
   "execution_count": 11,
   "metadata": {},
   "outputs": [],
   "source": [
    "hopkins_result_df.to_csv(\n",
    "    OUTPUT_DIR + \"title_hopkins_test_result.csv\", index=False\n",
    ")"
   ]
  },
  {
   "cell_type": "code",
   "execution_count": null,
   "metadata": {},
   "outputs": [],
   "source": []
  }
 ],
 "metadata": {
  "kernelspec": {
   "display_name": "Python 3",
   "language": "python",
   "name": "python3"
  },
  "language_info": {
   "codemirror_mode": {
    "name": "ipython",
    "version": 3
   },
   "file_extension": ".py",
   "mimetype": "text/x-python",
   "name": "python",
   "nbconvert_exporter": "python",
   "pygments_lexer": "ipython3",
   "version": "3.8.5"
  }
 },
 "nbformat": 4,
 "nbformat_minor": 4
}
