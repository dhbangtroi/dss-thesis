{
 "cells": [
  {
   "cell_type": "markdown",
   "metadata": {},
   "source": [
    "## Import libraries"
   ]
  },
  {
   "cell_type": "code",
   "execution_count": 6,
   "metadata": {},
   "outputs": [],
   "source": [
    "# Libraries to work cross-platform\n",
    "import os\n",
    "\n",
    "# Libraries to work with dataset\n",
    "import numpy as np\n",
    "# import dask.array as da\n",
    "import dask.dataframe as dd\n",
    "import pandas as pd\n",
    "\n",
    "# Libraries to detect important features\n",
    "from sklearn.ensemble import RandomForestClassifier as RF\n",
    "\n",
    "# Libraries to visualize data\n",
    "import matplotlib.pyplot as plt\n",
    "\n",
    "# Libraries for monitoring operation process\n",
    "from tqdm import tqdm"
   ]
  },
  {
   "cell_type": "markdown",
   "metadata": {},
   "source": [
    "## Configurate and declare global variables"
   ]
  },
  {
   "cell_type": "code",
   "execution_count": 7,
   "metadata": {},
   "outputs": [],
   "source": [
    "os_name = os.name\n",
    "\n",
    "if os_name == 'nt':\n",
    "    BASE_DIR = \"E:/THIENDHB_GOOGLEDRIVE/MASTER TILBURG/THESIS/\"\n",
    "    INPUT_DIR = BASE_DIR + \"DATASET/INPUT/\"\n",
    "    OUTPUT_DIR = BASE_DIR + \"DATASET/OUTPUT/\"\n",
    "elif os_name == 'posix':\n",
    "    BASE_DIR = \"/media/pinkalinux/WORK/THIENDHB_GOOGLEDRIVE/MASTER TILBURG/THESIS/\"\n",
    "    INPUT_DIR = BASE_DIR + \"DATASET/INPUT/\"\n",
    "    OUTPUT_DIR = BASE_DIR + \"DATASET/OUTPUT/\"\n",
    "\n",
    "SEED = 6886\n",
    "\n",
    "%matplotlib inline"
   ]
  },
  {
   "cell_type": "markdown",
   "metadata": {},
   "source": [
    "## Import data"
   ]
  },
  {
   "cell_type": "code",
   "execution_count": 8,
   "metadata": {},
   "outputs": [],
   "source": [
    "# Load document embeddings of skill concatenating in numpy format file\n",
    "skill_concat_zip = np.load(OUTPUT_DIR + \"skill_wide_embeddings.npz\")\n",
    "skill_concat_embeddings = skill_concat_zip['skill_wide_embeddings']"
   ]
  },
  {
   "cell_type": "code",
   "execution_count": 9,
   "metadata": {},
   "outputs": [],
   "source": [
    "# skill_wide_embeddings = da.from_array(skill_concat_embeddings)"
   ]
  },
  {
   "cell_type": "code",
   "execution_count": 10,
   "metadata": {},
   "outputs": [
    {
     "data": {
      "text/plain": [
       "(361584, 900)"
      ]
     },
     "execution_count": 10,
     "metadata": {},
     "output_type": "execute_result"
    }
   ],
   "source": [
    "skill_concat_embeddings_df = pd.DataFrame(skill_concat_embeddings)\n",
    "skill_concat_embeddings_df.shape"
   ]
  },
  {
   "cell_type": "code",
   "execution_count": 11,
   "metadata": {},
   "outputs": [
    {
     "data": {
      "text/html": [
       "<div>\n",
       "<style scoped>\n",
       "    .dataframe tbody tr th:only-of-type {\n",
       "        vertical-align: middle;\n",
       "    }\n",
       "\n",
       "    .dataframe tbody tr th {\n",
       "        vertical-align: top;\n",
       "    }\n",
       "\n",
       "    .dataframe thead th {\n",
       "        text-align: right;\n",
       "    }\n",
       "</style>\n",
       "<table border=\"1\" class=\"dataframe\">\n",
       "  <thead>\n",
       "    <tr style=\"text-align: right;\">\n",
       "      <th></th>\n",
       "      <th>0</th>\n",
       "      <th>1</th>\n",
       "      <th>2</th>\n",
       "      <th>3</th>\n",
       "      <th>4</th>\n",
       "      <th>5</th>\n",
       "      <th>6</th>\n",
       "      <th>7</th>\n",
       "      <th>8</th>\n",
       "      <th>9</th>\n",
       "      <th>...</th>\n",
       "      <th>890</th>\n",
       "      <th>891</th>\n",
       "      <th>892</th>\n",
       "      <th>893</th>\n",
       "      <th>894</th>\n",
       "      <th>895</th>\n",
       "      <th>896</th>\n",
       "      <th>897</th>\n",
       "      <th>898</th>\n",
       "      <th>899</th>\n",
       "    </tr>\n",
       "  </thead>\n",
       "  <tbody>\n",
       "    <tr>\n",
       "      <th>0</th>\n",
       "      <td>-0.101796</td>\n",
       "      <td>0.363078</td>\n",
       "      <td>0.042792</td>\n",
       "      <td>-0.489065</td>\n",
       "      <td>0.122118</td>\n",
       "      <td>0.173836</td>\n",
       "      <td>0.047916</td>\n",
       "      <td>-0.207800</td>\n",
       "      <td>-0.026969</td>\n",
       "      <td>1.656225</td>\n",
       "      <td>...</td>\n",
       "      <td>-0.280528</td>\n",
       "      <td>0.080700</td>\n",
       "      <td>0.09417</td>\n",
       "      <td>-0.137940</td>\n",
       "      <td>0.104393</td>\n",
       "      <td>-0.234298</td>\n",
       "      <td>-0.127686</td>\n",
       "      <td>0.056547</td>\n",
       "      <td>-0.124596</td>\n",
       "      <td>0.211194</td>\n",
       "    </tr>\n",
       "    <tr>\n",
       "      <th>1</th>\n",
       "      <td>-0.257782</td>\n",
       "      <td>0.178756</td>\n",
       "      <td>-0.144927</td>\n",
       "      <td>0.017641</td>\n",
       "      <td>0.015550</td>\n",
       "      <td>0.263644</td>\n",
       "      <td>0.162037</td>\n",
       "      <td>-0.180790</td>\n",
       "      <td>0.029007</td>\n",
       "      <td>2.332600</td>\n",
       "      <td>...</td>\n",
       "      <td>-0.369034</td>\n",
       "      <td>-0.101637</td>\n",
       "      <td>0.06639</td>\n",
       "      <td>0.368735</td>\n",
       "      <td>-0.241632</td>\n",
       "      <td>-0.265535</td>\n",
       "      <td>0.302495</td>\n",
       "      <td>-0.222885</td>\n",
       "      <td>0.080753</td>\n",
       "      <td>0.009460</td>\n",
       "    </tr>\n",
       "    <tr>\n",
       "      <th>2</th>\n",
       "      <td>-0.222878</td>\n",
       "      <td>-0.007662</td>\n",
       "      <td>0.269970</td>\n",
       "      <td>-0.097579</td>\n",
       "      <td>-0.243062</td>\n",
       "      <td>0.005437</td>\n",
       "      <td>0.131355</td>\n",
       "      <td>-0.084797</td>\n",
       "      <td>0.086806</td>\n",
       "      <td>2.879733</td>\n",
       "      <td>...</td>\n",
       "      <td>-0.281284</td>\n",
       "      <td>0.016800</td>\n",
       "      <td>-0.04405</td>\n",
       "      <td>0.152550</td>\n",
       "      <td>-0.098808</td>\n",
       "      <td>-0.323907</td>\n",
       "      <td>-0.126676</td>\n",
       "      <td>-0.166446</td>\n",
       "      <td>0.309133</td>\n",
       "      <td>0.003908</td>\n",
       "    </tr>\n",
       "  </tbody>\n",
       "</table>\n",
       "<p>3 rows × 900 columns</p>\n",
       "</div>"
      ],
      "text/plain": [
       "        0         1         2         3         4         5         6    \\\n",
       "0 -0.101796  0.363078  0.042792 -0.489065  0.122118  0.173836  0.047916   \n",
       "1 -0.257782  0.178756 -0.144927  0.017641  0.015550  0.263644  0.162037   \n",
       "2 -0.222878 -0.007662  0.269970 -0.097579 -0.243062  0.005437  0.131355   \n",
       "\n",
       "        7         8         9    ...       890       891      892       893  \\\n",
       "0 -0.207800 -0.026969  1.656225  ... -0.280528  0.080700  0.09417 -0.137940   \n",
       "1 -0.180790  0.029007  2.332600  ... -0.369034 -0.101637  0.06639  0.368735   \n",
       "2 -0.084797  0.086806  2.879733  ... -0.281284  0.016800 -0.04405  0.152550   \n",
       "\n",
       "        894       895       896       897       898       899  \n",
       "0  0.104393 -0.234298 -0.127686  0.056547 -0.124596  0.211194  \n",
       "1 -0.241632 -0.265535  0.302495 -0.222885  0.080753  0.009460  \n",
       "2 -0.098808 -0.323907 -0.126676 -0.166446  0.309133  0.003908  \n",
       "\n",
       "[3 rows x 900 columns]"
      ]
     },
     "execution_count": 11,
     "metadata": {},
     "output_type": "execute_result"
    }
   ],
   "source": [
    "skill_concat_embeddings_df.head(3)"
   ]
  },
  {
   "cell_type": "markdown",
   "metadata": {},
   "source": [
    "## Detect important features"
   ]
  },
  {
   "cell_type": "code",
   "execution_count": 12,
   "metadata": {},
   "outputs": [],
   "source": [
    "# def create_synthetic_data(X, seed=6886):\n",
    "#     \"\"\"\n",
    "#     Creates synthetic data\n",
    "#     :param X: data needed to create synthetic data\n",
    "#     :param seed: seed to fix numpy random function\n",
    "#     :return: synthetic data made from X\n",
    "#     \"\"\"\n",
    "#     nof_objects = X.shape[0]\n",
    "#     nof_features = X.shape[1]\n",
    "#     da.random.seed(seed)\n",
    "\n",
    "#     synthetic_X = da.zeros(X.shape)\n",
    "\n",
    "#     pbar = tqdm(desc=\"Creating synthetic data\", total=len(range(nof_features)))\n",
    "#     for f in range(nof_features):\n",
    "#         feature_values = X[:, f]\n",
    "#         synthetic_X[:, f] += da.random.choice(feature_values, nof_objects)\n",
    "#         feature_values = None\n",
    "#         pbar.update(1)\n",
    "#     pbar.close()\n",
    "\n",
    "#     synthetic_Y = da.zeros(nof_objects)\n",
    "# #     X_total = da.concatenate([X, synthetic_X])\n",
    "# #     Y_total = da.concatenate(\n",
    "# #         [\n",
    "# #             da.zeros(nof_objects),\n",
    "# #             da.ones(nof_objects),\n",
    "# #         ]\n",
    "# #     )\n",
    "\n",
    "# #     return X_total, Y_total\n",
    "#     return synthetic_X, synthetic_Y"
   ]
  },
  {
   "cell_type": "code",
   "execution_count": 13,
   "metadata": {},
   "outputs": [],
   "source": [
    "# Create new dataset including synthetic data\n",
    "# X_total, Y_total = create_synthetic_data(skill_wide_embeddings, seed=SEED)\n",
    "# X_synthetic, Y_synthetic = create_synthetic_data(skill_wide_embeddings, seed=SEED)"
   ]
  },
  {
   "cell_type": "code",
   "execution_count": 14,
   "metadata": {},
   "outputs": [
    {
     "name": "stderr",
     "output_type": "stream",
     "text": [
      "Creating synthetic data: 100%|███████████████████████████████████████████████████████| 900/900 [00:32<00:00, 27.72it/s]\n"
     ]
    }
   ],
   "source": [
    "# Create synthetic data\n",
    "np.random.seed(SEED)\n",
    "tqdm.pandas(desc=\"Creating synthetic data\")\n",
    "X_synthetic = skill_concat_embeddings_df.progress_apply(np.random.permutation, axis=0)"
   ]
  },
  {
   "cell_type": "code",
   "execution_count": 15,
   "metadata": {},
   "outputs": [
    {
     "data": {
      "text/plain": [
       "(361584, 900)"
      ]
     },
     "execution_count": 15,
     "metadata": {},
     "output_type": "execute_result"
    }
   ],
   "source": [
    "X_synthetic.shape"
   ]
  },
  {
   "cell_type": "code",
   "execution_count": 16,
   "metadata": {},
   "outputs": [
    {
     "data": {
      "text/html": [
       "<div>\n",
       "<style scoped>\n",
       "    .dataframe tbody tr th:only-of-type {\n",
       "        vertical-align: middle;\n",
       "    }\n",
       "\n",
       "    .dataframe tbody tr th {\n",
       "        vertical-align: top;\n",
       "    }\n",
       "\n",
       "    .dataframe thead th {\n",
       "        text-align: right;\n",
       "    }\n",
       "</style>\n",
       "<table border=\"1\" class=\"dataframe\">\n",
       "  <thead>\n",
       "    <tr style=\"text-align: right;\">\n",
       "      <th></th>\n",
       "      <th>0</th>\n",
       "      <th>1</th>\n",
       "      <th>2</th>\n",
       "      <th>3</th>\n",
       "      <th>4</th>\n",
       "      <th>5</th>\n",
       "      <th>6</th>\n",
       "      <th>7</th>\n",
       "      <th>8</th>\n",
       "      <th>9</th>\n",
       "      <th>...</th>\n",
       "      <th>890</th>\n",
       "      <th>891</th>\n",
       "      <th>892</th>\n",
       "      <th>893</th>\n",
       "      <th>894</th>\n",
       "      <th>895</th>\n",
       "      <th>896</th>\n",
       "      <th>897</th>\n",
       "      <th>898</th>\n",
       "      <th>899</th>\n",
       "    </tr>\n",
       "  </thead>\n",
       "  <tbody>\n",
       "    <tr>\n",
       "      <th>0</th>\n",
       "      <td>0.000000</td>\n",
       "      <td>0.00000</td>\n",
       "      <td>0.437755</td>\n",
       "      <td>0.00000</td>\n",
       "      <td>0.00000</td>\n",
       "      <td>0.0</td>\n",
       "      <td>0.0</td>\n",
       "      <td>-0.204347</td>\n",
       "      <td>0.071551</td>\n",
       "      <td>0.0000</td>\n",
       "      <td>...</td>\n",
       "      <td>0.000000</td>\n",
       "      <td>0.000000</td>\n",
       "      <td>0.022705</td>\n",
       "      <td>0.022000</td>\n",
       "      <td>-0.261864</td>\n",
       "      <td>0.145511</td>\n",
       "      <td>0.306658</td>\n",
       "      <td>-0.27167</td>\n",
       "      <td>-0.268533</td>\n",
       "      <td>0.283195</td>\n",
       "    </tr>\n",
       "    <tr>\n",
       "      <th>1</th>\n",
       "      <td>0.000000</td>\n",
       "      <td>0.19675</td>\n",
       "      <td>0.242350</td>\n",
       "      <td>-0.13796</td>\n",
       "      <td>-0.07734</td>\n",
       "      <td>0.0</td>\n",
       "      <td>0.0</td>\n",
       "      <td>0.000000</td>\n",
       "      <td>0.001731</td>\n",
       "      <td>2.4043</td>\n",
       "      <td>...</td>\n",
       "      <td>-0.598605</td>\n",
       "      <td>0.051508</td>\n",
       "      <td>-0.015620</td>\n",
       "      <td>-0.306160</td>\n",
       "      <td>0.491760</td>\n",
       "      <td>-0.035411</td>\n",
       "      <td>0.281670</td>\n",
       "      <td>0.18763</td>\n",
       "      <td>0.097490</td>\n",
       "      <td>-0.051246</td>\n",
       "    </tr>\n",
       "    <tr>\n",
       "      <th>2</th>\n",
       "      <td>0.042484</td>\n",
       "      <td>0.00000</td>\n",
       "      <td>0.000000</td>\n",
       "      <td>0.00000</td>\n",
       "      <td>0.00000</td>\n",
       "      <td>0.0</td>\n",
       "      <td>0.0</td>\n",
       "      <td>0.000000</td>\n",
       "      <td>0.000000</td>\n",
       "      <td>1.8147</td>\n",
       "      <td>...</td>\n",
       "      <td>-0.297265</td>\n",
       "      <td>0.095316</td>\n",
       "      <td>-0.012835</td>\n",
       "      <td>0.085569</td>\n",
       "      <td>-0.148940</td>\n",
       "      <td>0.140822</td>\n",
       "      <td>-0.176300</td>\n",
       "      <td>0.45456</td>\n",
       "      <td>-0.002288</td>\n",
       "      <td>-0.014105</td>\n",
       "    </tr>\n",
       "  </tbody>\n",
       "</table>\n",
       "<p>3 rows × 900 columns</p>\n",
       "</div>"
      ],
      "text/plain": [
       "        0        1         2        3        4    5    6         7    \\\n",
       "0  0.000000  0.00000  0.437755  0.00000  0.00000  0.0  0.0 -0.204347   \n",
       "1  0.000000  0.19675  0.242350 -0.13796 -0.07734  0.0  0.0  0.000000   \n",
       "2  0.042484  0.00000  0.000000  0.00000  0.00000  0.0  0.0  0.000000   \n",
       "\n",
       "        8       9    ...       890       891       892       893       894  \\\n",
       "0  0.071551  0.0000  ...  0.000000  0.000000  0.022705  0.022000 -0.261864   \n",
       "1  0.001731  2.4043  ... -0.598605  0.051508 -0.015620 -0.306160  0.491760   \n",
       "2  0.000000  1.8147  ... -0.297265  0.095316 -0.012835  0.085569 -0.148940   \n",
       "\n",
       "        895       896      897       898       899  \n",
       "0  0.145511  0.306658 -0.27167 -0.268533  0.283195  \n",
       "1 -0.035411  0.281670  0.18763  0.097490 -0.051246  \n",
       "2  0.140822 -0.176300  0.45456 -0.002288 -0.014105  \n",
       "\n",
       "[3 rows x 900 columns]"
      ]
     },
     "execution_count": 16,
     "metadata": {},
     "output_type": "execute_result"
    }
   ],
   "source": [
    "X_synthetic.head(3)"
   ]
  },
  {
   "cell_type": "code",
   "execution_count": 17,
   "metadata": {},
   "outputs": [],
   "source": [
    "# Merge authentic and synthetic data\n",
    "X_total = np.concatenate([skill_concat_embeddings_df, X_synthetic])\n",
    "Y_total = np.concatenate(\n",
    "    [\n",
    "        np.ones(skill_concat_embeddings.shape[0]),\n",
    "        np.zeros(skill_concat_embeddings.shape[0]),\n",
    "    ]\n",
    ")"
   ]
  },
  {
   "cell_type": "code",
   "execution_count": 18,
   "metadata": {},
   "outputs": [
    {
     "data": {
      "text/plain": [
       "((723168, 900), (723168,))"
      ]
     },
     "execution_count": 18,
     "metadata": {},
     "output_type": "execute_result"
    }
   ],
   "source": [
    "X_total.shape, Y_total.shape"
   ]
  },
  {
   "cell_type": "code",
   "execution_count": 19,
   "metadata": {},
   "outputs": [
    {
     "data": {
      "text/plain": [
       "(900,\n",
       " ['desc_295',\n",
       "  'desc_296',\n",
       "  'desc_297',\n",
       "  'desc_298',\n",
       "  'desc_299',\n",
       "  'req_0',\n",
       "  'req_1',\n",
       "  'req_2',\n",
       "  'req_3',\n",
       "  'req_4'],\n",
       " ['req_295',\n",
       "  'req_296',\n",
       "  'req_297',\n",
       "  'req_298',\n",
       "  'req_299',\n",
       "  'qual_0',\n",
       "  'qual_1',\n",
       "  'qual_2',\n",
       "  'qual_3',\n",
       "  'qual_4'])"
      ]
     },
     "execution_count": 19,
     "metadata": {},
     "output_type": "execute_result"
    }
   ],
   "source": [
    "desc_cols = ['desc_' + str(i) for i in range(300)]\n",
    "req_cols = ['req_' + str(i) for i in range(300)]\n",
    "qual_cols = ['qual_' + str(i) for i in range(300)]\n",
    "token_cols = desc_cols + req_cols + qual_cols\n",
    "len(token_cols), token_cols[295:305], token_cols[595:605]"
   ]
  },
  {
   "cell_type": "code",
   "execution_count": 23,
   "metadata": {},
   "outputs": [],
   "source": [
    "# Save synthetic data and merged data to file\n",
    "dd.to_parquet(\n",
    "    dd.from_pandas(pd.DataFrame(X_total, columns=token_cols), npartitions=20),\n",
    "    OUTPUT_DIR + \"skill_synthetic_data/total/\",\n",
    ")"
   ]
  },
  {
   "cell_type": "code",
   "execution_count": 25,
   "metadata": {},
   "outputs": [],
   "source": [
    "pd.DataFrame(Y_total).to_csv(\n",
    "    OUTPUT_DIR + \"skill_synthetic_data/Y_total.csv\", index=False\n",
    ")"
   ]
  },
  {
   "cell_type": "code",
   "execution_count": 22,
   "metadata": {},
   "outputs": [],
   "source": [
    "dd.to_parquet(\n",
    "    dd.from_pandas(X_synthetic, npartitions=10), OUTPUT_DIR + \"skill_synthetic_data/synthetic/\"\n",
    ")"
   ]
  },
  {
   "cell_type": "code",
   "execution_count": 27,
   "metadata": {},
   "outputs": [
    {
     "name": "stderr",
     "output_type": "stream",
     "text": [
      "[Parallel(n_jobs=-1)]: Using backend ThreadingBackend with 8 concurrent workers.\n"
     ]
    },
    {
     "name": "stdout",
     "output_type": "stream",
     "text": [
      "building tree 1 of 200building tree 2 of 200\n",
      "building tree 3 of 200\n",
      "building tree 4 of 200\n",
      "\n",
      "building tree 5 of 200\n",
      "building tree 6 of 200building tree 7 of 200\n",
      "building tree 8 of 200\n",
      "\n",
      "building tree 9 of 200\n",
      "building tree 10 of 200\n",
      "building tree 11 of 200\n",
      "building tree 12 of 200\n",
      "building tree 13 of 200\n",
      "building tree 14 of 200\n",
      "building tree 15 of 200\n",
      "building tree 16 of 200\n",
      "building tree 17 of 200\n",
      "building tree 18 of 200\n",
      "building tree 19 of 200\n",
      "building tree 20 of 200\n",
      "building tree 21 of 200\n",
      "building tree 22 of 200\n",
      "building tree 23 of 200\n",
      "building tree 24 of 200\n",
      "building tree 25 of 200\n",
      "building tree 26 of 200\n",
      "building tree 27 of 200\n",
      "building tree 28 of 200\n",
      "building tree 29 of 200\n",
      "building tree 30 of 200\n",
      "building tree 31 of 200\n",
      "building tree 32 of 200\n"
     ]
    },
    {
     "name": "stderr",
     "output_type": "stream",
     "text": [
      "[Parallel(n_jobs=-1)]: Done  25 tasks      | elapsed:  4.5min\n"
     ]
    },
    {
     "name": "stdout",
     "output_type": "stream",
     "text": [
      "building tree 33 of 200\n",
      "building tree 34 of 200\n",
      "building tree 35 of 200\n",
      "building tree 36 of 200\n",
      "building tree 37 of 200\n",
      "building tree 38 of 200\n",
      "building tree 39 of 200\n",
      "building tree 40 of 200\n",
      "building tree 41 of 200\n",
      "building tree 42 of 200\n",
      "building tree 43 of 200\n",
      "building tree 44 of 200\n",
      "building tree 45 of 200\n",
      "building tree 46 of 200\n",
      "building tree 47 of 200\n",
      "building tree 48 of 200\n",
      "building tree 49 of 200\n",
      "building tree 50 of 200\n",
      "building tree 51 of 200\n",
      "building tree 52 of 200\n",
      "building tree 53 of 200\n",
      "building tree 54 of 200\n",
      "building tree 55 of 200\n",
      "building tree 56 of 200\n",
      "building tree 57 of 200\n",
      "building tree 58 of 200\n",
      "building tree 59 of 200\n",
      "building tree 60 of 200\n",
      "building tree 61 of 200\n",
      "building tree 62 of 200\n",
      "building tree 63 of 200\n",
      "building tree 64 of 200\n",
      "building tree 65 of 200\n",
      "building tree 66 of 200\n",
      "building tree 67 of 200\n",
      "building tree 68 of 200\n",
      "building tree 69 of 200\n",
      "building tree 70 of 200\n",
      "building tree 71 of 200\n",
      "building tree 72 of 200\n",
      "building tree 73 of 200\n",
      "building tree 74 of 200\n",
      "building tree 75 of 200\n",
      "building tree 76 of 200\n",
      "building tree 77 of 200\n",
      "building tree 78 of 200\n",
      "building tree 79 of 200\n",
      "building tree 80 of 200\n",
      "building tree 81 of 200\n",
      "building tree 82 of 200\n",
      "building tree 83 of 200\n",
      "building tree 84 of 200\n",
      "building tree 85 of 200\n",
      "building tree 86 of 200\n",
      "building tree 87 of 200\n",
      "building tree 88 of 200\n",
      "building tree 89 of 200\n",
      "building tree 90 of 200\n",
      "building tree 91 of 200\n",
      "building tree 92 of 200\n",
      "building tree 93 of 200\n",
      "building tree 94 of 200\n",
      "building tree 95 of 200\n",
      "building tree 96 of 200\n",
      "building tree 97 of 200\n",
      "building tree 98 of 200\n",
      "building tree 99 of 200\n",
      "building tree 100 of 200\n",
      "building tree 101 of 200\n",
      "building tree 102 of 200\n",
      "building tree 103 of 200\n",
      "building tree 104 of 200\n",
      "building tree 105 of 200\n",
      "building tree 106 of 200\n",
      "building tree 107 of 200\n",
      "building tree 108 of 200\n",
      "building tree 109 of 200\n",
      "building tree 110 of 200\n",
      "building tree 111 of 200\n",
      "building tree 112 of 200\n",
      "building tree 113 of 200\n",
      "building tree 114 of 200\n",
      "building tree 115 of 200\n",
      "building tree 116 of 200\n",
      "building tree 117 of 200\n",
      "building tree 118 of 200\n",
      "building tree 119 of 200\n",
      "building tree 120 of 200\n",
      "building tree 121 of 200\n",
      "building tree 122 of 200\n",
      "building tree 123 of 200\n",
      "building tree 124 of 200\n",
      "building tree 125 of 200\n",
      "building tree 126 of 200\n",
      "building tree 127 of 200\n",
      "building tree 128 of 200\n",
      "building tree 129 of 200\n",
      "building tree 130 of 200\n",
      "building tree 131 of 200\n",
      "building tree 132 of 200\n",
      "building tree 133 of 200\n",
      "building tree 134 of 200\n",
      "building tree 135 of 200\n",
      "building tree 136 of 200\n",
      "building tree 137 of 200\n",
      "building tree 138 of 200\n",
      "building tree 139 of 200\n",
      "building tree 140 of 200\n",
      "building tree 141 of 200\n",
      "building tree 142 of 200\n",
      "building tree 143 of 200\n",
      "building tree 144 of 200\n",
      "building tree 145 of 200\n",
      "building tree 146 of 200\n",
      "building tree 147 of 200\n",
      "building tree 148 of 200\n",
      "building tree 149 of 200\n",
      "building tree 150 of 200\n",
      "building tree 151 of 200\n",
      "building tree 152 of 200\n",
      "building tree 153 of 200\n"
     ]
    },
    {
     "name": "stderr",
     "output_type": "stream",
     "text": [
      "[Parallel(n_jobs=-1)]: Done 146 tasks      | elapsed: 23.7min\n"
     ]
    },
    {
     "name": "stdout",
     "output_type": "stream",
     "text": [
      "building tree 154 of 200\n",
      "building tree 155 of 200\n",
      "building tree 156 of 200\n",
      "building tree 157 of 200\n",
      "building tree 158 of 200\n",
      "building tree 159 of 200\n",
      "building tree 160 of 200\n",
      "building tree 161 of 200\n",
      "building tree 162 of 200\n",
      "building tree 163 of 200\n",
      "building tree 164 of 200\n",
      "building tree 165 of 200\n",
      "building tree 166 of 200\n",
      "building tree 167 of 200\n",
      "building tree 168 of 200\n",
      "building tree 169 of 200\n",
      "building tree 170 of 200\n",
      "building tree 171 of 200\n",
      "building tree 172 of 200\n",
      "building tree 173 of 200\n",
      "building tree 174 of 200\n",
      "building tree 175 of 200\n",
      "building tree 176 of 200\n",
      "building tree 177 of 200\n",
      "building tree 178 of 200\n",
      "building tree 179 of 200\n",
      "building tree 180 of 200\n",
      "building tree 181 of 200\n",
      "building tree 182 of 200\n",
      "building tree 183 of 200\n",
      "building tree 184 of 200\n",
      "building tree 185 of 200\n",
      "building tree 186 of 200\n",
      "building tree 187 of 200\n",
      "building tree 188 of 200\n",
      "building tree 189 of 200\n",
      "building tree 190 of 200\n",
      "building tree 191 of 200\n",
      "building tree 192 of 200\n",
      "building tree 193 of 200\n",
      "building tree 194 of 200\n",
      "building tree 195 of 200\n",
      "building tree 196 of 200\n",
      "building tree 197 of 200\n",
      "building tree 198 of 200\n",
      "building tree 199 of 200\n",
      "building tree 200 of 200\n"
     ]
    },
    {
     "name": "stderr",
     "output_type": "stream",
     "text": [
      "[Parallel(n_jobs=-1)]: Done 200 out of 200 | elapsed: 33.0min finished\n"
     ]
    }
   ],
   "source": [
    "# Run random forest on new dataset\n",
    "rf = RF(n_estimators=200, n_jobs=-1, random_state=SEED, verbose=2).fit(X_total, Y_total)\n",
    "feat_importance = rf.feature_importances_"
   ]
  },
  {
   "cell_type": "code",
   "execution_count": 54,
   "metadata": {},
   "outputs": [
    {
     "name": "stdout",
     "output_type": "stream",
     "text": [
      "['#009933', '#009933', '#009933', '#009933', '#009933', '#009933', '#009933', '#009933', '#009933', '#009933', '#27aee1', '#27aee1', '#27aee1', '#27aee1', '#27aee1', '#27aee1', '#27aee1', '#27aee1', '#27aee1', '#27aee1', '#27aee1', '#27aee1', '#27aee1', '#27aee1', '#27aee1', '#27aee1', '#27aee1', '#27aee1', '#27aee1', '#27aee1', '#27aee1', '#27aee1', '#27aee1', '#27aee1', '#27aee1', '#27aee1', '#27aee1', '#27aee1', '#27aee1', '#27aee1']\n",
      "['#27aee1' '#27aee1' '#27aee1' '#900c3f' '#009933' '#27aee1' '#900c3f'\n",
      " '#900c3f' '#27aee1' '#009933' '#009933' '#009933' '#27aee1' '#900c3f'\n",
      " '#900c3f' '#009933' '#27aee1' '#900c3f' '#27aee1' '#900c3f' '#009933'\n",
      " '#900c3f' '#900c3f' '#900c3f' '#27aee1' '#900c3f' '#009933' '#009933'\n",
      " '#900c3f' '#900c3f' '#27aee1' '#009933' '#27aee1' '#900c3f' '#27aee1'\n",
      " '#27aee1' '#900c3f' '#27aee1' '#27aee1' '#009933']\n"
     ]
    }
   ],
   "source": [
    "# Create color based on columns\n",
    "column_width = int(X_total.shape[1]/3)\n",
    "colors = ['#009933']*column_width  # job_description\n",
    "colors.extend(['#27aee1']*column_width)  # job_requirement\n",
    "colors.extend(['#900c3f']*column_width)  # job_qualification\n",
    "print(colors[290:330])\n",
    "\n",
    "indices = np.argsort(feat_importance)\n",
    "# print(indices[290:330])\n",
    "\n",
    "colors = np.array(colors)[indices]\n",
    "print(colors[290:330])"
   ]
  },
  {
   "cell_type": "code",
   "execution_count": 58,
   "metadata": {},
   "outputs": [
    {
     "data": {
      "image/png": "[encoded data removed]",
      "text/plain": [
       "<Figure size 720x1296 with 1 Axes>"
      ]
     },
     "metadata": {
      "needs_background": "light"
     },
     "output_type": "display_data"
    }
   ],
   "source": [
    "# Plot the feature importances of the forest\n",
    "indices = np.argsort(feat_importance)\n",
    "\n",
    "plt.figure(figsize=(10, 18))\n",
    "plt.title(\"Feature importances\")\n",
    "plt.barh(\n",
    "    range(X_total.shape[1]),\n",
    "    feat_importance[indices],\n",
    "    color=colors,\n",
    "    align=\"center\",\n",
    "    alpha=0.8,\n",
    ")\n",
    "plt.ylim([-1, X_total.shape[1]])\n",
    "plt.show()"
   ]
  },
  {
   "cell_type": "code",
   "execution_count": 59,
   "metadata": {},
   "outputs": [
    {
     "data": {
      "image/png": "[encoded data removed]",
      "text/plain": [
       "<Figure size 720x1296 with 1 Axes>"
      ]
     },
     "metadata": {
      "needs_background": "light"
     },
     "output_type": "display_data"
    }
   ],
   "source": [
    "# Plot the feature importances of the forest\n",
    "no_features = 100\n",
    "plt.figure(figsize=(10, 18))\n",
    "plt.title(\"Feature importances\")\n",
    "plt.barh(\n",
    "    range(no_features),\n",
    "    feat_importance[indices][-no_features:],\n",
    "    color=colors[-no_features:],\n",
    "    align=\"center\",\n",
    "    alpha=0.8,\n",
    ")\n",
    "plt.ylim([-1, no_features])\n",
    "plt.show()"
   ]
  },
  {
   "cell_type": "code",
   "execution_count": 60,
   "metadata": {},
   "outputs": [
    {
     "data": {
      "image/png": "[encoded data removed]",
      "text/plain": [
       "<Figure size 720x1296 with 1 Axes>"
      ]
     },
     "metadata": {
      "needs_background": "light"
     },
     "output_type": "display_data"
    }
   ],
   "source": [
    "# Plot the feature importances of the forest\n",
    "no_features = 200\n",
    "plt.figure(figsize=(10, 18))\n",
    "plt.title(\"Feature importances\")\n",
    "plt.barh(\n",
    "    range(no_features),\n",
    "    feat_importance[indices][-no_features:],\n",
    "    color=colors[-no_features:],\n",
    "    align=\"center\",\n",
    "    alpha=0.8,\n",
    ")\n",
    "plt.ylim([-1, no_features])\n",
    "plt.show()"
   ]
  },
  {
   "cell_type": "code",
   "execution_count": 62,
   "metadata": {},
   "outputs": [
    {
     "data": {
      "image/png": "[encoded data removed]",
      "text/plain": [
       "<Figure size 720x1296 with 1 Axes>"
      ]
     },
     "metadata": {
      "needs_background": "light"
     },
     "output_type": "display_data"
    }
   ],
   "source": [
    "# Plot the feature importances of the forest\n",
    "no_features = 300\n",
    "plt.figure(figsize=(10, 18))\n",
    "plt.title(\"Feature importances\")\n",
    "plt.barh(\n",
    "    range(no_features),\n",
    "    feat_importance[indices][-no_features:],\n",
    "    color=colors[-no_features:],\n",
    "    align=\"center\",\n",
    "    alpha=0.8,\n",
    ")\n",
    "plt.ylim([-1, no_features])\n",
    "plt.show()"
   ]
  },
  {
   "cell_type": "code",
   "execution_count": 34,
   "metadata": {},
   "outputs": [
    {
     "data": {
      "text/plain": [
       "(0.00029886189502851786,\n",
       " 0.014815500543307169,\n",
       " 0.0011111111111111111,\n",
       " 0.0008209453454902431)"
      ]
     },
     "execution_count": 34,
     "metadata": {},
     "output_type": "execute_result"
    }
   ],
   "source": [
    "min(feat_importance), max(feat_importance), np.mean(feat_importance), np.median(feat_importance)"
   ]
  },
  {
   "cell_type": "code",
   "execution_count": 68,
   "metadata": {},
   "outputs": [
    {
     "name": "stdout",
     "output_type": "stream",
     "text": [
      "There are 225/900 (~25.0%) most important features with importance higher than 0.00108, including: \n",
      " -101 (~44.89%) features from job_description, \n",
      " -93 (~41.33%) features from job_requirement, \n",
      " -31 (~13.78%) features from job_qualification\n"
     ]
    }
   ],
   "source": [
    "quantile = 0.75\n",
    "threshold = np.quantile(feat_importance, quantile)\n",
    "topn = len(feat_importance[np.where(feat_importance > threshold)[0]])\n",
    "topn_features = feat_importance[indices[-topn:]]\n",
    "topn_colors = colors[-topn:]\n",
    "topn_description_count = len(topn_colors[np.where(topn_colors == \"#009933\")[0]])\n",
    "topn_requirement_count = len(topn_colors[np.where(topn_colors == \"#27aee1\")[0]])\n",
    "topn_qualification_count = len(topn_colors[np.where(topn_colors == \"#900c3f\")[0]])\n",
    "\n",
    "print(\n",
    "    \"There are \",\n",
    "    topn,\n",
    "    \"/\",\n",
    "    len(feat_importance),\n",
    "    \" (~\",\n",
    "    100 - quantile * 100,\n",
    "    \"%)\",\n",
    "    \" most important features with importance higher than \",\n",
    "    round(threshold, 5),\n",
    "    \", including: \\n -\",\n",
    "    topn_description_count,\n",
    "    \" (~\",\n",
    "    round(topn_description_count * 100 / topn, 2),\n",
    "    \"%) features from job_description, \\n -\",\n",
    "    topn_requirement_count,\n",
    "    \" (~\",\n",
    "    round(topn_requirement_count * 100 / topn, 2),\n",
    "    \"%) features from job_requirement, \\n -\",\n",
    "    topn_qualification_count,\n",
    "    \" (~\",\n",
    "    round(topn_qualification_count * 100 / topn, 2),\n",
    "    \"%) features from job_qualification\",\n",
    "    sep=\"\",\n",
    ")"
   ]
  },
  {
   "cell_type": "code",
   "execution_count": 45,
   "metadata": {},
   "outputs": [
    {
     "data": {
      "text/plain": [
       "(361584, 600)"
      ]
     },
     "execution_count": 45,
     "metadata": {},
     "output_type": "execute_result"
    }
   ],
   "source": [
    "# # Most of importance features belong to job_description and job_requirement\n",
    "# # Thus, we need remove job_qualification out of the final embeddings for skill sets\n",
    "skill_feat_embeddings = skill_concat_embeddings[:, :600]\n",
    "skill_feat_embeddings.shape"
   ]
  },
  {
   "cell_type": "code",
   "execution_count": 46,
   "metadata": {},
   "outputs": [
    {
     "data": {
      "text/plain": [
       "(361584, 300)"
      ]
     },
     "execution_count": 46,
     "metadata": {},
     "output_type": "execute_result"
    }
   ],
   "source": [
    "# Recreate document embeddings from selected features\n",
    "emb1 = skill_concat_embeddings[:, :300]\n",
    "emb2 = skill_concat_embeddings[:, 300:600]\n",
    "skill_doc_embeddings = np.mean((emb1, emb2), axis=0)\n",
    "skill_doc_embeddings.shape"
   ]
  },
  {
   "cell_type": "code",
   "execution_count": 47,
   "metadata": {},
   "outputs": [],
   "source": [
    "# Save document embeddings for skills concatenated from selected features in numpy format file\n",
    "skill_feat_embeddings_outfile = OUTPUT_DIR + \"skill_feat_embeddings\"\n",
    "np.save(skill_feat_embeddings_outfile, skill_feat_embeddings)"
   ]
  },
  {
   "cell_type": "code",
   "execution_count": 48,
   "metadata": {},
   "outputs": [],
   "source": [
    "# Save document embeddings for skills average from selected features in numpy format file\n",
    "skill_doc_embeddings_outfile = OUTPUT_DIR + \"skill_doc_embeddings\"\n",
    "np.save(skill_doc_embeddings_outfile, skill_doc_embeddings)"
   ]
  },
  {
   "cell_type": "code",
   "execution_count": null,
   "metadata": {},
   "outputs": [],
   "source": []
  }
 ],
 "metadata": {
  "kernelspec": {
   "display_name": "Python 3",
   "language": "python",
   "name": "python3"
  },
  "language_info": {
   "codemirror_mode": {
    "name": "ipython",
    "version": 3
   },
   "file_extension": ".py",
   "mimetype": "text/x-python",
   "name": "python",
   "nbconvert_exporter": "python",
   "pygments_lexer": "ipython3",
   "version": "3.8.5"
  }
 },
 "nbformat": 4,
 "nbformat_minor": 4
}
