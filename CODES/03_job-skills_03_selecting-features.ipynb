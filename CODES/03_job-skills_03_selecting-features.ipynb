{
 "cells": [
  {
   "cell_type": "markdown",
   "metadata": {},
   "source": [
    "## Import libraries"
   ]
  },
  {
   "cell_type": "code",
   "execution_count": 34,
   "metadata": {},
   "outputs": [],
   "source": [
    "# Libraries to work cross-platform\n",
    "import os\n",
    "\n",
    "# Libraries to work with dataset\n",
    "import numpy as np\n",
    "# import dask.array as da\n",
    "import dask.dataframe as dd\n",
    "import pandas as pd\n",
    "import pickle\n",
    "\n",
    "# Libraries to detect important features\n",
    "from sklearn.ensemble import RandomForestClassifier as RF\n",
    "\n",
    "# Libraries to visualize data\n",
    "import matplotlib.pyplot as plt\n",
    "import matplotlib.patches as mpatches\n",
    "\n",
    "# Libraries for monitoring operation process\n",
    "from tqdm import tqdm"
   ]
  },
  {
   "cell_type": "markdown",
   "metadata": {},
   "source": [
    "## Configurate and declare global variables"
   ]
  },
  {
   "cell_type": "code",
   "execution_count": 2,
   "metadata": {},
   "outputs": [],
   "source": [
    "os_name = os.name\n",
    "\n",
    "if os_name == 'nt':\n",
    "    \"\"\"Windows platform\"\"\"\n",
    "    BASE_DIR = \"E:/THIENDHB_GOOGLEDRIVE/MASTER TILBURG/THESIS/\"\n",
    "\n",
    "elif os_name == 'posix':\n",
    "    \"\"\"Linux platform\"\"\"\n",
    "    BASE_DIR = \"/media/pinkalinux/WORK/THIENDHB_GOOGLEDRIVE/MASTER TILBURG/THESIS/\"\n",
    "\n",
    "INPUT_DIR = BASE_DIR + \"DATASET/INPUT/\"\n",
    "OUTPUT_DIR = BASE_DIR + \"DATASET/OUTPUT/\"\n",
    "RESULT_DIR = BASE_DIR + \"RESULTS/\"\n",
    "\n",
    "SEED = 6886\n",
    "%matplotlib inline"
   ]
  },
  {
   "cell_type": "markdown",
   "metadata": {},
   "source": [
    "## Import data"
   ]
  },
  {
   "cell_type": "code",
   "execution_count": 3,
   "metadata": {},
   "outputs": [],
   "source": [
    "# Load document embeddings of skill concatenating in numpy format file\n",
    "skill_concat_zip = np.load(OUTPUT_DIR + \"skill_wide_halfsize_embeddings.npz\")\n",
    "skill_concat_embeddings = skill_concat_zip['skill_wide_embeddings']"
   ]
  },
  {
   "cell_type": "code",
   "execution_count": 4,
   "metadata": {},
   "outputs": [
    {
     "data": {
      "text/plain": [
       "(94937, 450)"
      ]
     },
     "execution_count": 4,
     "metadata": {},
     "output_type": "execute_result"
    }
   ],
   "source": [
    "skill_concat_embeddings_df = pd.DataFrame(skill_concat_embeddings)\n",
    "skill_concat_embeddings_df.shape"
   ]
  },
  {
   "cell_type": "code",
   "execution_count": 5,
   "metadata": {},
   "outputs": [
    {
     "data": {
      "text/html": [
       "<div>\n",
       "<style scoped>\n",
       "    .dataframe tbody tr th:only-of-type {\n",
       "        vertical-align: middle;\n",
       "    }\n",
       "\n",
       "    .dataframe tbody tr th {\n",
       "        vertical-align: top;\n",
       "    }\n",
       "\n",
       "    .dataframe thead th {\n",
       "        text-align: right;\n",
       "    }\n",
       "</style>\n",
       "<table border=\"1\" class=\"dataframe\">\n",
       "  <thead>\n",
       "    <tr style=\"text-align: right;\">\n",
       "      <th></th>\n",
       "      <th>0</th>\n",
       "      <th>1</th>\n",
       "      <th>2</th>\n",
       "      <th>3</th>\n",
       "      <th>4</th>\n",
       "      <th>5</th>\n",
       "      <th>6</th>\n",
       "      <th>7</th>\n",
       "      <th>8</th>\n",
       "      <th>9</th>\n",
       "      <th>...</th>\n",
       "      <th>440</th>\n",
       "      <th>441</th>\n",
       "      <th>442</th>\n",
       "      <th>443</th>\n",
       "      <th>444</th>\n",
       "      <th>445</th>\n",
       "      <th>446</th>\n",
       "      <th>447</th>\n",
       "      <th>448</th>\n",
       "      <th>449</th>\n",
       "    </tr>\n",
       "  </thead>\n",
       "  <tbody>\n",
       "    <tr>\n",
       "      <th>0</th>\n",
       "      <td>-8.807369e-08</td>\n",
       "      <td>1.875484e-07</td>\n",
       "      <td>-3.833460e-07</td>\n",
       "      <td>6.801010e-07</td>\n",
       "      <td>6.158726e-07</td>\n",
       "      <td>1.521504e-06</td>\n",
       "      <td>-8.493662e-07</td>\n",
       "      <td>-0.329465</td>\n",
       "      <td>0.361264</td>\n",
       "      <td>-0.069212</td>\n",
       "      <td>...</td>\n",
       "      <td>0.139527</td>\n",
       "      <td>0.071847</td>\n",
       "      <td>0.041544</td>\n",
       "      <td>0.008850</td>\n",
       "      <td>0.116269</td>\n",
       "      <td>0.010573</td>\n",
       "      <td>-0.113518</td>\n",
       "      <td>-0.160101</td>\n",
       "      <td>-0.129432</td>\n",
       "      <td>-0.011862</td>\n",
       "    </tr>\n",
       "    <tr>\n",
       "      <th>1</th>\n",
       "      <td>-7.997016e-08</td>\n",
       "      <td>-1.044896e-07</td>\n",
       "      <td>4.717909e-07</td>\n",
       "      <td>5.447386e-07</td>\n",
       "      <td>-1.937289e-06</td>\n",
       "      <td>1.913065e-06</td>\n",
       "      <td>-1.631677e-06</td>\n",
       "      <td>-0.226009</td>\n",
       "      <td>0.183149</td>\n",
       "      <td>0.550982</td>\n",
       "      <td>...</td>\n",
       "      <td>0.083787</td>\n",
       "      <td>-0.101473</td>\n",
       "      <td>-0.034282</td>\n",
       "      <td>-0.140268</td>\n",
       "      <td>0.080262</td>\n",
       "      <td>-0.010828</td>\n",
       "      <td>0.134192</td>\n",
       "      <td>-0.062865</td>\n",
       "      <td>0.011493</td>\n",
       "      <td>-0.065550</td>\n",
       "    </tr>\n",
       "    <tr>\n",
       "      <th>2</th>\n",
       "      <td>-4.247040e-08</td>\n",
       "      <td>-2.518913e-08</td>\n",
       "      <td>7.865749e-08</td>\n",
       "      <td>6.972162e-07</td>\n",
       "      <td>-1.688128e-06</td>\n",
       "      <td>-3.434514e-07</td>\n",
       "      <td>-1.336137e-06</td>\n",
       "      <td>-0.172912</td>\n",
       "      <td>0.088746</td>\n",
       "      <td>0.344105</td>\n",
       "      <td>...</td>\n",
       "      <td>0.021359</td>\n",
       "      <td>0.019469</td>\n",
       "      <td>0.042081</td>\n",
       "      <td>-0.115704</td>\n",
       "      <td>0.034036</td>\n",
       "      <td>0.098793</td>\n",
       "      <td>-0.165392</td>\n",
       "      <td>-0.146542</td>\n",
       "      <td>-0.314503</td>\n",
       "      <td>-0.100732</td>\n",
       "    </tr>\n",
       "  </tbody>\n",
       "</table>\n",
       "<p>3 rows × 450 columns</p>\n",
       "</div>"
      ],
      "text/plain": [
       "            0             1             2             3             4    \\\n",
       "0 -8.807369e-08  1.875484e-07 -3.833460e-07  6.801010e-07  6.158726e-07   \n",
       "1 -7.997016e-08 -1.044896e-07  4.717909e-07  5.447386e-07 -1.937289e-06   \n",
       "2 -4.247040e-08 -2.518913e-08  7.865749e-08  6.972162e-07 -1.688128e-06   \n",
       "\n",
       "            5             6         7         8         9    ...       440  \\\n",
       "0  1.521504e-06 -8.493662e-07 -0.329465  0.361264 -0.069212  ...  0.139527   \n",
       "1  1.913065e-06 -1.631677e-06 -0.226009  0.183149  0.550982  ...  0.083787   \n",
       "2 -3.434514e-07 -1.336137e-06 -0.172912  0.088746  0.344105  ...  0.021359   \n",
       "\n",
       "        441       442       443       444       445       446       447  \\\n",
       "0  0.071847  0.041544  0.008850  0.116269  0.010573 -0.113518 -0.160101   \n",
       "1 -0.101473 -0.034282 -0.140268  0.080262 -0.010828  0.134192 -0.062865   \n",
       "2  0.019469  0.042081 -0.115704  0.034036  0.098793 -0.165392 -0.146542   \n",
       "\n",
       "        448       449  \n",
       "0 -0.129432 -0.011862  \n",
       "1  0.011493 -0.065550  \n",
       "2 -0.314503 -0.100732  \n",
       "\n",
       "[3 rows x 450 columns]"
      ]
     },
     "execution_count": 5,
     "metadata": {},
     "output_type": "execute_result"
    }
   ],
   "source": [
    "skill_concat_embeddings_df.head(3)"
   ]
  },
  {
   "cell_type": "code",
   "execution_count": 6,
   "metadata": {},
   "outputs": [],
   "source": [
    "skill_concat_zip = None\n",
    "skill_concat_embeddings = None"
   ]
  },
  {
   "cell_type": "markdown",
   "metadata": {},
   "source": [
    "## Detect important features"
   ]
  },
  {
   "cell_type": "code",
   "execution_count": 7,
   "metadata": {},
   "outputs": [
    {
     "name": "stderr",
     "output_type": "stream",
     "text": [
      "Creating synthetic data: 100%|██████████████████████████████████████████████████████| 450/450 [00:02<00:00, 214.60it/s]\n"
     ]
    }
   ],
   "source": [
    "# Create synthetic data\n",
    "np.random.seed(SEED)\n",
    "tqdm.pandas(desc=\"Creating synthetic data\")\n",
    "X_synthetic = skill_concat_embeddings_df.progress_apply(np.random.permutation, axis=0)"
   ]
  },
  {
   "cell_type": "code",
   "execution_count": 8,
   "metadata": {},
   "outputs": [
    {
     "data": {
      "text/plain": [
       "(94937, 450)"
      ]
     },
     "execution_count": 8,
     "metadata": {},
     "output_type": "execute_result"
    }
   ],
   "source": [
    "X_synthetic.shape"
   ]
  },
  {
   "cell_type": "code",
   "execution_count": 9,
   "metadata": {},
   "outputs": [
    {
     "data": {
      "text/html": [
       "<div>\n",
       "<style scoped>\n",
       "    .dataframe tbody tr th:only-of-type {\n",
       "        vertical-align: middle;\n",
       "    }\n",
       "\n",
       "    .dataframe tbody tr th {\n",
       "        vertical-align: top;\n",
       "    }\n",
       "\n",
       "    .dataframe thead th {\n",
       "        text-align: right;\n",
       "    }\n",
       "</style>\n",
       "<table border=\"1\" class=\"dataframe\">\n",
       "  <thead>\n",
       "    <tr style=\"text-align: right;\">\n",
       "      <th></th>\n",
       "      <th>0</th>\n",
       "      <th>1</th>\n",
       "      <th>2</th>\n",
       "      <th>3</th>\n",
       "      <th>4</th>\n",
       "      <th>5</th>\n",
       "      <th>6</th>\n",
       "      <th>7</th>\n",
       "      <th>8</th>\n",
       "      <th>9</th>\n",
       "      <th>...</th>\n",
       "      <th>440</th>\n",
       "      <th>441</th>\n",
       "      <th>442</th>\n",
       "      <th>443</th>\n",
       "      <th>444</th>\n",
       "      <th>445</th>\n",
       "      <th>446</th>\n",
       "      <th>447</th>\n",
       "      <th>448</th>\n",
       "      <th>449</th>\n",
       "    </tr>\n",
       "  </thead>\n",
       "  <tbody>\n",
       "    <tr>\n",
       "      <th>0</th>\n",
       "      <td>-1.704145e-07</td>\n",
       "      <td>0.000000e+00</td>\n",
       "      <td>1.478724e-07</td>\n",
       "      <td>-5.841651e-07</td>\n",
       "      <td>-2.169537e-07</td>\n",
       "      <td>2.709933e-07</td>\n",
       "      <td>0.000001</td>\n",
       "      <td>-0.274383</td>\n",
       "      <td>0.278959</td>\n",
       "      <td>0.000000</td>\n",
       "      <td>...</td>\n",
       "      <td>0.088858</td>\n",
       "      <td>-0.131968</td>\n",
       "      <td>-0.077544</td>\n",
       "      <td>-0.201779</td>\n",
       "      <td>0.047023</td>\n",
       "      <td>0.203434</td>\n",
       "      <td>0.135254</td>\n",
       "      <td>-0.083994</td>\n",
       "      <td>0.082672</td>\n",
       "      <td>-0.070345</td>\n",
       "    </tr>\n",
       "    <tr>\n",
       "      <th>1</th>\n",
       "      <td>-5.146019e-08</td>\n",
       "      <td>-1.446654e-07</td>\n",
       "      <td>7.846373e-07</td>\n",
       "      <td>2.071223e-07</td>\n",
       "      <td>-1.847924e-06</td>\n",
       "      <td>-2.629991e-06</td>\n",
       "      <td>0.000002</td>\n",
       "      <td>-0.193444</td>\n",
       "      <td>0.000000</td>\n",
       "      <td>0.482444</td>\n",
       "      <td>...</td>\n",
       "      <td>-0.022706</td>\n",
       "      <td>-0.195500</td>\n",
       "      <td>0.168157</td>\n",
       "      <td>0.045286</td>\n",
       "      <td>0.092866</td>\n",
       "      <td>-0.044853</td>\n",
       "      <td>0.072427</td>\n",
       "      <td>-0.022817</td>\n",
       "      <td>0.125760</td>\n",
       "      <td>0.016521</td>\n",
       "    </tr>\n",
       "    <tr>\n",
       "      <th>2</th>\n",
       "      <td>0.000000e+00</td>\n",
       "      <td>-2.320738e-07</td>\n",
       "      <td>-1.486631e-07</td>\n",
       "      <td>1.380957e-06</td>\n",
       "      <td>0.000000e+00</td>\n",
       "      <td>9.313605e-07</td>\n",
       "      <td>0.000001</td>\n",
       "      <td>-0.639873</td>\n",
       "      <td>0.202416</td>\n",
       "      <td>0.000000</td>\n",
       "      <td>...</td>\n",
       "      <td>0.088858</td>\n",
       "      <td>-0.132283</td>\n",
       "      <td>0.022226</td>\n",
       "      <td>-0.082400</td>\n",
       "      <td>0.064231</td>\n",
       "      <td>-0.080709</td>\n",
       "      <td>0.070401</td>\n",
       "      <td>0.062079</td>\n",
       "      <td>-0.263542</td>\n",
       "      <td>0.035127</td>\n",
       "    </tr>\n",
       "  </tbody>\n",
       "</table>\n",
       "<p>3 rows × 450 columns</p>\n",
       "</div>"
      ],
      "text/plain": [
       "            0             1             2             3             4    \\\n",
       "0 -1.704145e-07  0.000000e+00  1.478724e-07 -5.841651e-07 -2.169537e-07   \n",
       "1 -5.146019e-08 -1.446654e-07  7.846373e-07  2.071223e-07 -1.847924e-06   \n",
       "2  0.000000e+00 -2.320738e-07 -1.486631e-07  1.380957e-06  0.000000e+00   \n",
       "\n",
       "            5         6         7         8         9    ...       440  \\\n",
       "0  2.709933e-07  0.000001 -0.274383  0.278959  0.000000  ...  0.088858   \n",
       "1 -2.629991e-06  0.000002 -0.193444  0.000000  0.482444  ... -0.022706   \n",
       "2  9.313605e-07  0.000001 -0.639873  0.202416  0.000000  ...  0.088858   \n",
       "\n",
       "        441       442       443       444       445       446       447  \\\n",
       "0 -0.131968 -0.077544 -0.201779  0.047023  0.203434  0.135254 -0.083994   \n",
       "1 -0.195500  0.168157  0.045286  0.092866 -0.044853  0.072427 -0.022817   \n",
       "2 -0.132283  0.022226 -0.082400  0.064231 -0.080709  0.070401  0.062079   \n",
       "\n",
       "        448       449  \n",
       "0  0.082672 -0.070345  \n",
       "1  0.125760  0.016521  \n",
       "2 -0.263542  0.035127  \n",
       "\n",
       "[3 rows x 450 columns]"
      ]
     },
     "execution_count": 9,
     "metadata": {},
     "output_type": "execute_result"
    }
   ],
   "source": [
    "X_synthetic.head(3)"
   ]
  },
  {
   "cell_type": "code",
   "execution_count": 10,
   "metadata": {},
   "outputs": [],
   "source": [
    "# Merge authentic and synthetic data\n",
    "X_total = np.concatenate([skill_concat_embeddings_df, X_synthetic])\n",
    "Y_total = np.concatenate(\n",
    "    [\n",
    "        np.ones(skill_concat_embeddings_df.shape[0]),\n",
    "        np.zeros(skill_concat_embeddings_df.shape[0]),\n",
    "    ]\n",
    ")"
   ]
  },
  {
   "cell_type": "code",
   "execution_count": 11,
   "metadata": {},
   "outputs": [
    {
     "data": {
      "text/plain": [
       "((189874, 450), (189874,))"
      ]
     },
     "execution_count": 11,
     "metadata": {},
     "output_type": "execute_result"
    }
   ],
   "source": [
    "X_total.shape, Y_total.shape"
   ]
  },
  {
   "cell_type": "code",
   "execution_count": 12,
   "metadata": {},
   "outputs": [
    {
     "data": {
      "text/plain": [
       "(450,\n",
       " ['desc_145',\n",
       "  'desc_146',\n",
       "  'desc_147',\n",
       "  'desc_148',\n",
       "  'desc_149',\n",
       "  'req_0',\n",
       "  'req_1',\n",
       "  'req_2',\n",
       "  'req_3',\n",
       "  'req_4'],\n",
       " ['req_145',\n",
       "  'req_146',\n",
       "  'req_147',\n",
       "  'req_148',\n",
       "  'req_149',\n",
       "  'qual_0',\n",
       "  'qual_1',\n",
       "  'qual_2',\n",
       "  'qual_3',\n",
       "  'qual_4'])"
      ]
     },
     "execution_count": 12,
     "metadata": {},
     "output_type": "execute_result"
    }
   ],
   "source": [
    "col_range = int(skill_concat_embeddings_df.shape[1] / 3)\n",
    "desc_cols = ['desc_' + str(i) for i in range(col_range)]\n",
    "req_cols = ['req_' + str(i) for i in range(col_range)]\n",
    "qual_cols = ['qual_' + str(i) for i in range(col_range)]\n",
    "token_cols = desc_cols + req_cols + qual_cols\n",
    "len(token_cols), token_cols[145:155], token_cols[295:305]"
   ]
  },
  {
   "cell_type": "code",
   "execution_count": 13,
   "metadata": {},
   "outputs": [],
   "source": [
    "# Save synthetic data and merged data to file\n",
    "dd.to_parquet(\n",
    "    dd.from_pandas(pd.DataFrame(X_total, columns=token_cols), npartitions=20),\n",
    "    OUTPUT_DIR + \"skill_synthetic_data/halfsize_total/\",\n",
    ")"
   ]
  },
  {
   "cell_type": "code",
   "execution_count": 14,
   "metadata": {},
   "outputs": [],
   "source": [
    "pd.DataFrame(Y_total).to_csv(\n",
    "    OUTPUT_DIR + \"skill_synthetic_data/halfsize_total/Y_total.csv\", index=False\n",
    ")"
   ]
  },
  {
   "cell_type": "code",
   "execution_count": 15,
   "metadata": {},
   "outputs": [],
   "source": [
    "dd.to_parquet(\n",
    "    dd.from_pandas(X_synthetic, npartitions=10), OUTPUT_DIR + \"skill_synthetic_data/halfsize_synthetic/\"\n",
    ")"
   ]
  },
  {
   "cell_type": "code",
   "execution_count": 16,
   "metadata": {},
   "outputs": [
    {
     "name": "stderr",
     "output_type": "stream",
     "text": [
      "[Parallel(n_jobs=-1)]: Using backend ThreadingBackend with 8 concurrent workers.\n",
      "[Parallel(n_jobs=-1)]: Done  34 tasks      | elapsed:   39.6s\n",
      "[Parallel(n_jobs=-1)]: Done 184 tasks      | elapsed:  4.0min\n",
      "[Parallel(n_jobs=-1)]: Done 200 out of 200 | elapsed:  4.4min finished\n"
     ]
    }
   ],
   "source": [
    "# Run random forest on new dataset\n",
    "rf = RF(n_estimators=200, n_jobs=-1, random_state=SEED, verbose=1).fit(X_total, Y_total)\n",
    "feat_importance = rf.feature_importances_"
   ]
  },
  {
   "cell_type": "code",
   "execution_count": 17,
   "metadata": {},
   "outputs": [],
   "source": [
    "# Save random forest model to file\n",
    "pickle.dump(\n",
    "    rf, open(OUTPUT_DIR + \"skill_rf_feature_selector.pkl\", \"wb\")\n",
    ")"
   ]
  },
  {
   "cell_type": "code",
   "execution_count": 18,
   "metadata": {},
   "outputs": [
    {
     "name": "stdout",
     "output_type": "stream",
     "text": [
      "['#27aee1', '#27aee1', '#27aee1', '#27aee1', '#27aee1', '#27aee1', '#27aee1', '#27aee1', '#27aee1', '#27aee1', '#900c3f', '#900c3f', '#900c3f', '#900c3f', '#900c3f', '#900c3f', '#900c3f', '#900c3f', '#900c3f', '#900c3f', '#900c3f', '#900c3f', '#900c3f', '#900c3f', '#900c3f', '#900c3f', '#900c3f', '#900c3f', '#900c3f', '#900c3f', '#900c3f', '#900c3f', '#900c3f', '#900c3f', '#900c3f', '#900c3f', '#900c3f', '#900c3f', '#900c3f', '#900c3f']\n",
      "['#009933' '#900c3f' '#900c3f' '#009933' '#009933' '#27aee1' '#27aee1'\n",
      " '#900c3f' '#900c3f' '#900c3f' '#900c3f' '#009933' '#900c3f' '#900c3f'\n",
      " '#009933' '#009933' '#900c3f' '#009933' '#27aee1' '#900c3f' '#009933'\n",
      " '#009933' '#009933' '#009933' '#900c3f' '#900c3f' '#009933' '#900c3f'\n",
      " '#27aee1' '#900c3f' '#27aee1' '#009933' '#009933' '#900c3f' '#27aee1'\n",
      " '#27aee1' '#009933' '#009933' '#27aee1' '#27aee1']\n"
     ]
    }
   ],
   "source": [
    "# Create color based on columns\n",
    "column_width = int(X_total.shape[1]/3)\n",
    "colors = ['#009933']*column_width  # job_description\n",
    "colors.extend(['#27aee1']*column_width)  # job_requirement\n",
    "colors.extend(['#900c3f']*column_width)  # job_qualification\n",
    "print(colors[290:330])\n",
    "\n",
    "indices = np.argsort(feat_importance)\n",
    "# print(indices[290:330])\n",
    "\n",
    "colors = np.array(colors)[indices]\n",
    "print(colors[290:330])"
   ]
  },
  {
   "cell_type": "code",
   "execution_count": 39,
   "metadata": {},
   "outputs": [
    {
     "data": {
      "image/png": "[encoded data removed]",
      "text/plain": [
       "<Figure size 720x1296 with 1 Axes>"
      ]
     },
     "metadata": {
      "needs_background": "light"
     },
     "output_type": "display_data"
    }
   ],
   "source": [
    "# Plot the feature importances of the forest\n",
    "indices = np.argsort(feat_importance)\n",
    "\n",
    "plt.figure(figsize=(10, 18))\n",
    "plt.title(\"Feature importances\")\n",
    "plt.barh(\n",
    "    range(X_total.shape[1]),\n",
    "    feat_importance[indices],\n",
    "    color=colors,\n",
    "    align=\"center\",\n",
    "    alpha=0.8,\n",
    ")\n",
    "plt.ylim([-1, X_total.shape[1]])\n",
    "\n",
    "green_patch = mpatches.Patch(color='#009933', label='job_description')\n",
    "blue_patch = mpatches.Patch(color='#27aee1', label='job_requirement')\n",
    "brown_patch = mpatches.Patch(color='#900c3f', label='job_qualification')\n",
    "plt.legend(handles=[green_patch, blue_patch, brown_patch], loc=\"upper left\")\n",
    "\n",
    "plt.show()"
   ]
  },
  {
   "cell_type": "code",
   "execution_count": 40,
   "metadata": {},
   "outputs": [
    {
     "data": {
      "image/png": "[encoded data removed]",
      "text/plain": [
       "<Figure size 720x1296 with 1 Axes>"
      ]
     },
     "metadata": {
      "needs_background": "light"
     },
     "output_type": "display_data"
    }
   ],
   "source": [
    "# Plot the feature importances of the forest\n",
    "no_features = 100\n",
    "plt.figure(figsize=(10, 18))\n",
    "plt.title(\"Feature importances\")\n",
    "plt.barh(\n",
    "    range(no_features),\n",
    "    feat_importance[indices][-no_features:],\n",
    "    color=colors[-no_features:],\n",
    "    align=\"center\",\n",
    "    alpha=0.8,\n",
    ")\n",
    "plt.ylim([-1, no_features])\n",
    "\n",
    "green_patch = mpatches.Patch(color='#009933', label='job_description')\n",
    "blue_patch = mpatches.Patch(color='#27aee1', label='job_requirement')\n",
    "brown_patch = mpatches.Patch(color='#900c3f', label='job_qualification')\n",
    "plt.legend(handles=[green_patch, blue_patch, brown_patch], loc=\"upper left\")\n",
    "\n",
    "plt.show()"
   ]
  },
  {
   "cell_type": "code",
   "execution_count": 46,
   "metadata": {},
   "outputs": [
    {
     "data": {
      "image/png": "[encoded data removed]",
      "text/plain": [
       "<Figure size 720x1296 with 1 Axes>"
      ]
     },
     "metadata": {
      "needs_background": "light"
     },
     "output_type": "display_data"
    }
   ],
   "source": [
    "# Plot the feature importances of the forest\n",
    "no_features = 225\n",
    "plt.figure(figsize=(10, 18))\n",
    "plt.title(\"Feature importances\")\n",
    "plt.barh(\n",
    "    range(no_features),\n",
    "    feat_importance[indices][-no_features:],\n",
    "    color=colors[-no_features:],\n",
    "    align=\"center\",\n",
    "    alpha=0.8,\n",
    ")\n",
    "plt.ylim([-1, no_features])\n",
    "\n",
    "green_patch = mpatches.Patch(color='#009933', label='job_description')\n",
    "blue_patch = mpatches.Patch(color='#27aee1', label='job_requirement')\n",
    "brown_patch = mpatches.Patch(color='#900c3f', label='job_qualification')\n",
    "plt.legend(handles=[green_patch, blue_patch, brown_patch], loc=\"upper left\")\n",
    "\n",
    "plt.show()"
   ]
  },
  {
   "cell_type": "code",
   "execution_count": 42,
   "metadata": {},
   "outputs": [
    {
     "data": {
      "image/png": "[encoded data removed]",
      "text/plain": [
       "<Figure size 720x1296 with 1 Axes>"
      ]
     },
     "metadata": {
      "needs_background": "light"
     },
     "output_type": "display_data"
    }
   ],
   "source": [
    "# Plot the feature importances of the forest\n",
    "no_features = 50\n",
    "plt.figure(figsize=(10, 18))\n",
    "plt.title(\"Feature importances\")\n",
    "plt.barh(\n",
    "    range(no_features),\n",
    "    feat_importance[indices][-no_features:],\n",
    "    color=colors[-no_features:],\n",
    "    align=\"center\",\n",
    "    alpha=0.8,\n",
    ")\n",
    "plt.ylim([-1, no_features])\n",
    "\n",
    "green_patch = mpatches.Patch(color='#009933', label='job_description')\n",
    "blue_patch = mpatches.Patch(color='#27aee1', label='job_requirement')\n",
    "brown_patch = mpatches.Patch(color='#900c3f', label='job_qualification')\n",
    "plt.legend(handles=[green_patch, blue_patch, brown_patch], loc=\"upper left\")\n",
    "\n",
    "plt.show()"
   ]
  },
  {
   "cell_type": "code",
   "execution_count": 23,
   "metadata": {},
   "outputs": [
    {
     "data": {
      "text/plain": [
       "(3.1864635081324096e-05,\n",
       " 0.005846129721643725,\n",
       " 0.0022222222222222222,\n",
       " 0.002180981805384163)"
      ]
     },
     "execution_count": 23,
     "metadata": {},
     "output_type": "execute_result"
    }
   ],
   "source": [
    "min(feat_importance), max(feat_importance), np.mean(feat_importance), np.median(feat_importance)"
   ]
  },
  {
   "cell_type": "code",
   "execution_count": 45,
   "metadata": {},
   "outputs": [
    {
     "name": "stdout",
     "output_type": "stream",
     "text": [
      "There are 225/450 (~50.0%) most important features with importance higher than 0.00218, including: \n",
      " - 67 (~29.78%) features from job_description, \n",
      " - 52 (~23.11%) features from job_requirement, \n",
      " - 106 (~47.11%) features from job_qualification\n"
     ]
    }
   ],
   "source": [
    "quantile = 0.50\n",
    "threshold = np.quantile(feat_importance, quantile)\n",
    "topn = len(feat_importance[np.where(feat_importance > threshold)[0]])\n",
    "topn_features = feat_importance[indices[-topn:]]\n",
    "topn_colors = colors[-topn:]\n",
    "topn_description_count = len(topn_colors[np.where(topn_colors == \"#009933\")[0]])\n",
    "topn_requirement_count = len(topn_colors[np.where(topn_colors == \"#27aee1\")[0]])\n",
    "topn_qualification_count = len(topn_colors[np.where(topn_colors == \"#900c3f\")[0]])\n",
    "\n",
    "print(\n",
    "    \"There are \",\n",
    "    topn,\n",
    "    \"/\",\n",
    "    len(feat_importance),\n",
    "    \" (~\",\n",
    "    100 - quantile * 100,\n",
    "    \"%)\",\n",
    "    \" most important features with importance higher than \",\n",
    "    round(threshold, 5),\n",
    "    \", including: \\n - \",\n",
    "    topn_description_count,\n",
    "    \" (~\",\n",
    "    round(topn_description_count * 100 / topn, 2),\n",
    "    \"%) features from job_description, \\n - \",\n",
    "    topn_requirement_count,\n",
    "    \" (~\",\n",
    "    round(topn_requirement_count * 100 / topn, 2),\n",
    "    \"%) features from job_requirement, \\n - \",\n",
    "    topn_qualification_count,\n",
    "    \" (~\",\n",
    "    round(topn_qualification_count * 100 / topn, 2),\n",
    "    \"%) features from job_qualification\",\n",
    "    sep=\"\",\n",
    ")"
   ]
  },
  {
   "cell_type": "code",
   "execution_count": 47,
   "metadata": {},
   "outputs": [],
   "source": [
    "# # Load document embeddings for skills from job description\n",
    "# skill_description_dict = pickle.load(\n",
    "#     open(OUTPUT_DIR + \"skill_description_halfsize_long_dict.pkl\", \"rb\")\n",
    "# )"
   ]
  },
  {
   "cell_type": "code",
   "execution_count": 48,
   "metadata": {},
   "outputs": [],
   "source": [
    "# # Load document embeddings for skills from job qualification\n",
    "# skill_qualification_dict = pickle.load(\n",
    "#     open(OUTPUT_DIR + \"skill_qualification_halfsize_long_dict.pkl\", \"rb\")\n",
    "# )"
   ]
  },
  {
   "cell_type": "code",
   "execution_count": 49,
   "metadata": {},
   "outputs": [],
   "source": [
    "# len(skill_description_dict), len(skill_qualification_dict)"
   ]
  },
  {
   "cell_type": "code",
   "execution_count": 50,
   "metadata": {},
   "outputs": [],
   "source": [
    "# # Retrieve two document embeddings from dicts\n",
    "# emb1 = list(skill_description_dict.values())      # job_description\n",
    "# emb3 = list(skill_qualification_dict.values())    # job_qualification\n",
    "# type(emb1), type(emb3), len(emb1), len(emb3), len(emb1[0]), len(emb3[0])"
   ]
  },
  {
   "cell_type": "code",
   "execution_count": 51,
   "metadata": {},
   "outputs": [],
   "source": [
    "# emb1 = np.asarray(emb1)\n",
    "# emb3 = np.asarray(emb3)\n",
    "# emb1.shape, emb3.shape"
   ]
  },
  {
   "cell_type": "code",
   "execution_count": 52,
   "metadata": {},
   "outputs": [],
   "source": [
    "# # Append two document embeddings\n",
    "# skill_feat_embeddings = np.vstack((emb1, emb3))    # Omit job_requirement\n",
    "# skill_feat_embeddings.shape"
   ]
  },
  {
   "cell_type": "code",
   "execution_count": 53,
   "metadata": {},
   "outputs": [],
   "source": [
    "# Load document embeddings for skills from job qualification\n",
    "skill_embedding_dict = pickle.load(\n",
    "    open(OUTPUT_DIR + \"skill_halfsize_embeddings_dict.pkl\", \"rb\")\n",
    ")"
   ]
  },
  {
   "cell_type": "code",
   "execution_count": 54,
   "metadata": {},
   "outputs": [
    {
     "data": {
      "text/plain": [
       "(list, 257205)"
      ]
     },
     "execution_count": 54,
     "metadata": {},
     "output_type": "execute_result"
    }
   ],
   "source": [
    "skill_feat_embeddings = list(skill_embedding_dict.values())\n",
    "type(skill_feat_embeddings), len(skill_feat_embeddings)"
   ]
  },
  {
   "cell_type": "code",
   "execution_count": 55,
   "metadata": {},
   "outputs": [
    {
     "data": {
      "text/plain": [
       "(257205, 150)"
      ]
     },
     "execution_count": 55,
     "metadata": {},
     "output_type": "execute_result"
    }
   ],
   "source": [
    "skill_feat_embeddings = np.asarray(skill_feat_embeddings)\n",
    "skill_feat_embeddings.shape"
   ]
  },
  {
   "cell_type": "code",
   "execution_count": 56,
   "metadata": {},
   "outputs": [],
   "source": [
    "# Save document embeddings for skills concatenated from selected features in numpy format file\n",
    "skill_feat_embeddings_outfile = OUTPUT_DIR + \"skill_feat_halfsize_embeddings\"\n",
    "np.save(skill_feat_embeddings_outfile, skill_feat_embeddings)"
   ]
  },
  {
   "cell_type": "code",
   "execution_count": null,
   "metadata": {},
   "outputs": [],
   "source": []
  }
 ],
 "metadata": {
  "kernelspec": {
   "display_name": "Python 3",
   "language": "python",
   "name": "python3"
  },
  "language_info": {
   "codemirror_mode": {
    "name": "ipython",
    "version": 3
   },
   "file_extension": ".py",
   "mimetype": "text/x-python",
   "name": "python",
   "nbconvert_exporter": "python",
   "pygments_lexer": "ipython3",
   "version": "3.8.5"
  }
 },
 "nbformat": 4,
 "nbformat_minor": 4
}
