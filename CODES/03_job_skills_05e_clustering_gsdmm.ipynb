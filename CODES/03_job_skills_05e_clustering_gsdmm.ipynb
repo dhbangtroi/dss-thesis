{
 "cells": [
  {
   "cell_type": "markdown",
   "metadata": {
    "id": "WqBclu77kH5k"
   },
   "source": [
    "## Load libraries"
   ]
  },
  {
   "cell_type": "code",
   "execution_count": 14,
   "metadata": {
    "id": "YlLElGuikVUU",
    "tags": []
   },
   "outputs": [],
   "source": [
    "from numpy.random import multinomial\n",
    "from numpy import log, exp\n",
    "from numpy import argmax\n",
    "# import json\n",
    "from tqdm.notebook import tqdm\n",
    "\n",
    "\n",
    "class MovieGroupProcess:\n",
    "    def __init__(self, K=8, alpha=0.1, beta=0.1, n_iters=30):\n",
    "        '''\n",
    "        A MovieGroupProcess is a conceptual model introduced by Yin and Wang 2014 to\n",
    "        describe their Gibbs sampling algorithm for a Dirichlet Mixture Model for the\n",
    "        clustering short text documents.\n",
    "        Reference: http://dbgroup.cs.tsinghua.edu.cn/wangjy/papers/KDD14-GSDMM.pdf\n",
    "\n",
    "        Imagine a professor is leading a film class. At the start of the class, the students\n",
    "        are randomly assigned to K tables. Before class begins, the students make lists of\n",
    "        their favorite films. The teacher reads the role n_iters times. When\n",
    "        a student is called, the student must select a new table satisfying either:\n",
    "            1) The new table has more students than the current table.\n",
    "        OR\n",
    "            2) The new table has students with similar lists of favorite movies.\n",
    "\n",
    "        :param K: int\n",
    "            Upper bound on the number of possible clusters. Typically many fewer\n",
    "        :param alpha: float between 0 and 1\n",
    "            Alpha controls the probability that a student will join a table that is currently empty\n",
    "            When alpha is 0, no one will join an empty table.\n",
    "        :param beta: float between 0 and 1\n",
    "            Beta controls the student's affinity for other students with similar interests. A low beta means\n",
    "            that students desire to sit with students of similar interests. A high beta means they are less\n",
    "            concerned with affinity and are more influenced by the popularity of a table\n",
    "        :param n_iters:\n",
    "        '''\n",
    "        self.K = K\n",
    "        self.alpha = alpha\n",
    "        self.beta = beta\n",
    "        self.n_iters = n_iters\n",
    "\n",
    "        # slots for computed variables\n",
    "        self.number_docs = None\n",
    "        self.vocab_size = None\n",
    "        self.cluster_doc_count = [0 for _ in range(K)]\n",
    "        self.cluster_word_count = [0 for _ in range(K)]\n",
    "        self.cluster_word_distribution = [{} for i in range(K)]\n",
    "\n",
    "    @staticmethod\n",
    "    def from_data(K, alpha, beta, D, vocab_size, cluster_doc_count, cluster_word_count, cluster_word_distribution):\n",
    "        '''\n",
    "        Reconstitute a MovieGroupProcess from previously fit data\n",
    "        :param K:\n",
    "        :param alpha:\n",
    "        :param beta:\n",
    "        :param D:\n",
    "        :param vocab_size:\n",
    "        :param cluster_doc_count:\n",
    "        :param cluster_word_count:\n",
    "        :param cluster_word_distribution:\n",
    "        :return:\n",
    "        '''\n",
    "        mgp = MovieGroupProcess(K, alpha, beta, n_iters=30)\n",
    "        mgp.number_docs = D\n",
    "        mgp.vocab_size = vocab_size\n",
    "        mgp.cluster_doc_count = cluster_doc_count\n",
    "        mgp.cluster_word_count = cluster_word_count\n",
    "        mgp.cluster_word_distribution = cluster_word_distribution\n",
    "        return mgp\n",
    "\n",
    "    @staticmethod\n",
    "    def _sample(p):\n",
    "        '''\n",
    "        Sample with probability vector p from a multinomial distribution\n",
    "        :param p: list\n",
    "            List of probabilities representing probability vector for the multinomial distribution\n",
    "        :return: int\n",
    "            index of randomly selected output\n",
    "        '''\n",
    "        return [i for i, entry in enumerate(multinomial(1, p)) if entry != 0][0]\n",
    "\n",
    "    def fit(self, docs, vocab_size):\n",
    "        '''\n",
    "        Cluster the input documents\n",
    "        :param docs: list of list\n",
    "            list of lists containing the unique token set of each document\n",
    "        :param V: total vocabulary size for each document\n",
    "        :return: list of length len(doc)\n",
    "            cluster label for each document\n",
    "        '''\n",
    "        alpha, beta, K, n_iters, V = self.alpha, self.beta, self.K, self.n_iters, vocab_size\n",
    "\n",
    "        D = len(docs)\n",
    "        self.number_docs = D\n",
    "        self.vocab_size = vocab_size\n",
    "\n",
    "        # unpack to easy var names\n",
    "        m_z, n_z, n_z_w = self.cluster_doc_count, self.cluster_word_count, self.cluster_word_distribution\n",
    "        cluster_count = K\n",
    "        d_z = [None for i in range(len(docs))]\n",
    "\n",
    "        # initialize the clusters\n",
    "        for i, doc in tqdm(iterable=enumerate(docs), total=len(docs), desc=\"Sampling documents\"):\n",
    "\n",
    "            # choose a random  initial cluster for the doc\n",
    "            z = self._sample([1.0 / K for _ in range(K)])\n",
    "\n",
    "            d_z[i] = z\n",
    "            m_z[z] += 1\n",
    "            n_z[z] += len(doc)\n",
    "\n",
    "            for word in doc:\n",
    "                if word not in n_z_w[z]:\n",
    "                    n_z_w[z][word] = 0\n",
    "                n_z_w[z][word] += 1\n",
    "        print('Sampling done!')\n",
    "\n",
    "        iter_result = {\n",
    "            \"n_iters\": [],\n",
    "            \"max_topics\": [],\n",
    "            \"alpha\": [],\n",
    "            \"beta\": [],\n",
    "            \"iter\": [], \n",
    "            \"transferred_clusters\": [], \n",
    "            \"populated_clusters\": []}\n",
    "\n",
    "        for _iter in tqdm(iterable=range(n_iters), total=n_iters, desc=\"Iteration\"):\n",
    "            total_transfers = 0\n",
    "            print('Iteration', _iter, '- alpha =', alpha, '- beta =', beta)\n",
    "\n",
    "            for i, doc in tqdm(iterable=enumerate(docs), total=len(docs), desc=\"Transfering docs\"):\n",
    "\n",
    "                # remove the doc from it's current cluster\n",
    "                z_old = d_z[i]\n",
    "\n",
    "                m_z[z_old] -= 1\n",
    "                n_z[z_old] -= len(doc)\n",
    "\n",
    "                for word in doc:\n",
    "                    n_z_w[z_old][word] -= 1\n",
    "\n",
    "                    # compact dictionary to save space\n",
    "                    if n_z_w[z_old][word] == 0:\n",
    "                        del n_z_w[z_old][word]\n",
    "\n",
    "                # draw sample from distribution to find new cluster\n",
    "                p = self.score(doc)\n",
    "                z_new = self._sample(p)\n",
    "\n",
    "                # transfer doc to the new cluster\n",
    "                if z_new != z_old:\n",
    "                    total_transfers += 1\n",
    "\n",
    "                d_z[i] = z_new\n",
    "                m_z[z_new] += 1\n",
    "                n_z[z_new] += len(doc)\n",
    "\n",
    "                for word in doc:\n",
    "                    if word not in n_z_w[z_new]:\n",
    "                        n_z_w[z_new][word] = 0\n",
    "                    n_z_w[z_new][word] += 1\n",
    "\n",
    "            cluster_count_new = sum([1 for v in m_z if v > 0])\n",
    "            print(\"In stage %d: transferred %d clusters with %d clusters populated\" % (\n",
    "                _iter, total_transfers, cluster_count_new))\n",
    "\n",
    "            iter_result['n_iters'].append(n_iters)\n",
    "            iter_result['max_topics'].append(K)\n",
    "            iter_result['alpha'].append(alpha)\n",
    "            iter_result['beta'].append(beta)\n",
    "            iter_result['iter'].append(_iter)\n",
    "            iter_result['transferred_clusters'].append(total_transfers)\n",
    "            iter_result['populated_clusters'].append(cluster_count_new)\n",
    "\n",
    "            if total_transfers == 0 and cluster_count_new == cluster_count and _iter > 25:\n",
    "                print(\"Converged.  Breaking out.\")\n",
    "                break\n",
    "            cluster_count = cluster_count_new\n",
    "        self.cluster_word_distribution = n_z_w\n",
    "\n",
    "        # d_z = cluster label for each document,\n",
    "        # m_z = cluster_doc_count,\n",
    "        # n_z = cluster_word_count,\n",
    "        # n_z_w = cluster_word_distribution\n",
    "        print('Modelling done!')\n",
    "        return d_z, m_z, n_z, n_z_w, cluster_count, iter_result\n",
    "\n",
    "    def score(self, doc):\n",
    "        '''\n",
    "        Score a document\n",
    "\n",
    "        Implements formula (3) of Yin and Wang 2014.\n",
    "        http://dbgroup.cs.tsinghua.edu.cn/wangjy/papers/KDD14-GSDMM.pdf\n",
    "\n",
    "        :param doc: list[str]: The doc token stream\n",
    "        :return: list[float]: A length K probability vector where each component represents\n",
    "                              the probability of the document appearing in a particular cluster\n",
    "        '''\n",
    "        alpha, beta, K, V, D = self.alpha, self.beta, self.K, self.vocab_size, self.number_docs\n",
    "        m_z, n_z, n_z_w = self.cluster_doc_count, self.cluster_word_count, self.cluster_word_distribution\n",
    "\n",
    "        p = [0 for _ in range(K)]\n",
    "\n",
    "        #  We break the formula into the following pieces\n",
    "        #  p = N1*N2/(D1*D2) = exp(lN1 - lD1 + lN2 - lD2)\n",
    "        #  lN1 = log(m_z[z] + alpha)\n",
    "        #  lN2 = log(D - 1 + K*alpha)\n",
    "        #  lN2 = log(product(n_z_w[w] + beta)) = sum(log(n_z_w[w] + beta))\n",
    "        #  lD2 = log(product(n_z[d] + V*beta + i -1)) = sum(log(n_z[d] + V*beta + i -1))\n",
    "\n",
    "        lD1 = log(D - 1 + K * alpha)\n",
    "        doc_size = len(doc)\n",
    "        for label in range(K):\n",
    "            lN1 = log(m_z[label] + alpha)\n",
    "            lN2 = 0\n",
    "            lD2 = 0\n",
    "            for word in doc:\n",
    "                lN2 += log(n_z_w[label].get(word, 0) + beta)\n",
    "            for j in range(1, doc_size + 1):\n",
    "                lD2 += log(n_z[label] + V * beta + j - 1)\n",
    "            p[label] = exp(lN1 - lD1 + lN2 - lD2)\n",
    "\n",
    "        # normalize the probability vector\n",
    "        pnorm = sum(p)\n",
    "        pnorm = pnorm if pnorm > 0 else 1\n",
    "        return [pp/pnorm for pp in p]\n",
    "\n",
    "    def choose_best_label(self, doc):\n",
    "        '''\n",
    "        Choose the highest probability label for the input document\n",
    "        :param doc: list[str]: The doc token stream\n",
    "        :return:\n",
    "        '''\n",
    "        p = self.score(doc)\n",
    "        return argmax(p), max(p)\n"
   ]
  },
  {
   "cell_type": "code",
   "execution_count": 23,
   "metadata": {
    "id": "5NbJRh1skH5n",
    "tags": []
   },
   "outputs": [],
   "source": [
    "# Libraries to work cross-platform\n",
    "import os\n",
    "\n",
    "# Libraries to work with dataset\n",
    "import numpy as np\n",
    "import pandas as pd\n",
    "import ast                      # convert string to list after importing csv data\n",
    "# import tmtoolkit\n",
    "import pickle\n",
    "\n",
    "# Libraries to cluster data\n",
    "# from gsdmm import MovieGroupProcess\n",
    "from gensim.corpora import Dictionary\n",
    "\n",
    "# Libraries to visualize data\n",
    "import matplotlib.pyplot as plt\n",
    "import seaborn as sns\n",
    "import matplotlib.cm as cm\n",
    "# from cluster_visualization_helper import (\n",
    "#     visualize_cluster  # user-defined functions\n",
    "# )\n",
    "from pprint import pprint\n",
    "\n",
    "# Libraries for evaluation\n",
    "from sklearn import metrics\n",
    "from gensim.models import CoherenceModel\n",
    "\n",
    "# Libraries for monitoring operation process\n",
    "# from tqdm import tqdm\n",
    "from datetime import datetime\n",
    "# from pprint import pprint\n",
    "# import logging"
   ]
  },
  {
   "cell_type": "markdown",
   "metadata": {
    "id": "OPZTBVt1kH5p"
   },
   "source": [
    "## Configurate and declare global variables"
   ]
  },
  {
   "cell_type": "code",
   "execution_count": 24,
   "metadata": {
    "id": "Trylj2_NkzBh",
    "outputId": "2915b909-8fa2-4307-d93e-a294a666e33d",
    "tags": []
   },
   "outputs": [
    {
     "data": {
      "text/plain": [
       "('PINKA-ASUS-VIVO', 8, 'nt')"
      ]
     },
     "execution_count": 24,
     "metadata": {},
     "output_type": "execute_result"
    }
   ],
   "source": [
    "try:\n",
    "    username = os.environ['HOSTNAME']\n",
    "except:\n",
    "    username = os.environ['COMPUTERNAME']\n",
    "\n",
    "n_cpu = os.cpu_count()\n",
    "\n",
    "os_name = os.name\n",
    "username, n_cpu, os_name"
   ]
  },
  {
   "cell_type": "code",
   "execution_count": 25,
   "metadata": {
    "id": "wBiLQxgGkH5q",
    "outputId": "9ece27e7-59cf-4b04-c143-69677953904c",
    "tags": []
   },
   "outputs": [],
   "source": [
    "if os_name == 'nt':\n",
    "    \"\"\"Windows platform\"\"\"\n",
    "    BASE_DIR = \"E:/THIENDHB_GOOGLEDRIVE/MASTER TILBURG/THESIS/\"\n",
    "    INPUT_DIR = BASE_DIR + \"DATASET/INPUT/\"\n",
    "    OUTPUT_DIR = BASE_DIR + \"DATASET/OUTPUT/\"\n",
    "    RESULT_DIR = BASE_DIR + \"RESULTS/\"\n",
    "\n",
    "elif os_name == 'posix' and n_cpu < 4:\n",
    "    \"\"\"Linux platform\"\"\"\n",
    "    if username == 'PinkaLinux':\n",
    "        \"\"\"Local env\"\"\"\n",
    "        BASE_DIR = \"/media/pinkalinux/WORK/THIENDHB_GOOGLEDRIVE/MASTER TILBURG/THESIS/\"\n",
    "    elif n_cpu == 2:\n",
    "        \"\"\"Google Colab\"\"\"\n",
    "        from google.colab import drive\n",
    "        drive.mount('/content/drive', force_remount=True)\n",
    "        BASE_DIR = \"/content/drive/MyDrive/MASTER TILBURG/THESIS/\"\n",
    "        \n",
    "    INPUT_DIR = BASE_DIR + \"DATASET/INPUT/\"\n",
    "    OUTPUT_DIR = BASE_DIR + \"DATASET/OUTPUT/\"\n",
    "    RESULT_DIR = BASE_DIR + \"RESULTS/\"\n",
    "        \n",
    "else:\n",
    "    \"\"\"Kaggle notebook\"\"\"\n",
    "    BASE_DIR = \"../input/dssthesis/\"\n",
    "    INPUT_DIR = BASE_DIR\n",
    "    OUTPUT_DIR = \"../working/\"\n",
    "    RESULT_DIR = OUTPUT_DIR + 'RESULTS/'\n",
    "    if os.path.exists(RESULT_DIR) is False:\n",
    "        os.mkdir(RESULT_DIR)\n",
    "        print('Making dir', RESULT_DIR)\n",
    "    else:\n",
    "        print(RESULT_DIR, 'exists!')\n",
    "    if os.path.exists(OUTPUT_DIR + \"gsdmm/\") is False:\n",
    "        os.mkdir(OUTPUT_DIR + \"gsdmm/\")\n",
    "        print('Making dir', OUTPUT_DIR + \"gsdmm/\")\n",
    "    else:\n",
    "        print(OUTPUT_DIR + \"gsdmm/\", 'exists!')\n",
    "    if os.path.exists(RESULT_DIR + \"gsdmm/\") is False:\n",
    "        os.mkdir(RESULT_DIR + \"gsdmm/\")\n",
    "        print('Making dir', RESULT_DIR + \"gsdmm/\")\n",
    "    else:\n",
    "        print(RESULT_DIR + \"gsdmm/\", 'exists!')        \n",
    "\n",
    "SEED = 6886\n",
    "\n",
    "%matplotlib inline"
   ]
  },
  {
   "cell_type": "markdown",
   "metadata": {
    "id": "iccuRXlKkH5r"
   },
   "source": [
    "## Import data"
   ]
  },
  {
   "cell_type": "code",
   "execution_count": 26,
   "metadata": {
    "id": "6fsolrJKkH5s",
    "outputId": "bc8b2f98-6288-43eb-d11b-f70c07850f0c",
    "tags": []
   },
   "outputs": [
    {
     "data": {
      "text/plain": [
       "(257205, 150)"
      ]
     },
     "execution_count": 26,
     "metadata": {},
     "output_type": "execute_result"
    }
   ],
   "source": [
    "if n_cpu != 4:\n",
    "    skill_embeddings = np.load(OUTPUT_DIR + \"skill_feat_halfsize_embeddings.npy\")\n",
    "else:\n",
    "    skill_embeddings = np.load(INPUT_DIR + \"skill_feat_halfsize_embeddings.npy\")\n",
    "skill_embeddings.shape"
   ]
  },
  {
   "cell_type": "code",
   "execution_count": 27,
   "metadata": {
    "id": "3bdO8cTgkH5t",
    "outputId": "b1beda9b-554e-4348-9ed0-fdc3cb5c7d07",
    "tags": []
   },
   "outputs": [
    {
     "data": {
      "text/plain": [
       "(257205, 9)"
      ]
     },
     "execution_count": 27,
     "metadata": {},
     "output_type": "execute_result"
    }
   ],
   "source": [
    "if n_cpu != 4:\n",
    "    skill_docs = pd.read_csv(\n",
    "        OUTPUT_DIR + \"skill_tokens_long_df.csv\",\n",
    "        converters={\n",
    "            \"skill_token\": ast.literal_eval,\n",
    "        },\n",
    "        dtype={\n",
    "            \"key_id\": int,\n",
    "            \"skill_id\": int,\n",
    "            \"job_id\": int,\n",
    "            \"column_type\": str,\n",
    "            \"skill\": str,\n",
    "            \"skill_lemma\": str\n",
    "        }\n",
    "    )\n",
    "else:\n",
    "    skill_docs = pd.read_csv(\n",
    "    INPUT_DIR + \"skill_tokens_long_df.csv\",\n",
    "    converters={\n",
    "        \"skill_token\": ast.literal_eval,\n",
    "    },\n",
    "    dtype={\n",
    "        \"key_id\": int,\n",
    "        \"skill_id\": int,\n",
    "        \"job_id\": int,\n",
    "        \"column_type\": str,\n",
    "        \"skill\": str,\n",
    "        \"skill_lemma\": str\n",
    "    }\n",
    ")\n",
    "skill_docs.shape"
   ]
  },
  {
   "cell_type": "code",
   "execution_count": 28,
   "metadata": {
    "id": "WqXlQdq5kH53",
    "outputId": "7353d4af-826c-4bf2-c154-9a32e1d6a146",
    "tags": []
   },
   "outputs": [
    {
     "data": {
      "text/html": [
       "<div>\n",
       "<style scoped>\n",
       "    .dataframe tbody tr th:only-of-type {\n",
       "        vertical-align: middle;\n",
       "    }\n",
       "\n",
       "    .dataframe tbody tr th {\n",
       "        vertical-align: top;\n",
       "    }\n",
       "\n",
       "    .dataframe thead th {\n",
       "        text-align: right;\n",
       "    }\n",
       "</style>\n",
       "<table border=\"1\" class=\"dataframe\">\n",
       "  <thead>\n",
       "    <tr style=\"text-align: right;\">\n",
       "      <th></th>\n",
       "      <th>row_id</th>\n",
       "      <th>key_id</th>\n",
       "      <th>job_id</th>\n",
       "      <th>skill_id</th>\n",
       "      <th>column_id</th>\n",
       "      <th>column_type</th>\n",
       "      <th>skill</th>\n",
       "      <th>skill_lemma</th>\n",
       "      <th>skill_token</th>\n",
       "    </tr>\n",
       "  </thead>\n",
       "  <tbody>\n",
       "    <tr>\n",
       "      <th>0</th>\n",
       "      <td>10101</td>\n",
       "      <td>101</td>\n",
       "      <td>1</td>\n",
       "      <td>1</td>\n",
       "      <td>1</td>\n",
       "      <td>job_description</td>\n",
       "      <td>ameria investment consulting company</td>\n",
       "      <td>ameria investment consult company</td>\n",
       "      <td>[ameria, investment, consult, company]</td>\n",
       "    </tr>\n",
       "    <tr>\n",
       "      <th>1</th>\n",
       "      <td>10201</td>\n",
       "      <td>102</td>\n",
       "      <td>1</td>\n",
       "      <td>2</td>\n",
       "      <td>1</td>\n",
       "      <td>job_description</td>\n",
       "      <td>requires high level</td>\n",
       "      <td>require high level</td>\n",
       "      <td>[require, high, level]</td>\n",
       "    </tr>\n",
       "    <tr>\n",
       "      <th>2</th>\n",
       "      <td>10301</td>\n",
       "      <td>103</td>\n",
       "      <td>1</td>\n",
       "      <td>3</td>\n",
       "      <td>1</td>\n",
       "      <td>job_description</td>\n",
       "      <td>provides highly responsible</td>\n",
       "      <td>provide highly responsible</td>\n",
       "      <td>[provide, highly, responsible]</td>\n",
       "    </tr>\n",
       "    <tr>\n",
       "      <th>3</th>\n",
       "      <td>10401</td>\n",
       "      <td>104</td>\n",
       "      <td>1</td>\n",
       "      <td>4</td>\n",
       "      <td>1</td>\n",
       "      <td>job_description</td>\n",
       "      <td>complex staff assistance</td>\n",
       "      <td>complex staff assistance</td>\n",
       "      <td>[complex, staff, assistance]</td>\n",
       "    </tr>\n",
       "    <tr>\n",
       "      <th>4</th>\n",
       "      <td>10501</td>\n",
       "      <td>105</td>\n",
       "      <td>1</td>\n",
       "      <td>5</td>\n",
       "      <td>1</td>\n",
       "      <td>job_description</td>\n",
       "      <td>chief financial officer</td>\n",
       "      <td>chief financial officer</td>\n",
       "      <td>[chief, financial, officer]</td>\n",
       "    </tr>\n",
       "    <tr>\n",
       "      <th>...</th>\n",
       "      <td>...</td>\n",
       "      <td>...</td>\n",
       "      <td>...</td>\n",
       "      <td>...</td>\n",
       "      <td>...</td>\n",
       "      <td>...</td>\n",
       "      <td>...</td>\n",
       "      <td>...</td>\n",
       "      <td>...</td>\n",
       "    </tr>\n",
       "    <tr>\n",
       "      <th>257200</th>\n",
       "      <td>190010103</td>\n",
       "      <td>1900101</td>\n",
       "      <td>19001</td>\n",
       "      <td>1</td>\n",
       "      <td>3</td>\n",
       "      <td>job_qualification</td>\n",
       "      <td>ra financial system</td>\n",
       "      <td>ra financial system</td>\n",
       "      <td>[ra, financial, system]</td>\n",
       "    </tr>\n",
       "    <tr>\n",
       "      <th>257201</th>\n",
       "      <td>190010203</td>\n",
       "      <td>1900102</td>\n",
       "      <td>19001</td>\n",
       "      <td>2</td>\n",
       "      <td>3</td>\n",
       "      <td>job_qualification</td>\n",
       "      <td>higher legal education</td>\n",
       "      <td>high legal education</td>\n",
       "      <td>[high, legal, education]</td>\n",
       "    </tr>\n",
       "    <tr>\n",
       "      <th>257202</th>\n",
       "      <td>190010303</td>\n",
       "      <td>1900103</td>\n",
       "      <td>19001</td>\n",
       "      <td>3</td>\n",
       "      <td>3</td>\n",
       "      <td>job_qualification</td>\n",
       "      <td>high pressure environment</td>\n",
       "      <td>high pressure environment</td>\n",
       "      <td>[high, pressure, environment]</td>\n",
       "    </tr>\n",
       "    <tr>\n",
       "      <th>257203</th>\n",
       "      <td>190010403</td>\n",
       "      <td>1900104</td>\n",
       "      <td>19001</td>\n",
       "      <td>4</td>\n",
       "      <td>3</td>\n",
       "      <td>job_qualification</td>\n",
       "      <td>professional work experience</td>\n",
       "      <td>professional work experience</td>\n",
       "      <td>[professional, work, experience]</td>\n",
       "    </tr>\n",
       "    <tr>\n",
       "      <th>257204</th>\n",
       "      <td>190010503</td>\n",
       "      <td>1900105</td>\n",
       "      <td>19001</td>\n",
       "      <td>5</td>\n",
       "      <td>3</td>\n",
       "      <td>job_qualification</td>\n",
       "      <td>work experience</td>\n",
       "      <td>work experience</td>\n",
       "      <td>[work, experience]</td>\n",
       "    </tr>\n",
       "  </tbody>\n",
       "</table>\n",
       "<p>257205 rows × 9 columns</p>\n",
       "</div>"
      ],
      "text/plain": [
       "           row_id   key_id  job_id  skill_id  column_id        column_type  \\\n",
       "0           10101      101       1         1          1    job_description   \n",
       "1           10201      102       1         2          1    job_description   \n",
       "2           10301      103       1         3          1    job_description   \n",
       "3           10401      104       1         4          1    job_description   \n",
       "4           10501      105       1         5          1    job_description   \n",
       "...           ...      ...     ...       ...        ...                ...   \n",
       "257200  190010103  1900101   19001         1          3  job_qualification   \n",
       "257201  190010203  1900102   19001         2          3  job_qualification   \n",
       "257202  190010303  1900103   19001         3          3  job_qualification   \n",
       "257203  190010403  1900104   19001         4          3  job_qualification   \n",
       "257204  190010503  1900105   19001         5          3  job_qualification   \n",
       "\n",
       "                                       skill  \\\n",
       "0       ameria investment consulting company   \n",
       "1                        requires high level   \n",
       "2                provides highly responsible   \n",
       "3                   complex staff assistance   \n",
       "4                    chief financial officer   \n",
       "...                                      ...   \n",
       "257200                   ra financial system   \n",
       "257201                higher legal education   \n",
       "257202             high pressure environment   \n",
       "257203          professional work experience   \n",
       "257204                       work experience   \n",
       "\n",
       "                              skill_lemma  \\\n",
       "0       ameria investment consult company   \n",
       "1                      require high level   \n",
       "2              provide highly responsible   \n",
       "3                complex staff assistance   \n",
       "4                 chief financial officer   \n",
       "...                                   ...   \n",
       "257200                ra financial system   \n",
       "257201               high legal education   \n",
       "257202          high pressure environment   \n",
       "257203       professional work experience   \n",
       "257204                    work experience   \n",
       "\n",
       "                                   skill_token  \n",
       "0       [ameria, investment, consult, company]  \n",
       "1                       [require, high, level]  \n",
       "2               [provide, highly, responsible]  \n",
       "3                 [complex, staff, assistance]  \n",
       "4                  [chief, financial, officer]  \n",
       "...                                        ...  \n",
       "257200                 [ra, financial, system]  \n",
       "257201                [high, legal, education]  \n",
       "257202           [high, pressure, environment]  \n",
       "257203        [professional, work, experience]  \n",
       "257204                      [work, experience]  \n",
       "\n",
       "[257205 rows x 9 columns]"
      ]
     },
     "execution_count": 28,
     "metadata": {},
     "output_type": "execute_result"
    }
   ],
   "source": [
    "skill_docs"
   ]
  },
  {
   "cell_type": "markdown",
   "metadata": {
    "id": "pIKwyDPlkH54"
   },
   "source": [
    "## Clustering data"
   ]
  },
  {
   "cell_type": "markdown",
   "metadata": {
    "id": "gD95MzHRkH55"
   },
   "source": [
    "### Gibbs Sampling Dirichlet Mixture Model (GSDMM)"
   ]
  },
  {
   "cell_type": "code",
   "execution_count": 29,
   "metadata": {
    "id": "JeqnjGbsk9GS",
    "outputId": "fc958bda-08c3-4938-80d5-ec5fc18b2b21",
    "tags": []
   },
   "outputs": [
    {
     "name": "stdout",
     "output_type": "stream",
     "text": [
      "['ameria investment consult company',\n",
      " 'require high level',\n",
      " 'provide highly responsible',\n",
      " 'complex staff assistance',\n",
      " 'chief financial officer',\n",
      " 'irex currently seek',\n",
      " 'position report directly',\n",
      " 'cc program manager',\n",
      " 'yerevan office',\n",
      " 'community connection']\n",
      "[['ameria', 'investment', 'consult', 'company'],\n",
      " ['require', 'high', 'level'],\n",
      " ['provide', 'highly', 'responsible'],\n",
      " ['complex', 'staff', 'assistance'],\n",
      " ['chief', 'financial', 'officer'],\n",
      " ['irex', 'currently', 'seek'],\n",
      " ['position', 'report', 'directly'],\n",
      " ['cc', 'program', 'manager'],\n",
      " ['yerevan', 'office'],\n",
      " ['community', 'connection']]\n",
      "[[(0, 1), (1, 1), (2, 1), (3, 1)],\n",
      " [(4, 1), (5, 1), (6, 1)],\n",
      " [(7, 1), (8, 1), (9, 1)]]\n"
     ]
    }
   ],
   "source": [
    "# Create doc list of clean job titles\n",
    "doc_list = skill_docs[\"skill_lemma\"].values.tolist()\n",
    "pprint(doc_list[:10])\n",
    "\n",
    "# Create corpus (list of tokens per document)\n",
    "skill_corpus = skill_docs[\"skill_token\"].values.tolist()\n",
    "pprint(skill_corpus[:10])\n",
    "\n",
    "# Create Dictionary\n",
    "id2word = Dictionary(skill_corpus)\n",
    "\n",
    "# # Term Document Frequency\n",
    "model_corpus = [id2word.doc2bow(text) for text in skill_corpus]\n",
    "pprint(model_corpus[:3])"
   ]
  },
  {
   "cell_type": "code",
   "execution_count": 30,
   "metadata": {
    "id": "cJaiduRAluhH",
    "outputId": "eeb065b3-f323-4fe8-a574-c37edaa11820",
    "tags": []
   },
   "outputs": [
    {
     "data": {
      "text/plain": [
       "(9330,\n",
       " ['expense',\n",
       "  'mitsubishi',\n",
       "  'ycap',\n",
       "  'powerful',\n",
       "  'ppmc',\n",
       "  'codex',\n",
       "  'theater',\n",
       "  'intake',\n",
       "  'personal',\n",
       "  'mercury'])"
      ]
     },
     "execution_count": 30,
     "metadata": {},
     "output_type": "execute_result"
    }
   ],
   "source": [
    "skill_vocab = set([word for sublist in skill_corpus for word in sublist])\n",
    "len(skill_vocab), list(skill_vocab)[:10]"
   ]
  },
  {
   "cell_type": "code",
   "execution_count": 11,
   "metadata": {
    "execution": {
     "iopub.execute_input": "2021-05-20T19:50:26.440906Z",
     "iopub.status.busy": "2021-05-20T19:50:26.440298Z",
     "iopub.status.idle": "2021-05-20T19:50:26.451277Z",
     "shell.execute_reply": "2021-05-20T19:50:26.450220Z",
     "shell.execute_reply.started": "2021-05-20T19:50:26.440861Z"
    },
    "id": "HOXgh-sskH57"
   },
   "outputs": [],
   "source": [
    "def build_mgp_model(\n",
    "    X,\n",
    "    corpus,\n",
    "    vocab_size,\n",
    "    K=100,\n",
    "    alpha=0.1,\n",
    "    beta=0.1,\n",
    "    n_iters=50,\n",
    "    seed=6886,\n",
    "):\n",
    "    \"\"\"\n",
    "    A MovieGroupProcess is a conceptual model introduced by Yin and Wang 2014 to\n",
    "    describe their Gibbs sampling algorithm for a Dirichlet Mixture Model for the\n",
    "    clustering short text documents.\n",
    "    Reference: http://dbgroup.cs.tsinghua.edu.cn/wangjy/papers/KDD14-GSDMM.pdf\n",
    "    Imagine a professor is leading a film class. At the start of the class, the students\n",
    "    are randomly assigned to K tables. Before class begins, the students make lists of\n",
    "    their favorite films. The teacher reads the role n_iters times. When\n",
    "    a student is called, the student must select a new table satisfying either:\n",
    "        1) The new table has more students than the current table.\n",
    "    OR\n",
    "        2) The new table has students with similar lists of favorite movies.\n",
    "\n",
    "    :param K: int\n",
    "        Upper bound on the number of possible clusters. Typically many fewer\n",
    "    :param alpha: float between 0 and 1\n",
    "        Alpha controls the probability that a student will join a table that is currently empty\n",
    "        When alpha is 0, no one will join an empty table.\n",
    "    :param beta: float between 0 and 1\n",
    "        Beta controls the student's affinity for other students with similar interests. A low beta means\n",
    "        that students desire to sit with students of similar interests. A high beta means they are less\n",
    "        concerned with affinity and are more influenced by the popularity of a table\n",
    "    \"\"\"\n",
    "    np.random.seed(SEED)\n",
    "    mgp = MovieGroupProcess(K=K, alpha=alpha, beta=beta, n_iters=n_iters)\n",
    "\n",
    "    \"\"\"\n",
    "        MovieGroupProcess().fit: Cluster the input documents\n",
    "        :param docs: list of list\n",
    "            list of lists containing the unique token set of each document\n",
    "        :param V: total vocabulary size for each document\n",
    "        :return:\n",
    "            # d_z = cluster label for each document,\n",
    "            # m_z = cluster_doc_count,\n",
    "            # n_z = cluster_word_count,\n",
    "            # n_z_w = cluster_word_distribution\n",
    "            # cluster_count = number of clusters found\n",
    "    \"\"\"\n",
    "    #     mgp_labels = mgp.fit(docs=corpus, vocab_size=vocab_size)\n",
    "    d_z, m_z, n_z, n_z_w, cluster_count, iter_result = mgp.fit(\n",
    "        docs=corpus, vocab_size=vocab_size\n",
    "    )\n",
    "\n",
    "    return mgp, d_z, m_z, n_z, n_z_w, cluster_count, iter_result"
   ]
  },
  {
   "cell_type": "markdown",
   "metadata": {
    "id": "GHc87KCEkH59"
   },
   "source": [
    "## Tuning hyperparameters"
   ]
  },
  {
   "cell_type": "code",
   "execution_count": 29,
   "metadata": {
    "execution": {
     "iopub.execute_input": "2021-05-20T19:56:13.103174Z",
     "iopub.status.busy": "2021-05-20T19:56:13.102750Z",
     "iopub.status.idle": "2021-05-20T19:56:13.112308Z",
     "shell.execute_reply": "2021-05-20T19:56:13.110718Z",
     "shell.execute_reply.started": "2021-05-20T19:56:13.103137Z"
    },
    "id": "HvReEEaBkH59"
   },
   "outputs": [],
   "source": [
    "# Preparing hyperparameters for tuning\n",
    "n_iters = 5\n",
    "# n_iters = 2\n",
    "\n",
    "# Topics range\n",
    "topic_range = [200]\n",
    "\n",
    "# Alpha parameter\n",
    "alpha_range = [0.001, 0.5]\n",
    "# alpha_range = [0.001]\n",
    "\n",
    "# Beta parameter\n",
    "beta_range = [0.001, 0.5]\n",
    "# beta_range = [0.001]\n",
    "\n",
    "tuning_result = {\n",
    "    \"n_iters\": [],\n",
    "    \"max_topics\": [],\n",
    "    \"alpha\": [],\n",
    "    \"beta\": [],\n",
    "    \"duration\": [],\n",
    "    \"n_clusters\": [],\n",
    "}\n",
    "\n",
    "model_list = []\n",
    "label_list = []\n",
    "topics_list = []\n",
    "iter_result_list = []\n",
    "distribution_dict = {\n",
    "    \"n_iters\": [],\n",
    "    \"max_topics\": [],\n",
    "    \"alpha\": [],\n",
    "    \"beta\": [],\n",
    "    \"m_z\": [],\n",
    "    \"n_z\": [],\n",
    "    \"n_z_w\": [],\n",
    "}\n",
    "# m_z = cluster_doc_count,\n",
    "# n_z = cluster_word_count,\n",
    "# n_z_w = cluster_word_distribution\n",
    "# cluster_count = number of clusters found"
   ]
  },
  {
   "cell_type": "code",
   "execution_count": 30,
   "metadata": {
    "execution": {
     "iopub.execute_input": "2021-05-20T19:56:14.157787Z",
     "iopub.status.busy": "2021-05-20T19:56:14.157355Z",
     "iopub.status.idle": "2021-05-20T19:56:14.166512Z",
     "shell.execute_reply": "2021-05-20T19:56:14.165065Z",
     "shell.execute_reply.started": "2021-05-20T19:56:14.157753Z"
    },
    "id": "emgUyn3xl7EA",
    "outputId": "8f3f6403-80fb-45b6-972b-b402db7c2bdc"
   },
   "outputs": [
    {
     "name": "stdout",
     "output_type": "stream",
     "text": [
      "[2]\n",
      "[0.001]\n",
      "[0.001]\n",
      "1 1 1 1\n"
     ]
    }
   ],
   "source": [
    "print(topic_range)\n",
    "print(alpha_range)\n",
    "print(beta_range)\n",
    "print(\n",
    "    len(topic_range),\n",
    "    len(alpha_range),\n",
    "    len(beta_range),\n",
    "    len(topic_range) * len(alpha_range) * len(beta_range),\n",
    ")"
   ]
  },
  {
   "cell_type": "code",
   "execution_count": 31,
   "metadata": {
    "execution": {
     "iopub.execute_input": "2021-05-20T19:56:15.676609Z",
     "iopub.status.busy": "2021-05-20T19:56:15.676182Z",
     "iopub.status.idle": "2021-05-20T19:56:50.106817Z",
     "shell.execute_reply": "2021-05-20T19:56:50.103198Z",
     "shell.execute_reply.started": "2021-05-20T19:56:15.676574Z"
    },
    "id": "L-EwmHW6kH5_",
    "outputId": "31905571-d076-4ac2-918c-1710037d1ab3"
   },
   "outputs": [
    {
     "data": {
      "application/vnd.jupyter.widget-view+json": {
       "model_id": "0767e150ec974c32ba8c94ecc4e0e07f",
       "version_major": 2,
       "version_minor": 0
      },
      "text/plain": [
       "GSDMM tuning:   0%|          | 0/1 [00:00<?, ?it/s]"
      ]
     },
     "metadata": {},
     "output_type": "display_data"
    },
    {
     "name": "stdout",
     "output_type": "stream",
     "text": [
      "Start 2021-05-20 19:56:15.724199\n",
      "max_topics = 2\n",
      "n_iters = 1\n",
      "alpha = 0.001\n",
      "beta = 0.001\n"
     ]
    },
    {
     "data": {
      "application/vnd.jupyter.widget-view+json": {
       "model_id": "822e457460964013898e6de2f125ff41",
       "version_major": 2,
       "version_minor": 0
      },
      "text/plain": [
       "Sampling documents:   0%|          | 0/257205 [00:00<?, ?it/s]"
      ]
     },
     "metadata": {},
     "output_type": "display_data"
    },
    {
     "data": {
      "application/vnd.jupyter.widget-view+json": {
       "model_id": "7a94ab2f9b1b43198a43027be7ae3296",
       "version_major": 2,
       "version_minor": 0
      },
      "text/plain": [
       "Iteration:   0%|          | 0/1 [00:00<?, ?it/s]"
      ]
     },
     "metadata": {},
     "output_type": "display_data"
    },
    {
     "data": {
      "application/vnd.jupyter.widget-view+json": {
       "model_id": "f1650edae8ad42fa8d494e672c873387",
       "version_major": 2,
       "version_minor": 0
      },
      "text/plain": [
       "Transfering docs:   0%|          | 0/257205 [00:00<?, ?it/s]"
      ]
     },
     "metadata": {},
     "output_type": "display_data"
    },
    {
     "name": "stdout",
     "output_type": "stream",
     "text": [
      "In stage 0: transferred 125631 clusters with 2 clusters populated\n",
      "End 2021-05-20 19:56:50.055320\n",
      "Duration 0:00:34.331121\n"
     ]
    }
   ],
   "source": [
    "# Tuning GSDMM to find optimal number of topics\n",
    "pbar = tqdm(\n",
    "    desc=\"GSDMM tuning\",\n",
    "    total=len(topic_range) * len(alpha_range) * len(beta_range),\n",
    ")\n",
    "\n",
    "# iterate through number of topics\n",
    "for max_topics in topic_range:\n",
    "    # iterate through alpha values\n",
    "    for alpha in alpha_range:\n",
    "        # iterare through beta values\n",
    "        for beta in beta_range:\n",
    "            # Train model\n",
    "            starttime = datetime.now()\n",
    "            print(\"Start\", starttime.strftime(\"%Y-%m-%d %H:%M:%S.%f\"))\n",
    "            print(\"max_topics =\", max_topics)\n",
    "            print(\"n_iters =\", n_iters)\n",
    "            print(\"alpha =\", alpha)\n",
    "            print(\"beta =\", beta)\n",
    "\n",
    "            (\n",
    "                clusterer,\n",
    "                labels,\n",
    "                m_z,\n",
    "                n_z,\n",
    "                n_z_w,\n",
    "                n_clusters,\n",
    "                iter_result,\n",
    "            ) = build_mgp_model(\n",
    "                X=skill_docs,\n",
    "                corpus=skill_corpus,\n",
    "                vocab_size=len(skill_vocab),\n",
    "                K=max_topics,\n",
    "                alpha=alpha,\n",
    "                beta=beta,\n",
    "                n_iters=n_iters,\n",
    "                seed=SEED,\n",
    "            )\n",
    "\n",
    "            endtime = datetime.now()\n",
    "            print(\"End\", endtime.strftime(\"%Y-%m-%d %H:%M:%S.%f\"))\n",
    "            print(\"Duration\", endtime - starttime)\n",
    "\n",
    "            # Save model\n",
    "            pickle.dump(\n",
    "                clusterer,\n",
    "                open(\n",
    "                    OUTPUT_DIR\n",
    "                    + \"gsdmm/\"\n",
    "                    + \"skill_gsdmm_model_max_topics-\"\n",
    "                    + str(max_topics)\n",
    "                    + \"_n_iters-\"\n",
    "                    + str(n_iters)\n",
    "                    + \"_alpha-\"\n",
    "                    + str(alpha)\n",
    "                    + \"_beta-\"\n",
    "                    + str(beta)\n",
    "                    + \".pkl\",\n",
    "                    \"wb\",\n",
    "                ),\n",
    "            )\n",
    "\n",
    "            model_list.append(clusterer)\n",
    "            label_list.append(labels)\n",
    "\n",
    "            # Save the model results\n",
    "            tuning_result[\"n_iters\"].append(n_iters)\n",
    "            tuning_result[\"max_topics\"].append(max_topics)\n",
    "            tuning_result[\"alpha\"].append(alpha)\n",
    "            tuning_result[\"beta\"].append(beta)\n",
    "            tuning_result[\"duration\"].append(\n",
    "                round((endtime - starttime).seconds / 60, 4)\n",
    "            )\n",
    "            tuning_result[\"n_clusters\"].append(n_clusters)\n",
    "\n",
    "            distribution_dict[\"n_iters\"].append(n_iters)\n",
    "            distribution_dict[\"max_topics\"].append(max_topics)\n",
    "            distribution_dict[\"alpha\"].append(alpha)\n",
    "            distribution_dict[\"beta\"].append(beta)\n",
    "            distribution_dict[\"m_z\"].append(m_z)\n",
    "            distribution_dict[\"n_z\"].append(n_z)\n",
    "            distribution_dict[\"n_z_w\"].append(n_z_w)\n",
    "\n",
    "            topic_word_list = []\n",
    "            for i in range(len(n_z_w)):\n",
    "                topic_word_list.append(list(n_z_w[i].keys()))\n",
    "            topics_list.append(topic_word_list)\n",
    "\n",
    "            # {\"iter\", \"transferred_clusters\", \"populated_clusters\"}\n",
    "            iter_result_list.append(iter_result)\n",
    "            pbar.update(1)\n",
    "pbar.close()"
   ]
  },
  {
   "cell_type": "code",
   "execution_count": 11,
   "metadata": {
    "id": "2KrAjpzrmU6Z",
    "tags": []
   },
   "outputs": [],
   "source": [
    "def compute_evaluation_metrics(topics, corpus, dictionary, texts):\n",
    "    \"\"\"\n",
    "    Compute umass, c_v coherence and perplexity for various number of topics\n",
    "\n",
    "    Parameters:\n",
    "    ----------\n",
    "    topics: list of topic words produced by topic model\n",
    "    corpus: Gensim corpus\n",
    "    dictionary: Gensim dictionary\n",
    "    texts: List of input texts\n",
    "\n",
    "    Returns:\n",
    "    -------\n",
    "    coherence_umass: UMASS Coherence value with respective number of topics\n",
    "    coherence_cv: C_V Coherence value with respective number of topics\n",
    "    \"\"\"\n",
    "    print('Computing UMASS')\n",
    "    umass_coherence_model = CoherenceModel(\n",
    "        topics=topics, texts=texts, dictionary=dictionary, coherence=\"u_mass\"\n",
    "    )\n",
    "    coherence_umass = umass_coherence_model.get_coherence()\n",
    "    print('Done computing UMASS')\n",
    "\n",
    "    print('Computing CV')\n",
    "    cv_model = CoherenceModel(\n",
    "        topics=topics, texts=texts, dictionary=dictionary, coherence=\"c_v\"\n",
    "    )\n",
    "    coherence_cv = cv_model.get_coherence()\n",
    "    print('Done computing CV')\n",
    "#     perplexity_value = model.log_perplexity(corpus)\n",
    "\n",
    "    return coherence_umass, coherence_cv, #perplexity_value"
   ]
  },
  {
   "cell_type": "code",
   "execution_count": 34,
   "metadata": {
    "execution": {
     "iopub.execute_input": "2021-05-20T19:56:50.137752Z",
     "iopub.status.busy": "2021-05-20T19:56:50.137443Z",
     "iopub.status.idle": "2021-05-20T19:56:54.218707Z",
     "shell.execute_reply": "2021-05-20T19:56:54.217642Z",
     "shell.execute_reply.started": "2021-05-20T19:56:50.137721Z"
    },
    "id": "za9mgHT-mYNN"
   },
   "outputs": [
    {
     "data": {
      "application/vnd.jupyter.widget-view+json": {
       "model_id": "8232097b48da4ae9b0f0e6e137d7ed0d",
       "version_major": 2,
       "version_minor": 0
      },
      "text/plain": [
       "Computing GSDMM Coherence:   0%|          | 0/1 [00:00<?, ?it/s]"
      ]
     },
     "metadata": {},
     "output_type": "display_data"
    }
   ],
   "source": [
    "evaluation_result = {}\n",
    "evaluation_result[\"coherence_umass\"] = []\n",
    "evaluation_result[\"coherence_cv\"] = []\n",
    "# tuning_result[\"perplexity\"] = []\n",
    "\n",
    "for idx, i in tqdm(\n",
    "    desc=\"Computing GSDMM Coherence\",\n",
    "    total=len(model_list),\n",
    "    iterable=enumerate(model_list),\n",
    "):\n",
    "    print(\"Computing GSDMM Coherence for model\", idx)\n",
    "    umass_score, cv_score = compute_evaluation_metrics(\n",
    "        topics_list[idx],\n",
    "        corpus=model_corpus,\n",
    "        dictionary=id2word,\n",
    "        texts=skill_corpus,\n",
    "    )\n",
    "    evaluation_result[\"coherence_umass\"].append(umass_score)\n",
    "    evaluation_result[\"coherence_cv\"].append(cv_score)\n",
    "#     evaluation_result[\"perplexity\"].append(perplexity)\n",
    "print(\"Done Computing GSDMM Coherence for model\", idx)"
   ]
  },
  {
   "cell_type": "code",
   "execution_count": 35,
   "metadata": {
    "execution": {
     "iopub.execute_input": "2021-05-20T19:56:54.220570Z",
     "iopub.status.busy": "2021-05-20T19:56:54.220265Z",
     "iopub.status.idle": "2021-05-20T19:56:54.236224Z",
     "shell.execute_reply": "2021-05-20T19:56:54.235439Z",
     "shell.execute_reply.started": "2021-05-20T19:56:54.220536Z"
    },
    "id": "pC8so6sLmc5Q"
   },
   "outputs": [
    {
     "data": {
      "text/html": [
       "<div>\n",
       "<style scoped>\n",
       "    .dataframe tbody tr th:only-of-type {\n",
       "        vertical-align: middle;\n",
       "    }\n",
       "\n",
       "    .dataframe tbody tr th {\n",
       "        vertical-align: top;\n",
       "    }\n",
       "\n",
       "    .dataframe thead th {\n",
       "        text-align: right;\n",
       "    }\n",
       "</style>\n",
       "<table border=\"1\" class=\"dataframe\">\n",
       "  <thead>\n",
       "    <tr style=\"text-align: right;\">\n",
       "      <th></th>\n",
       "      <th>n_iters</th>\n",
       "      <th>max_topics</th>\n",
       "      <th>alpha</th>\n",
       "      <th>beta</th>\n",
       "      <th>duration</th>\n",
       "      <th>n_clusters</th>\n",
       "    </tr>\n",
       "  </thead>\n",
       "  <tbody>\n",
       "    <tr>\n",
       "      <th>0</th>\n",
       "      <td>1</td>\n",
       "      <td>2</td>\n",
       "      <td>0.001</td>\n",
       "      <td>0.001</td>\n",
       "      <td>0.5667</td>\n",
       "      <td>2</td>\n",
       "    </tr>\n",
       "  </tbody>\n",
       "</table>\n",
       "</div>"
      ],
      "text/plain": [
       "   n_iters  max_topics  alpha   beta  duration  n_clusters\n",
       "0        1           2  0.001  0.001    0.5667           2"
      ]
     },
     "execution_count": 35,
     "metadata": {},
     "output_type": "execute_result"
    }
   ],
   "source": [
    "# Display tuning results\n",
    "tuning_result_df = pd.DataFrame(tuning_result)\n",
    "tuning_result_df"
   ]
  },
  {
   "cell_type": "code",
   "execution_count": 36,
   "metadata": {
    "execution": {
     "iopub.execute_input": "2021-05-20T19:56:54.237660Z",
     "iopub.status.busy": "2021-05-20T19:56:54.237272Z",
     "iopub.status.idle": "2021-05-20T19:56:54.255587Z",
     "shell.execute_reply": "2021-05-20T19:56:54.254370Z",
     "shell.execute_reply.started": "2021-05-20T19:56:54.237630Z"
    },
    "id": "RygM9TLZmgKv"
   },
   "outputs": [
    {
     "data": {
      "text/html": [
       "<div>\n",
       "<style scoped>\n",
       "    .dataframe tbody tr th:only-of-type {\n",
       "        vertical-align: middle;\n",
       "    }\n",
       "\n",
       "    .dataframe tbody tr th {\n",
       "        vertical-align: top;\n",
       "    }\n",
       "\n",
       "    .dataframe thead th {\n",
       "        text-align: right;\n",
       "    }\n",
       "</style>\n",
       "<table border=\"1\" class=\"dataframe\">\n",
       "  <thead>\n",
       "    <tr style=\"text-align: right;\">\n",
       "      <th></th>\n",
       "      <th>coherence_umass</th>\n",
       "      <th>coherence_cv</th>\n",
       "    </tr>\n",
       "  </thead>\n",
       "  <tbody>\n",
       "    <tr>\n",
       "      <th>0</th>\n",
       "      <td>-12.971517</td>\n",
       "      <td>0.637518</td>\n",
       "    </tr>\n",
       "  </tbody>\n",
       "</table>\n",
       "</div>"
      ],
      "text/plain": [
       "   coherence_umass  coherence_cv\n",
       "0       -12.971517      0.637518"
      ]
     },
     "execution_count": 36,
     "metadata": {},
     "output_type": "execute_result"
    }
   ],
   "source": [
    "# Display evaluation_result\n",
    "evaluation_result_df = pd.DataFrame(evaluation_result)\n",
    "evaluation_result_df"
   ]
  },
  {
   "cell_type": "code",
   "execution_count": 39,
   "metadata": {
    "execution": {
     "iopub.execute_input": "2021-05-20T19:58:11.124659Z",
     "iopub.status.busy": "2021-05-20T19:58:11.124267Z",
     "iopub.status.idle": "2021-05-20T19:58:11.132592Z",
     "shell.execute_reply": "2021-05-20T19:58:11.131325Z",
     "shell.execute_reply.started": "2021-05-20T19:58:11.124628Z"
    },
    "id": "Q4rwL3WQmg7R"
   },
   "outputs": [],
   "source": [
    "# Save tuning results\n",
    "tuning_result_df.to_csv(\n",
    "    RESULT_DIR + \"gsdmm/\" + \"skill_gsdmm_tuning_result.csv\", index=False\n",
    ")"
   ]
  },
  {
   "cell_type": "code",
   "execution_count": 40,
   "metadata": {
    "execution": {
     "iopub.execute_input": "2021-05-20T19:58:13.029732Z",
     "iopub.status.busy": "2021-05-20T19:58:13.029360Z",
     "iopub.status.idle": "2021-05-20T19:58:13.036683Z",
     "shell.execute_reply": "2021-05-20T19:58:13.035709Z",
     "shell.execute_reply.started": "2021-05-20T19:58:13.029703Z"
    },
    "id": "xwx6BtwPmj0v"
   },
   "outputs": [],
   "source": [
    "# Save tuning results\n",
    "evaluation_result_df.to_csv(\n",
    "    RESULT_DIR + \"gsdmm/\" + \"skill_gsdmm_evaluation_result.csv\", index=False\n",
    ")"
   ]
  },
  {
   "cell_type": "code",
   "execution_count": 41,
   "metadata": {
    "execution": {
     "iopub.execute_input": "2021-05-20T19:58:14.801392Z",
     "iopub.status.busy": "2021-05-20T19:58:14.800776Z",
     "iopub.status.idle": "2021-05-20T19:58:14.807824Z",
     "shell.execute_reply": "2021-05-20T19:58:14.806822Z",
     "shell.execute_reply.started": "2021-05-20T19:58:14.801339Z"
    },
    "id": "lIqTkmC0mlue"
   },
   "outputs": [
    {
     "data": {
      "text/plain": [
       "(6, 1)"
      ]
     },
     "execution_count": 41,
     "metadata": {},
     "output_type": "execute_result"
    }
   ],
   "source": [
    "# Combine model sets\n",
    "tuple_objects = (\n",
    "    model_list,\n",
    "    topics_list,\n",
    "    label_list,\n",
    "    distribution_dict,\n",
    "    tuning_result,\n",
    "    evaluation_result,\n",
    "    iter_result_list\n",
    ")\n",
    "len(tuple_objects), len(tuple_objects[0])"
   ]
  },
  {
   "cell_type": "code",
   "execution_count": 42,
   "metadata": {
    "execution": {
     "iopub.execute_input": "2021-05-20T19:58:16.876610Z",
     "iopub.status.busy": "2021-05-20T19:58:16.876187Z",
     "iopub.status.idle": "2021-05-20T19:58:16.892359Z",
     "shell.execute_reply": "2021-05-20T19:58:16.890726Z",
     "shell.execute_reply.started": "2021-05-20T19:58:16.876571Z"
    },
    "id": "Ki6zmB4-mtgI"
   },
   "outputs": [],
   "source": [
    "# Save tuple of model sets\n",
    "pickle.dump(\n",
    "    tuple_objects, open(RESULT_DIR + \"gsdmm/\" + \"skill_gsdmm_model_tuning_list.pkl\", \"wb\")\n",
    ")"
   ]
  },
  {
   "cell_type": "code",
   "execution_count": 15,
   "metadata": {},
   "outputs": [],
   "source": [
    "# # Load tuple of model sets\n",
    "# (\n",
    "#     model_list,\n",
    "#     topics_list,\n",
    "#     label_list,\n",
    "#     distribution_dict,\n",
    "#     tuning_result,\n",
    "#     evaluation_result,\n",
    "#     iter_result_list\n",
    "# ) = pickle.load(\n",
    "#     open(RESULT_DIR + \"gsdmm/\" + \"skill_gsdmm_model_tuning_list.pkl\", \"rb\")\n",
    "# )"
   ]
  },
  {
   "cell_type": "code",
   "execution_count": 18,
   "metadata": {},
   "outputs": [
    {
     "data": {
      "text/html": [
       "<div>\n",
       "<style scoped>\n",
       "    .dataframe tbody tr th:only-of-type {\n",
       "        vertical-align: middle;\n",
       "    }\n",
       "\n",
       "    .dataframe tbody tr th {\n",
       "        vertical-align: top;\n",
       "    }\n",
       "\n",
       "    .dataframe thead th {\n",
       "        text-align: right;\n",
       "    }\n",
       "</style>\n",
       "<table border=\"1\" class=\"dataframe\">\n",
       "  <thead>\n",
       "    <tr style=\"text-align: right;\">\n",
       "      <th></th>\n",
       "      <th>n_iters</th>\n",
       "      <th>max_topics</th>\n",
       "      <th>alpha</th>\n",
       "      <th>beta</th>\n",
       "      <th>duration</th>\n",
       "      <th>n_clusters</th>\n",
       "      <th>coherence_umass</th>\n",
       "      <th>coherence_cv</th>\n",
       "    </tr>\n",
       "  </thead>\n",
       "  <tbody>\n",
       "    <tr>\n",
       "      <th>0</th>\n",
       "      <td>5</td>\n",
       "      <td>200</td>\n",
       "      <td>0.001</td>\n",
       "      <td>0.001</td>\n",
       "      <td>83.3833</td>\n",
       "      <td>200</td>\n",
       "      <td>-11.706332</td>\n",
       "      <td>0.527687</td>\n",
       "    </tr>\n",
       "    <tr>\n",
       "      <th>1</th>\n",
       "      <td>5</td>\n",
       "      <td>200</td>\n",
       "      <td>0.001</td>\n",
       "      <td>0.500</td>\n",
       "      <td>83.7167</td>\n",
       "      <td>117</td>\n",
       "      <td>NaN</td>\n",
       "      <td>NaN</td>\n",
       "    </tr>\n",
       "    <tr>\n",
       "      <th>2</th>\n",
       "      <td>5</td>\n",
       "      <td>200</td>\n",
       "      <td>0.500</td>\n",
       "      <td>0.001</td>\n",
       "      <td>84.4333</td>\n",
       "      <td>200</td>\n",
       "      <td>-11.778291</td>\n",
       "      <td>0.530342</td>\n",
       "    </tr>\n",
       "    <tr>\n",
       "      <th>3</th>\n",
       "      <td>5</td>\n",
       "      <td>200</td>\n",
       "      <td>0.500</td>\n",
       "      <td>0.500</td>\n",
       "      <td>84.5167</td>\n",
       "      <td>121</td>\n",
       "      <td>NaN</td>\n",
       "      <td>NaN</td>\n",
       "    </tr>\n",
       "  </tbody>\n",
       "</table>\n",
       "</div>"
      ],
      "text/plain": [
       "   n_iters  max_topics  alpha   beta  duration  n_clusters  coherence_umass  \\\n",
       "0        5         200  0.001  0.001   83.3833         200       -11.706332   \n",
       "1        5         200  0.001  0.500   83.7167         117              NaN   \n",
       "2        5         200  0.500  0.001   84.4333         200       -11.778291   \n",
       "3        5         200  0.500  0.500   84.5167         121              NaN   \n",
       "\n",
       "   coherence_cv  \n",
       "0      0.527687  \n",
       "1           NaN  \n",
       "2      0.530342  \n",
       "3           NaN  "
      ]
     },
     "execution_count": 18,
     "metadata": {},
     "output_type": "execute_result"
    }
   ],
   "source": [
    "# # Load tuning results\n",
    "# evaluation_result_df = pd.read_csv(\n",
    "#     RESULT_DIR + \"gsdmm/\" + \"skill_gsdmm_evaluation_result.csv\"\n",
    "# )\n",
    "# evaluation_result_df"
   ]
  },
  {
   "cell_type": "code",
   "execution_count": 19,
   "metadata": {},
   "outputs": [
    {
     "data": {
      "text/html": [
       "<div>\n",
       "<style scoped>\n",
       "    .dataframe tbody tr th:only-of-type {\n",
       "        vertical-align: middle;\n",
       "    }\n",
       "\n",
       "    .dataframe tbody tr th {\n",
       "        vertical-align: top;\n",
       "    }\n",
       "\n",
       "    .dataframe thead th {\n",
       "        text-align: right;\n",
       "    }\n",
       "</style>\n",
       "<table border=\"1\" class=\"dataframe\">\n",
       "  <thead>\n",
       "    <tr style=\"text-align: right;\">\n",
       "      <th></th>\n",
       "      <th>n_iters</th>\n",
       "      <th>max_topics</th>\n",
       "      <th>alpha</th>\n",
       "      <th>beta</th>\n",
       "      <th>duration</th>\n",
       "      <th>n_clusters</th>\n",
       "    </tr>\n",
       "  </thead>\n",
       "  <tbody>\n",
       "    <tr>\n",
       "      <th>0</th>\n",
       "      <td>5</td>\n",
       "      <td>200</td>\n",
       "      <td>0.001</td>\n",
       "      <td>0.001</td>\n",
       "      <td>83.3833</td>\n",
       "      <td>200</td>\n",
       "    </tr>\n",
       "    <tr>\n",
       "      <th>1</th>\n",
       "      <td>5</td>\n",
       "      <td>200</td>\n",
       "      <td>0.001</td>\n",
       "      <td>0.500</td>\n",
       "      <td>83.7167</td>\n",
       "      <td>117</td>\n",
       "    </tr>\n",
       "    <tr>\n",
       "      <th>2</th>\n",
       "      <td>5</td>\n",
       "      <td>200</td>\n",
       "      <td>0.500</td>\n",
       "      <td>0.001</td>\n",
       "      <td>84.4333</td>\n",
       "      <td>200</td>\n",
       "    </tr>\n",
       "    <tr>\n",
       "      <th>3</th>\n",
       "      <td>5</td>\n",
       "      <td>200</td>\n",
       "      <td>0.500</td>\n",
       "      <td>0.500</td>\n",
       "      <td>84.5167</td>\n",
       "      <td>121</td>\n",
       "    </tr>\n",
       "  </tbody>\n",
       "</table>\n",
       "</div>"
      ],
      "text/plain": [
       "   n_iters  max_topics  alpha   beta  duration  n_clusters\n",
       "0        5         200  0.001  0.001   83.3833         200\n",
       "1        5         200  0.001  0.500   83.7167         117\n",
       "2        5         200  0.500  0.001   84.4333         200\n",
       "3        5         200  0.500  0.500   84.5167         121"
      ]
     },
     "execution_count": 19,
     "metadata": {},
     "output_type": "execute_result"
    }
   ],
   "source": [
    "# Load tuning results\n",
    "tuning_result_df = pd.read_csv(\n",
    "    RESULT_DIR + \"gsdmm/\" + \"skill_gsdmm_tuning_result.csv\"\n",
    ")\n",
    "tuning_result_df"
   ]
  },
  {
   "cell_type": "code",
   "execution_count": 16,
   "metadata": {
    "id": "FS7sJIJKmygN",
    "tags": []
   },
   "outputs": [],
   "source": [
    "# List of markers for subplots\n",
    "marker_dict = {\n",
    "#     \".\": \"point\",\n",
    "#     \",\": \"pixel\",\n",
    "    \"o\": \"circle\",\n",
    "    \"v\": \"triangle_down\",\n",
    "    \"^\": \"triangle_up\",\n",
    "    \"<\": \"triangle_left\",\n",
    "    \">\": \"triangle_right\",\n",
    "    \"1\": \"tri_down\",\n",
    "    \"2\": \"tri_up\",\n",
    "    \"3\": \"tri_left\",\n",
    "    \"4\": \"tri_right\",\n",
    "    \"8\": \"octagon\",\n",
    "    \"s\": \"square\",\n",
    "    \"p\": \"pentagon\",\n",
    "    \"*\": \"star\",\n",
    "    \"h\": \"hexagon1\",\n",
    "    \"H\": \"hexagon2\",\n",
    "    \"+\": \"plus\",\n",
    "    \"x\": \"x\",\n",
    "    \"D\": \"diamond\",\n",
    "    \"d\": \"thin_diamond\",\n",
    "    \"|\": \"vline\",\n",
    "    \"_\": \"hline\",\n",
    "    \"P\": \"plus_filled\",\n",
    "    \"X\": \"x_filled\",\n",
    "    0: \"tickleft\",\n",
    "    1: \"tickright\",\n",
    "    2: \"tickup\",\n",
    "    3: \"tickdown\",\n",
    "    4: \"caretleft\",\n",
    "    5: \"caretright\",\n",
    "    6: \"caretup\",\n",
    "    7: \"caretdown\",\n",
    "    8: \"caretleftbase\",\n",
    "    9: \"caretrightbase\",\n",
    "    10: \"caretupbase\",\n",
    "    11: \"caretdownbase\",\n",
    "}\n",
    "marker_list = list(marker_dict.keys())"
   ]
  },
  {
   "cell_type": "markdown",
   "metadata": {
    "id": "RDH0hWqMm4a5"
   },
   "source": [
    "## Evaluation metrics"
   ]
  },
  {
   "cell_type": "markdown",
   "metadata": {
    "id": "DmGY77aQnAzc"
   },
   "source": [
    "#### Topic coherence"
   ]
  },
  {
   "cell_type": "code",
   "execution_count": 46,
   "metadata": {
    "execution": {
     "iopub.execute_input": "2021-05-20T20:00:33.007671Z",
     "iopub.status.busy": "2021-05-20T20:00:33.007290Z",
     "iopub.status.idle": "2021-05-20T20:00:33.508537Z",
     "shell.execute_reply": "2021-05-20T20:00:33.507460Z",
     "shell.execute_reply.started": "2021-05-20T20:00:33.007640Z"
    },
    "id": "7JiDoGk3m0my"
   },
   "outputs": [
    {
     "data": {
      "image/png": "[encoded data removed]",
      "text/plain": [
       "<Figure size 1296x432 with 2 Axes>"
      ]
     },
     "metadata": {
      "needs_background": "light"
     },
     "output_type": "display_data"
    }
   ],
   "source": [
    "palette = sns.color_palette(\"hls\", n_colors=len(beta_range))\n",
    "\n",
    "# The higher the better\n",
    "\n",
    "for ida, alpha in enumerate(alpha_range):\n",
    "    fig = plt.figure(figsize=(18, 6))\n",
    "    for idx, beta in enumerate(beta_range):\n",
    "        # Plot UMASS coherence\n",
    "        ax1 = plt.subplot(1, 2, 1)\n",
    "        ax1.plot(\n",
    "            tuning_result_df[\"n_clusters\"].loc[\n",
    "                (tuning_result_df[\"beta\"] == beta)\n",
    "                & (tuning_result_df[\"alpha\"] == alpha)\n",
    "            ],\n",
    "            evaluation_result_df[\"coherence_umass\"].loc[\n",
    "                (tuning_result_df[\"beta\"] == beta)\n",
    "                & (tuning_result_df[\"alpha\"] == alpha)\n",
    "            ],\n",
    "            label=\"Beta = \" + str(beta),\n",
    "            color=palette[idx],\n",
    "            marker=marker_list[idx],\n",
    "        )\n",
    "        ax1.set_ylabel(\"Topic Coherence (UMASS) score\")\n",
    "        # plt.xticks(np.unique(model_result_df[\"min_samples\"]))\n",
    "        ax1.set_title(\n",
    "            \"Topic Coherence (UMASS) of GSDMM clustering for job titles\\n\"\n",
    "            + \"Alpha = \"\n",
    "            + str(alpha)\n",
    "        )\n",
    "        ax1.legend(loc=\"best\")\n",
    "\n",
    "        # Plot C_V coherence\n",
    "        ax2 = plt.subplot(1, 2, 2)\n",
    "        ax2.plot(\n",
    "            tuning_result_df[\"n_clusters\"].loc[\n",
    "                (tuning_result_df[\"beta\"] == beta)\n",
    "                & (tuning_result_df[\"alpha\"] == alpha)\n",
    "            ],\n",
    "            evaluation_result_df[\"coherence_cv\"].loc[\n",
    "                (tuning_result_df[\"beta\"] == beta)\n",
    "                & (tuning_result_df[\"alpha\"] == alpha)\n",
    "            ],\n",
    "            label=\"Beta = \" + str(beta),\n",
    "            color=palette[idx],\n",
    "            marker=marker_list[idx],\n",
    "        )\n",
    "        ax2.set_ylabel(\"Topic Coherence (C_V) score\")\n",
    "        # plt.xticks(np.unique(model_result_df[\"min_samples\"]))\n",
    "        ax2.set_title(\n",
    "            \"Topic Coherence (C_V) of GSDMM clustering for job titles\\n\"\n",
    "            + \"Alpha = \"\n",
    "            + str(alpha)\n",
    "        )\n",
    "        ax2.set_xlabel(\"Number of topics\")\n",
    "        # plt.yticks(np.unique(model_result_df[\"number_clusters\"]))\n",
    "\n",
    "        ax2.legend(loc=\"best\")\n",
    "    ax1.grid()\n",
    "    ax2.grid()\n",
    "\n",
    "    # Saving plot as image\n",
    "    fig.savefig(\n",
    "        RESULT_DIR\n",
    "        + \"gsdmm/\"\n",
    "        + \"title_gsdmm_coherence_alpha-\"\n",
    "        + str(alpha)\n",
    "        + \"_plot.png\",\n",
    "        #     bbox_inches=\"tight\",\n",
    "        #     dpi=150,\n",
    "    )\n",
    "\n",
    "    # Show plot\n",
    "    plt.show()"
   ]
  },
  {
   "cell_type": "code",
   "execution_count": 21,
   "metadata": {
    "id": "EKJs4g3EnHbK",
    "tags": []
   },
   "outputs": [
    {
     "name": "stdout",
     "output_type": "stream",
     "text": [
      "Index of best coherence score 1\n",
      "Optimal number of clusters = 117, best alpha = 0.001, best beta = 0.5\n"
     ]
    }
   ],
   "source": [
    "# Select the GSDMM model with optimal number of clusters\n",
    "best_index = np.argmax(evaluation_result_df[\"coherence_cv\"].values)\n",
    "# best_index = int(\n",
    "#     np.where(\n",
    "#         (np.array(tuning_result[\"alpha\"]) == 0.001)\n",
    "#         & (np.array(tuning_result[\"beta\"]) == 0.001)\n",
    "#         & (np.array(tuning_result[\"n_topics\"]) == 25)\n",
    "#     )[0]\n",
    "# )\n",
    "print(\"Index of best coherence score\", best_index)\n",
    "best_n_clusters = tuning_result_df[\"n_clusters\"][best_index]\n",
    "best_alpha = tuning_result_df[\"alpha\"][best_index]\n",
    "best_beta = tuning_result_df[\"beta\"][best_index]\n",
    "\n",
    "print(\n",
    "    f\"Optimal number of clusters = {best_n_clusters}, best alpha = {best_alpha}, best beta = {best_beta}\"\n",
    ")"
   ]
  },
  {
   "cell_type": "code",
   "execution_count": 22,
   "metadata": {
    "id": "5N70VAJ0kH6O",
    "tags": []
   },
   "outputs": [
    {
     "ename": "NameError",
     "evalue": "name 'label_list' is not defined",
     "output_type": "error",
     "traceback": [
      "\u001b[1;31m---------------------------------------------------------------------------\u001b[0m",
      "\u001b[1;31mNameError\u001b[0m                                 Traceback (most recent call last)",
      "\u001b[1;32m<ipython-input-22-d56ecd96d850>\u001b[0m in \u001b[0;36m<module>\u001b[1;34m\u001b[0m\n\u001b[0;32m      1\u001b[0m \u001b[0mX\u001b[0m \u001b[1;33m=\u001b[0m \u001b[0mskill_embeddings\u001b[0m\u001b[1;33m\u001b[0m\u001b[1;33m\u001b[0m\u001b[0m\n\u001b[1;32m----> 2\u001b[1;33m \u001b[0mbest_labels\u001b[0m \u001b[1;33m=\u001b[0m \u001b[0mlabel_list\u001b[0m\u001b[1;33m[\u001b[0m\u001b[0mbest_index\u001b[0m\u001b[1;33m]\u001b[0m\u001b[1;33m\u001b[0m\u001b[1;33m\u001b[0m\u001b[0m\n\u001b[0m\u001b[0;32m      3\u001b[0m model_validation = {\n\u001b[0;32m      4\u001b[0m     \u001b[1;34m\"n_clusters\"\u001b[0m\u001b[1;33m:\u001b[0m \u001b[1;33m[\u001b[0m\u001b[0mbest_n_clusters\u001b[0m\u001b[1;33m]\u001b[0m\u001b[1;33m,\u001b[0m\u001b[1;33m\u001b[0m\u001b[1;33m\u001b[0m\u001b[0m\n\u001b[0;32m      5\u001b[0m     \u001b[1;34m\"alpha\"\u001b[0m\u001b[1;33m:\u001b[0m \u001b[1;33m[\u001b[0m\u001b[0mbest_alpha\u001b[0m\u001b[1;33m]\u001b[0m\u001b[1;33m,\u001b[0m\u001b[1;33m\u001b[0m\u001b[1;33m\u001b[0m\u001b[0m\n",
      "\u001b[1;31mNameError\u001b[0m: name 'label_list' is not defined"
     ]
    }
   ],
   "source": [
    "X = skill_embeddings\n",
    "best_labels = label_list[best_index]\n",
    "model_validation = {\n",
    "    \"n_clusters\": [best_n_clusters],\n",
    "    \"alpha\": [best_alpha],\n",
    "    \"beta\": [best_alpha],\n",
    "}"
   ]
  },
  {
   "cell_type": "code",
   "execution_count": 49,
   "metadata": {
    "execution": {
     "iopub.execute_input": "2021-05-20T20:00:53.088656Z",
     "iopub.status.busy": "2021-05-20T20:00:53.088260Z",
     "iopub.status.idle": "2021-05-20T20:00:55.779506Z",
     "shell.execute_reply": "2021-05-20T20:00:55.778595Z",
     "shell.execute_reply.started": "2021-05-20T20:00:53.088623Z"
    },
    "id": "YrTwYIm2nTNp"
   },
   "outputs": [],
   "source": [
    "print('Computing silhouette')\n",
    "model_validation[\"silhouette\"] = []\n",
    "model_validation[\"silhouette_error\"] = []\n",
    "\n",
    "try:\n",
    "    silhouette = metrics.silhouette_score(\n",
    "        X, best_labels, sample_size=10000, random_state=SEED, n_jobs=-1\n",
    "    )\n",
    "    model_validation[\"silhouette_error\"].append(\"None\")\n",
    "except Exception as e:\n",
    "    print(e)\n",
    "    silhouette = -1.1\n",
    "    model_validation[\"silhouette_error\"].append(e)\n",
    "model_validation[\"silhouette\"].append(silhouette)"
   ]
  },
  {
   "cell_type": "code",
   "execution_count": 50,
   "metadata": {
    "execution": {
     "iopub.execute_input": "2021-05-20T20:00:55.781460Z",
     "iopub.status.busy": "2021-05-20T20:00:55.780937Z",
     "iopub.status.idle": "2021-05-20T20:00:56.425714Z",
     "shell.execute_reply": "2021-05-20T20:00:56.424823Z",
     "shell.execute_reply.started": "2021-05-20T20:00:55.781404Z"
    },
    "id": "JHYaZMJpnVKD"
   },
   "outputs": [],
   "source": [
    "print('Computing calinski_harabasz')\n",
    "model_validation[\"calinski_harabasz\"] = []\n",
    "model_validation[\"calinski_harabasz_error\"] = []\n",
    "\n",
    "try:\n",
    "    calinski_harabasz = metrics.calinski_harabasz_score(X, best_labels)\n",
    "    model_validation[\"calinski_harabasz_error\"].append(\"None\")\n",
    "except Exception as e:\n",
    "    print(e)\n",
    "    calinski_harabasz = -1.1\n",
    "    model_validation[\"calinski_harabasz_error\"].append(e)\n",
    "model_validation[\"calinski_harabasz\"].append(calinski_harabasz)"
   ]
  },
  {
   "cell_type": "code",
   "execution_count": 51,
   "metadata": {
    "execution": {
     "iopub.execute_input": "2021-05-20T20:00:56.710039Z",
     "iopub.status.busy": "2021-05-20T20:00:56.709397Z",
     "iopub.status.idle": "2021-05-20T20:00:57.193228Z",
     "shell.execute_reply": "2021-05-20T20:00:57.191987Z",
     "shell.execute_reply.started": "2021-05-20T20:00:56.709996Z"
    },
    "id": "4lvcnmvFnWoQ"
   },
   "outputs": [],
   "source": [
    "print('Computing davies_bouldin')\n",
    "model_validation[\"davies_bouldin\"] = []\n",
    "model_validation[\"davies_bouldin_error\"] = []\n",
    "\n",
    "try:\n",
    "    davies_bouldin = metrics.davies_bouldin_score(X, best_labels)\n",
    "    model_validation[\"davies_bouldin_error\"].append(\"None\")\n",
    "except Exception as e:\n",
    "    print(e)\n",
    "    davies_bouldin = -1.1\n",
    "    model_validation[\"davies_bouldin_error\"].append(e)\n",
    "model_validation[\"davies_bouldin\"].append(davies_bouldin)"
   ]
  },
  {
   "cell_type": "code",
   "execution_count": 52,
   "metadata": {
    "execution": {
     "iopub.execute_input": "2021-05-20T20:00:57.801474Z",
     "iopub.status.busy": "2021-05-20T20:00:57.801062Z",
     "iopub.status.idle": "2021-05-20T20:01:02.491224Z",
     "shell.execute_reply": "2021-05-20T20:01:02.490110Z",
     "shell.execute_reply.started": "2021-05-20T20:00:57.801440Z"
    },
    "id": "vasCjWPwnZa4"
   },
   "outputs": [],
   "source": [
    "# model_validation[\"silhouette_corr\"] = []\n",
    "# model_validation[\"silhouette_corr_error\"] = []\n",
    "\n",
    "# try:\n",
    "#     silhouette = metrics.silhouette_score(\n",
    "#         X,\n",
    "#         best_labels,\n",
    "#         sample_size=10000,\n",
    "#         random_state=SEED,\n",
    "#         n_jobs=-1,\n",
    "#         metric=\"correlation\",\n",
    "#     )\n",
    "#     model_validation[\"silhouette_corr_error\"].append(\"None\")\n",
    "# except Exception as e:\n",
    "#     print(e)\n",
    "#     silhouette = -1.1\n",
    "#     model_validation[\"silhouette_corr_error\"].append(e)\n",
    "# model_validation[\"silhouette_corr\"].append(silhouette)"
   ]
  },
  {
   "cell_type": "code",
   "execution_count": 53,
   "metadata": {
    "execution": {
     "iopub.execute_input": "2021-05-20T20:01:02.493186Z",
     "iopub.status.busy": "2021-05-20T20:01:02.492833Z",
     "iopub.status.idle": "2021-05-20T20:01:02.512378Z",
     "shell.execute_reply": "2021-05-20T20:01:02.511333Z",
     "shell.execute_reply.started": "2021-05-20T20:01:02.493142Z"
    },
    "id": "sKh-TFY1nbTj"
   },
   "outputs": [
    {
     "data": {
      "text/html": [
       "<div>\n",
       "<style scoped>\n",
       "    .dataframe tbody tr th:only-of-type {\n",
       "        vertical-align: middle;\n",
       "    }\n",
       "\n",
       "    .dataframe tbody tr th {\n",
       "        vertical-align: top;\n",
       "    }\n",
       "\n",
       "    .dataframe thead th {\n",
       "        text-align: right;\n",
       "    }\n",
       "</style>\n",
       "<table border=\"1\" class=\"dataframe\">\n",
       "  <thead>\n",
       "    <tr style=\"text-align: right;\">\n",
       "      <th></th>\n",
       "      <th>n_clusters</th>\n",
       "      <th>alpha</th>\n",
       "      <th>beta</th>\n",
       "      <th>silhouette</th>\n",
       "      <th>silhouette_error</th>\n",
       "      <th>calinski_harabasz</th>\n",
       "      <th>calinski_harabasz_error</th>\n",
       "      <th>davies_bouldin</th>\n",
       "      <th>davies_bouldin_error</th>\n",
       "      <th>silhouette_corr</th>\n",
       "      <th>silhouette_corr_error</th>\n",
       "    </tr>\n",
       "  </thead>\n",
       "  <tbody>\n",
       "    <tr>\n",
       "      <th>0</th>\n",
       "      <td>2</td>\n",
       "      <td>0.001</td>\n",
       "      <td>0.001</td>\n",
       "      <td>-0.000003</td>\n",
       "      <td>None</td>\n",
       "      <td>0.820917</td>\n",
       "      <td>None</td>\n",
       "      <td>538.826965</td>\n",
       "      <td>None</td>\n",
       "      <td>0.0</td>\n",
       "      <td>None</td>\n",
       "    </tr>\n",
       "  </tbody>\n",
       "</table>\n",
       "</div>"
      ],
      "text/plain": [
       "   n_clusters  alpha   beta  silhouette silhouette_error  calinski_harabasz  \\\n",
       "0           2  0.001  0.001   -0.000003             None           0.820917   \n",
       "\n",
       "  calinski_harabasz_error  davies_bouldin davies_bouldin_error  \\\n",
       "0                    None      538.826965                 None   \n",
       "\n",
       "   silhouette_corr silhouette_corr_error  \n",
       "0              0.0                  None  "
      ]
     },
     "execution_count": 53,
     "metadata": {},
     "output_type": "execute_result"
    }
   ],
   "source": [
    "# Display validation results\n",
    "model_validation_df = pd.DataFrame(model_validation)\n",
    "model_validation_df"
   ]
  },
  {
   "cell_type": "code",
   "execution_count": 54,
   "metadata": {
    "execution": {
     "iopub.execute_input": "2021-05-20T20:01:02.514654Z",
     "iopub.status.busy": "2021-05-20T20:01:02.514315Z",
     "iopub.status.idle": "2021-05-20T20:01:02.534332Z",
     "shell.execute_reply": "2021-05-20T20:01:02.533187Z",
     "shell.execute_reply.started": "2021-05-20T20:01:02.514618Z"
    },
    "id": "_L9pc43Tnc_e"
   },
   "outputs": [],
   "source": [
    "# Save tuning results\n",
    "model_validation_df.to_csv(\n",
    "    RESULT_DIR + \"gsdmm/\" + \"skill_gsdmm_model_validation.csv\", index=False\n",
    ")"
   ]
  },
  {
   "cell_type": "markdown",
   "metadata": {
    "id": "CyW4Ko0XnkxV"
   },
   "source": [
    "## Display top words of each cluster"
   ]
  },
  {
   "cell_type": "code",
   "execution_count": 43,
   "metadata": {},
   "outputs": [],
   "source": [
    "# Load tuple of model sets\n",
    "(sorted_wordcount, topwords, sorted_wordcount2, topwords2, best_topics) = pickle.load(\n",
    "    open(RESULT_DIR + \"gsdmm/\" + \"title_gsdmm_optimal-topwords.pkl\", \"rb\"),\n",
    ")"
   ]
  },
  {
   "cell_type": "code",
   "execution_count": null,
   "metadata": {
    "id": "Vap2b6AEnmKd",
    "tags": []
   },
   "outputs": [],
   "source": [
    "df_clusters = skill_docs.copy(deep=True)\n",
    "df_clusters[\"model_type\"] = \"gsdmm\"\n",
    "df_clusters[\"skill_n_clusters\"] = best_n_clusters\n",
    "# df_clusters[\"embeddings\"] = \"job_title\"\n",
    "df_clusters['skill_cluster_label'] = best_labels\n",
    "df_clusters"
   ]
  },
  {
   "cell_type": "code",
   "execution_count": 45,
   "metadata": {},
   "outputs": [],
   "source": [
    "df_clusters = pd.read_csv(\n",
    "    RESULT_DIR + \"gsdmm/\" + \"title_gsdmm_optimal-cluster-labels.csv\"\n",
    ")"
   ]
  },
  {
   "cell_type": "code",
   "execution_count": 46,
   "metadata": {
    "id": "LoIUPeQfnqg9",
    "tags": []
   },
   "outputs": [],
   "source": [
    "wordcount = {}\n",
    "sorted_wordcount = {}\n",
    "for i in np.unique(df_clusters[\"title_cluster_label\"].values):\n",
    "    skills = df_clusters[df_clusters[\"title_cluster_label\"] == i][\n",
    "        \"job_title_lemma\"\n",
    "    ].values\n",
    "    skills = \" \".join(\" \".join(skills).split())\n",
    "    wordcount[i] = {}\n",
    "    for j in skills.split():\n",
    "        if j in wordcount[i]:\n",
    "            wordcount[i][j] += 1\n",
    "        else:\n",
    "            wordcount[i][j] = 1\n",
    "    sorted_wordcount[i] = sorted(wordcount[i].items(), key=lambda x: x[1], reverse=True)"
   ]
  },
  {
   "cell_type": "code",
   "execution_count": 47,
   "metadata": {
    "id": "_bv4Spq9nyuK",
    "tags": []
   },
   "outputs": [
    {
     "name": "stdout",
     "output_type": "stream",
     "text": [
      "Cluster 0: copywriter|\n",
      "Cluster 6: assurance|quality|engineer|software|specialist|tester|revenue|senior|analyst|fraud|\n",
      "Cluster 13: lobby|ambassador|concierge|\n",
      "Cluster 20: educational|information|fair|administrative|assistant|civic|civil|data|managment|analist|\n",
      "Cluster 21: language|english|translator|course|interpreter|teacher|editor|specialist|instructor|armenian|\n",
      "Cluster 22: human|resource|department|head|specialist|policy|financial|economist|management|unit|\n",
      "Cluster 23: medical|representative|yerevan|doctor|armenia|tb|gyumri|sale|mobile|journalist|\n",
      "Cluster 26: specialist|manager|officer|marketing|department|head|senior|financial|project|analyst|\n",
      "Cluster 27: short|term|local|penitentiary|healthcare|armenia|lot|consultancy|service|consultant|\n",
      "Cluster 34: grafik|interior|exterior|designer|activity|examiner|animation|\n",
      "Cluster 45: student|forum|lecture|swedish|equal|opportunity|ombudsman|conference|debate|april|\n",
      "Cluster 48: instructor|bank|legislation|\n",
      "Cluster 49: coop|tech|precision|analog|hw|design|avan|marag|tsapatagh|hotel|\n",
      "Cluster 50: social|disability|resource|center|worker|consultant|work|bell|boy|doorman|\n",
      "Cluster 58: genocide|th|century|comparison|armenian|\n",
      "Cluster 61: developer|engineer|software|senior|web|designer|net|java|qa|php|\n",
      "Cluster 65: master|agribusiness|mab|program|admission|preliminary|preparatory|course|\n",
      "Cluster 68: trainee|eu|advisory|group|republic|armenia|new|year|tournament|\n",
      "Cluster 69: aerobics|fitness|instructor|\n",
      "Cluster 73: volunteer|registration|request|process|driver|loader|receptionist|installer|alpinist|machinery|\n",
      "Cluster 84: receptionist|pm|night|shift|\n",
      "Cluster 90: utopian|world|championship|\n",
      "Cluster 91: public|relation|assistant|specialist|expert|coordinator|committee|manager|communication|resident|\n",
      "Cluster 92: associate|membership|dance|class|speak|examiner|young|learner|exam|\n",
      "Cluster 93: translation|workshop|\n",
      "Cluster 94: manager|assistant|administrative|director|sale|project|executive|receptionist|office|secretary|\n",
      "Cluster 98: barman|\n",
      "Cluster 105: journalist|\n",
      "Cluster 112: hi|tech|council|workshop|hand|approach|develop|\n",
      "Cluster 120: administrator|system|specialist|engineer|network|senior|database|information|support|security|\n",
      "Cluster 121: private|violin|class|\n",
      "Cluster 132: sampling|supervisor|\n",
      "Cluster 138: paralegal|assistant|\n",
      "Cluster 148: fastfood|pub|manager|line|consultation|import|export|relate|custom|\n",
      "Cluster 149: fellow|program|professional|pfp|salesman|cardiology|legislative|lfp|global|van|\n",
      "Cluster 153: confectioner|\n",
      "Cluster 155: manager|sale|service|head|branch|customer|specialist|support|department|technical|\n",
      "Cluster 163: accountant|chief|expert|consultant|legal|officer|national|lawyer|assistant|deputy|\n",
      "Cluster 169: program|coordinator|development|expert|specialist|project|officer|leader|training|manager|\n",
      "Cluster 173: fellow|cardiologyst|\n",
      "Cluster 175: journalist|\n",
      "Cluster 176: seminar|yerevan|canada|welcome|new|immigrant|learn|coach|\n",
      "Cluster 180: speech|therapist|\n",
      "Cluster 198: pr|startegie|method|tactic|\n"
     ]
    }
   ],
   "source": [
    "topwords = {}\n",
    "for key, i in sorted_wordcount.items():\n",
    "    print(\"Cluster \"+str(key)+\": \", end='')\n",
    "    topwords[key] = ''\n",
    "    for newkey, j in sorted_wordcount[key][:10]:\n",
    "        print(newkey + '|', end='')\n",
    "        topwords[key] = topwords[key] + newkey + '|'\n",
    "    print()"
   ]
  },
  {
   "cell_type": "code",
   "execution_count": 39,
   "metadata": {},
   "outputs": [
    {
     "data": {
      "text/plain": [
       "117"
      ]
     },
     "execution_count": 39,
     "metadata": {},
     "output_type": "execute_result"
    }
   ],
   "source": [
    "best_n_clusters"
   ]
  },
  {
   "cell_type": "code",
   "execution_count": 37,
   "metadata": {
    "id": "kVJvhLwPn0pU",
    "tags": []
   },
   "outputs": [],
   "source": [
    "best_topics = distribution_dict[\"n_z_w\"][best_index]\n",
    "sorted_wordcount2 = {}\n",
    "for i in range(best_n_clusters):\n",
    "    sorted_wordcount2[i] = sorted(\n",
    "        best_topics[i].items(), key=lambda x: x[1], reverse=True\n",
    "    )"
   ]
  },
  {
   "cell_type": "code",
   "execution_count": 38,
   "metadata": {
    "id": "mJg9xjTzn3U7",
    "tags": []
   },
   "outputs": [
    {
     "name": "stdout",
     "output_type": "stream",
     "text": [
      "Cluster 0: server|sql|database|ms|window|system|application|web|microsoft|language|\n",
      "Cluster 1: \n",
      "Cluster 2: design|circuit|analog|operation|print|drawing|layout|perform|approve|respective|\n",
      "Cluster 3: highly|responsible|motivated|personality|qualified|person|seek|self|professional|candidate|\n",
      "Cluster 4: engine|draw|search|corel|optimization|concern|group|constant|conclusion|technology|\n",
      "Cluster 5: \n",
      "Cluster 6: test|multiple|manage|task|testing|automate|case|develop|project|write|\n",
      "Cluster 7: \n",
      "Cluster 8: user|center|interface|career|announce|pc|advanced|design|web|experience|\n",
      "Cluster 9: news|employment|agency|post|handling|arka|harvest|contract|letter|edit|\n",
      "Cluster 10: \n",
      "Cluster 11: enterprise|dart|doubleclick|grade|system|th|technology|new|formation|accelerate|\n",
      "Cluster 12: system|grow|home|company|enhance|come|molorak|inco|letter|craft|\n",
      "Cluster 13: cover|special|business|writing|plan|thoroughly|test|ensure|logic|virage|\n",
      "Cluster 14: foundation|jinishian|memorial|national|competitiveness|seismology|damaris|incumbent|doesn|sqa|\n",
      "Cluster 15: \n",
      "Cluster 16: \n",
      "Cluster 17: supervision|direct|overall|general|minimal|store|delivery|salesman|coordination|mail|\n",
      "Cluster 18: call|answer|telephone|phone|incoming|handle|forward|customer|receive|correspondence|\n",
      "Cluster 19: represent|translate|introduce|company|product|include|document|analytic|necessary|thought|\n",
      "Cluster 20: \n",
      "Cluster 21: value|chain|analysis|participatory|select|development|conduct|approach|organizational|mission|\n",
      "Cluster 22: responsibility|primary|include|job|care|health|objective|position|require|travel|\n",
      "Cluster 23: strategy|plan|sale|marketing|business|implement|overall|process|policy|annual|\n",
      "Cluster 24: design|like|formal|notation|uml|debtor|invoice|hate|poorly|\n",
      "Cluster 25: \n",
      "Cluster 26: area|orderly|checkout|chain|trade|krpak|unprovide|issue|dtc|iib|\n",
      "Cluster 27: table|round|discussion|innodb|organize|transactional|armenia|configuration|route|accessory|\n",
      "Cluster 28: \n",
      "Cluster 29: \n",
      "Cluster 30: real|estate|sector|regulation|delphi|programmer|oversee|leasing|sous|chef|\n",
      "Cluster 31: staff|salary|calculate|position|support|training|trade|duly|cross|involve|\n",
      "Cluster 32: store|company|president|tommy|hilfiger|procedure|dundee|precious|metal|instrument|\n",
      "Cluster 33: provide|technical|support|relate|legal|field|documentation|administrative|necessary|assistance|\n",
      "Cluster 34: orient|personality|object|programming|result|detail|person|goal|positive|approach|\n",
      "Cluster 35: ra|legislation|banking|labor|code|tax|law|armenian|regulate|activity|\n",
      "Cluster 36: \n",
      "Cluster 37: \n",
      "Cluster 38: \n",
      "Cluster 39: new|customer|market|client|product|business|design|need|conduct|identify|\n",
      "Cluster 40: asset|fix|information|account|effectively|company|communicate|inventory|confidential|protect|\n",
      "Cluster 41: \n",
      "Cluster 42: project|management|work|maintain|relationship|term|skill|effective|long|business|\n",
      "Cluster 43: new|learn|technology|quickly|skill|technical|language|thing|scripting|concept|\n",
      "Cluster 44: offer|commerce|bursary|invite|application|yerevan|pharm|pupil|lld|sunset|\n",
      "Cluster 45: \n",
      "Cluster 46: workload|prioritize|personal|organise|substantial|library|varied|efficiently|premise|booz|\n",
      "Cluster 47: \n",
      "Cluster 48: \n",
      "Cluster 49: current|employee|serve|probationary|period|necessarily|ecommerce|msff|compound|eco|\n",
      "Cluster 50: report|prepare|financial|cash|datum|monthly|daily|document|submit|analysis|\n",
      "Cluster 51: \n",
      "Cluster 52: time|frame|strict|pressure|think|creatively|limited|position|short|flexible|\n",
      "Cluster 53: \n",
      "Cluster 54: \n",
      "Cluster 55: \n",
      "Cluster 56: webpage|\n",
      "Cluster 57: \n",
      "Cluster 58: fast|environment|change|paced|learner|issue|browser|compatibility|quick|pace|\n",
      "Cluster 59: spare|part|minimum|consumption|order|machine|warehouse|necessary|correspond|logistical|\n",
      "Cluster 60: \n",
      "Cluster 61: twleve|journalist|utilize|sitemap|extraction|transformation|loading|comparable|spice|simulator|\n",
      "Cluster 62: public|capacity|activity|implement|building|relation|material|strategy|national|marketing|\n",
      "Cluster 63: \n",
      "Cluster 64: \n",
      "Cluster 65: fill|heavily|contaminate|pop|waste|\n",
      "Cluster 66: plant|space|cultivation|\n",
      "Cluster 67: ararat|\n",
      "Cluster 68: ltd|\n",
      "Cluster 69: \n",
      "Cluster 70: \n",
      "Cluster 71: implementation|engage|tigran|met|ball|room|\n",
      "Cluster 72: \n",
      "Cluster 73: \n",
      "Cluster 74: \n",
      "Cluster 75: necessary|environment|configure|space|suggest|choice|tanger|portray|positive|impression|\n",
      "Cluster 76: writing|learning|style|good|code|employ|fast|skill|distance|package|\n",
      "Cluster 77: give|broad|line|framework|resident|twinning|adviser|advisor|nathan|associate|\n",
      "Cluster 78: \n",
      "Cluster 79: \n",
      "Cluster 80: \n",
      "Cluster 81: insurance|cascade|bank|capital|certificate|european|cjsc|credit|qualification|holding|\n",
      "Cluster 82: role|play|key|lead|active|framework|water|eu|directive|handson|\n",
      "Cluster 83: visual|studio|mdf|framework|multiplatform|max|kamurj|dream|come|true|\n",
      "Cluster 84: \n",
      "Cluster 85: point|power|presentation|low|prepare|ms|line|focal|design|hydrological|\n",
      "Cluster 86: \n",
      "Cluster 87: \n",
      "Cluster 88: \n",
      "Cluster 89: service|customer|cjsc|llc|provide|solution|global|skill|unprovide|support|\n",
      "Cluster 90: achieve|target|sale|increase|volume|rate|consumer|set|market|company|\n",
      "Cluster 91: software|develop|development|plan|activity|design|application|process|web|project|\n",
      "Cluster 92: party|action|provide|interested|agreement|sign|corrective|tool|rd|new|\n",
      "Cluster 93: right|human|defender|un|property|treaty|intellectual|office|law|mention|\n",
      "Cluster 94: monitis|gfi|\n",
      "Cluster 95: \n",
      "Cluster 96: \n",
      "Cluster 97: organize|conference|event|money|meeting|laundering|attend|press|training|session|\n",
      "Cluster 98: confirm|final|questionnaire|\n",
      "Cluster 99: peace|corp|volunteer|corps|resource|flow|hard|copy|paper|trainee|\n",
      "Cluster 100: rent|car|\n",
      "Cluster 101: \n",
      "Cluster 102: \n",
      "Cluster 103: team|player|member|good|skill|social|work|strong|environment|working|\n",
      "Cluster 104: \n",
      "Cluster 105: ad|hoc|europe|western|request|develop|prospect|magazine|report|unprovide|\n",
      "Cluster 106: \n",
      "Cluster 107: \n",
      "Cluster 108: \n",
      "Cluster 109: les|laboratoires|servier|armenia|ro|maintain|startup|project|\n",
      "Cluster 110: \n",
      "Cluster 111: republic|\n",
      "Cluster 112: \n",
      "Cluster 113: code|exist|performance|source|base|promote|skill|application|safely|profile|\n",
      "Cluster 114: \n",
      "Cluster 115: \n",
      "Cluster 116: \n"
     ]
    }
   ],
   "source": [
    "topwords2 = {}\n",
    "for key, i in sorted_wordcount2.items():\n",
    "    print(\"Cluster \"+str(key)+\": \", end='')\n",
    "    topwords2[key] = ''\n",
    "    for newkey, j in sorted_wordcount2[key][:10]:\n",
    "        print(newkey + '|', end='')\n",
    "        topwords2[key] = topwords2[key] + newkey + '|'\n",
    "    print()"
   ]
  },
  {
   "cell_type": "markdown",
   "metadata": {
    "id": "A-j_4WdYn9DQ"
   },
   "source": [
    "## Save cluster results to file"
   ]
  },
  {
   "cell_type": "code",
   "execution_count": 64,
   "metadata": {
    "execution": {
     "iopub.execute_input": "2021-05-20T20:02:58.110149Z",
     "iopub.status.busy": "2021-05-20T20:02:58.109760Z",
     "iopub.status.idle": "2021-05-20T20:03:00.232650Z",
     "shell.execute_reply": "2021-05-20T20:03:00.231475Z",
     "shell.execute_reply.started": "2021-05-20T20:02:58.110117Z"
    },
    "id": "Ya7zyFuVn-VR"
   },
   "outputs": [],
   "source": [
    "df_clusters.to_csv(\n",
    "    RESULT_DIR + \"gsdmm/\" + \"skill_gsdmm_optimal-cluster-labels.csv\", index=False\n",
    ")"
   ]
  },
  {
   "cell_type": "code",
   "execution_count": 65,
   "metadata": {
    "execution": {
     "iopub.execute_input": "2021-05-20T20:03:00.323128Z",
     "iopub.status.busy": "2021-05-20T20:03:00.322674Z",
     "iopub.status.idle": "2021-05-20T20:03:00.350438Z",
     "shell.execute_reply": "2021-05-20T20:03:00.349292Z",
     "shell.execute_reply.started": "2021-05-20T20:03:00.323070Z"
    },
    "id": "TsE0umEeoBFQ"
   },
   "outputs": [],
   "source": [
    "# Save tuple of model sets\n",
    "pickle.dump(\n",
    "    (sorted_wordcount, topwords, sorted_wordcount2, topwords2, best_topics),\n",
    "    open(RESULT_DIR + \"gsdmm/\" + \"skill_gsdmm_optimal-topwords.pkl\", \"wb\"),\n",
    ")"
   ]
  },
  {
   "cell_type": "code",
   "execution_count": null,
   "metadata": {},
   "outputs": [],
   "source": []
  }
 ],
 "metadata": {
  "kernelspec": {
   "display_name": "Python 3",
   "language": "python",
   "name": "python3"
  },
  "language_info": {
   "codemirror_mode": {
    "name": "ipython",
    "version": 3
   },
   "file_extension": ".py",
   "mimetype": "text/x-python",
   "name": "python",
   "nbconvert_exporter": "python",
   "pygments_lexer": "ipython3",
   "version": "3.8.5"
  }
 },
 "nbformat": 4,
 "nbformat_minor": 4
}
