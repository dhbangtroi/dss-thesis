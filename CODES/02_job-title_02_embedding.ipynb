{
 "cells": [
  {
   "cell_type": "markdown",
   "metadata": {},
   "source": [
    "## Load libraries"
   ]
  },
  {
   "cell_type": "code",
   "execution_count": 83,
   "metadata": {},
   "outputs": [],
   "source": [
    "# Libraries to work with dataset\n",
    "import pandas as pd\n",
    "import numpy as np\n",
    "\n",
    "# Library to create embeddings\n",
    "import nltk\n",
    "from gensim.models import KeyedVectors\n",
    "\n",
    "# Libraries to visualize data\n",
    "from tqdm import tqdm     # displaying progress bar while running computation"
   ]
  },
  {
   "cell_type": "markdown",
   "metadata": {},
   "source": [
    "## Configurate and declare global variables"
   ]
  },
  {
   "cell_type": "code",
   "execution_count": 84,
   "metadata": {},
   "outputs": [],
   "source": [
    "BASE_DIR = \"E:/THIENDHB_GOOGLEDRIVE/MASTER TILBURG/THESIS/\"\n",
    "INPUT_DIR = BASE_DIR + \"DATASET/INPUT/\"\n",
    "OUTPUT_DIR = BASE_DIR + \"DATASET/OUTPUT/\""
   ]
  },
  {
   "cell_type": "markdown",
   "metadata": {},
   "source": [
    "## Import data"
   ]
  },
  {
   "cell_type": "code",
   "execution_count": 85,
   "metadata": {},
   "outputs": [
    {
     "data": {
      "text/html": [
       "<div>\n",
       "<style scoped>\n",
       "    .dataframe tbody tr th:only-of-type {\n",
       "        vertical-align: middle;\n",
       "    }\n",
       "\n",
       "    .dataframe tbody tr th {\n",
       "        vertical-align: top;\n",
       "    }\n",
       "\n",
       "    .dataframe thead th {\n",
       "        text-align: right;\n",
       "    }\n",
       "</style>\n",
       "<table border=\"1\" class=\"dataframe\">\n",
       "  <thead>\n",
       "    <tr style=\"text-align: right;\">\n",
       "      <th></th>\n",
       "      <th>job_title</th>\n",
       "    </tr>\n",
       "  </thead>\n",
       "  <tbody>\n",
       "    <tr>\n",
       "      <th>0</th>\n",
       "      <td>chief financial officer</td>\n",
       "    </tr>\n",
       "    <tr>\n",
       "      <th>1</th>\n",
       "      <td>full time community connection intern pay inte...</td>\n",
       "    </tr>\n",
       "    <tr>\n",
       "      <th>2</th>\n",
       "      <td>country coordinator</td>\n",
       "    </tr>\n",
       "    <tr>\n",
       "      <th>3</th>\n",
       "      <td>bcc specialist</td>\n",
       "    </tr>\n",
       "    <tr>\n",
       "      <th>4</th>\n",
       "      <td>software developer</td>\n",
       "    </tr>\n",
       "    <tr>\n",
       "      <th>...</th>\n",
       "      <td>...</td>\n",
       "    </tr>\n",
       "    <tr>\n",
       "      <th>18987</th>\n",
       "      <td>senior creative ux ui designer</td>\n",
       "    </tr>\n",
       "    <tr>\n",
       "      <th>18988</th>\n",
       "      <td>category development manager</td>\n",
       "    </tr>\n",
       "    <tr>\n",
       "      <th>18989</th>\n",
       "      <td>operational marketing manager</td>\n",
       "    </tr>\n",
       "    <tr>\n",
       "      <th>18990</th>\n",
       "      <td>head online sale department</td>\n",
       "    </tr>\n",
       "    <tr>\n",
       "      <th>18991</th>\n",
       "      <td>lawyer legal department</td>\n",
       "    </tr>\n",
       "  </tbody>\n",
       "</table>\n",
       "<p>18992 rows × 1 columns</p>\n",
       "</div>"
      ],
      "text/plain": [
       "                                               job_title\n",
       "0                                chief financial officer\n",
       "1      full time community connection intern pay inte...\n",
       "2                                    country coordinator\n",
       "3                                         bcc specialist\n",
       "4                                     software developer\n",
       "...                                                  ...\n",
       "18987                     senior creative ux ui designer\n",
       "18988                       category development manager\n",
       "18989                      operational marketing manager\n",
       "18990                        head online sale department\n",
       "18991                            lawyer legal department\n",
       "\n",
       "[18992 rows x 1 columns]"
      ]
     },
     "execution_count": 85,
     "metadata": {},
     "output_type": "execute_result"
    }
   ],
   "source": [
    "# Load clean job title dataset from file\n",
    "job_df = pd.read_csv(OUTPUT_DIR + \"clean_title_df.csv\")\n",
    "job_df"
   ]
  },
  {
   "cell_type": "code",
   "execution_count": 86,
   "metadata": {},
   "outputs": [
    {
     "data": {
      "text/html": [
       "<div>\n",
       "<style scoped>\n",
       "    .dataframe tbody tr th:only-of-type {\n",
       "        vertical-align: middle;\n",
       "    }\n",
       "\n",
       "    .dataframe tbody tr th {\n",
       "        vertical-align: top;\n",
       "    }\n",
       "\n",
       "    .dataframe thead th {\n",
       "        text-align: right;\n",
       "    }\n",
       "</style>\n",
       "<table border=\"1\" class=\"dataframe\">\n",
       "  <thead>\n",
       "    <tr style=\"text-align: right;\">\n",
       "      <th></th>\n",
       "      <th>job_title</th>\n",
       "    </tr>\n",
       "  </thead>\n",
       "  <tbody>\n",
       "    <tr>\n",
       "      <th>0</th>\n",
       "      <td>Chief Financial Officer</td>\n",
       "    </tr>\n",
       "    <tr>\n",
       "      <th>1</th>\n",
       "      <td>Full-time Community Connections Intern (paid i...</td>\n",
       "    </tr>\n",
       "    <tr>\n",
       "      <th>2</th>\n",
       "      <td>Country Coordinator</td>\n",
       "    </tr>\n",
       "    <tr>\n",
       "      <th>3</th>\n",
       "      <td>BCC Specialist</td>\n",
       "    </tr>\n",
       "    <tr>\n",
       "      <th>4</th>\n",
       "      <td>Software Developer</td>\n",
       "    </tr>\n",
       "    <tr>\n",
       "      <th>...</th>\n",
       "      <td>...</td>\n",
       "    </tr>\n",
       "    <tr>\n",
       "      <th>18987</th>\n",
       "      <td>Senior Creative UX/ UI Designer</td>\n",
       "    </tr>\n",
       "    <tr>\n",
       "      <th>18988</th>\n",
       "      <td>Category Development Manager</td>\n",
       "    </tr>\n",
       "    <tr>\n",
       "      <th>18989</th>\n",
       "      <td>Operational Marketing Manager</td>\n",
       "    </tr>\n",
       "    <tr>\n",
       "      <th>18990</th>\n",
       "      <td>Head of Online Sales Department</td>\n",
       "    </tr>\n",
       "    <tr>\n",
       "      <th>18991</th>\n",
       "      <td>Lawyer in Legal Department</td>\n",
       "    </tr>\n",
       "  </tbody>\n",
       "</table>\n",
       "<p>18992 rows × 1 columns</p>\n",
       "</div>"
      ],
      "text/plain": [
       "                                               job_title\n",
       "0                                Chief Financial Officer\n",
       "1      Full-time Community Connections Intern (paid i...\n",
       "2                                    Country Coordinator\n",
       "3                                         BCC Specialist\n",
       "4                                     Software Developer\n",
       "...                                                  ...\n",
       "18987                    Senior Creative UX/ UI Designer\n",
       "18988                       Category Development Manager\n",
       "18989                      Operational Marketing Manager\n",
       "18990                    Head of Online Sales Department\n",
       "18991                         Lawyer in Legal Department\n",
       "\n",
       "[18992 rows x 1 columns]"
      ]
     },
     "execution_count": 86,
     "metadata": {},
     "output_type": "execute_result"
    }
   ],
   "source": [
    "raw_job_df = pd.read_csv(INPUT_DIR + \"refined_jobpost_data.csv\", usecols=['job_title'])\n",
    "raw_job_df"
   ]
  },
  {
   "cell_type": "markdown",
   "metadata": {},
   "source": [
    "## Create embeddings"
   ]
  },
  {
   "cell_type": "code",
   "execution_count": 87,
   "metadata": {},
   "outputs": [],
   "source": [
    "def create_vocab_list(df, col):\n",
    "    vocab = []\n",
    "    for doc in tqdm(df[col]):\n",
    "        words = [word for word in nltk.word_tokenize(str(doc))]\n",
    "        vocab.extend(words)\n",
    "\n",
    "    return vocab"
   ]
  },
  {
   "cell_type": "code",
   "execution_count": 88,
   "metadata": {},
   "outputs": [
    {
     "name": "stderr",
     "output_type": "stream",
     "text": [
      "100%|█████████████████████████████████████████████████████████████████████████| 18992/18992 [00:01<00:00, 13556.04it/s]\n"
     ]
    }
   ],
   "source": [
    "tqdm.pandas(desc=\"Creating Job Title Corpus\")\n",
    "full_vocab_list = create_vocab_list(job_df, 'job_title')"
   ]
  },
  {
   "cell_type": "code",
   "execution_count": 89,
   "metadata": {},
   "outputs": [
    {
     "name": "stdout",
     "output_type": "stream",
     "text": [
      "56353\n"
     ]
    },
    {
     "data": {
      "text/plain": [
       "['chief',\n",
       " 'financial',\n",
       " 'officer',\n",
       " 'full',\n",
       " 'time',\n",
       " 'community',\n",
       " 'connection',\n",
       " 'intern',\n",
       " 'pay',\n",
       " 'internship']"
      ]
     },
     "execution_count": 89,
     "metadata": {},
     "output_type": "execute_result"
    }
   ],
   "source": [
    "print(len(full_vocab_list))\n",
    "full_vocab_list[:10]"
   ]
  },
  {
   "cell_type": "code",
   "execution_count": 90,
   "metadata": {},
   "outputs": [
    {
     "name": "stdout",
     "output_type": "stream",
     "text": [
      "2617\n"
     ]
    },
    {
     "data": {
      "text/plain": [
       "['initiative',\n",
       " 'reality',\n",
       " 'sr',\n",
       " 'software',\n",
       " 'kindergarten',\n",
       " 'pharmacist',\n",
       " 'rating',\n",
       " 'field',\n",
       " 'yoga',\n",
       " 'saleswoman']"
      ]
     },
     "execution_count": 90,
     "metadata": {},
     "output_type": "execute_result"
    }
   ],
   "source": [
    "vocab_list = list(set(full_vocab_list))\n",
    "print(len(vocab_list))\n",
    "vocab_list[:10]"
   ]
  },
  {
   "cell_type": "code",
   "execution_count": 91,
   "metadata": {},
   "outputs": [],
   "source": [
    "# load the Stanford GloVe model in Word2Vec format\n",
    "pre_model = KeyedVectors.load_word2vec_format(INPUT_DIR + \"w2v_from_glove.6B.100d.txt\")"
   ]
  },
  {
   "cell_type": "code",
   "execution_count": 92,
   "metadata": {},
   "outputs": [],
   "source": [
    "model_vocab = pre_model.index_to_key"
   ]
  },
  {
   "cell_type": "code",
   "execution_count": 93,
   "metadata": {},
   "outputs": [
    {
     "name": "stdout",
     "output_type": "stream",
     "text": [
      "186\n"
     ]
    },
    {
     "data": {
      "text/plain": [
       "['tchambarak',\n",
       " 'wostayn',\n",
       " 'marag',\n",
       " 'srecialist',\n",
       " 'dcfta',\n",
       " 'truthing',\n",
       " 'kumayri',\n",
       " 'instumintation',\n",
       " 'procredit',\n",
       " 'flotator',\n",
       " 'gortsaranain',\n",
       " 'dcop',\n",
       " 'usgaap',\n",
       " 'sanoshops',\n",
       " 'internatioonal',\n",
       " 'usarmenia',\n",
       " 'marzes',\n",
       " 'ettl',\n",
       " 'sayat',\n",
       " 'bankmail',\n",
       " 'brsc',\n",
       " 'aparan',\n",
       " 'hrci',\n",
       " 'jfdp',\n",
       " 'angularjs',\n",
       " 'gnoseological',\n",
       " 'gegharqunik',\n",
       " 'materiological',\n",
       " 'methodologist',\n",
       " 'spesialist',\n",
       " 'prip',\n",
       " 'aregak',\n",
       " 'assuarance',\n",
       " 'tsapatagh',\n",
       " 'developmant',\n",
       " 'achajour',\n",
       " 'merchendiser',\n",
       " 'chambarak',\n",
       " 'sncos',\n",
       " 'baldinini',\n",
       " 'tecnical',\n",
       " 'horeca',\n",
       " 'cedc',\n",
       " 'stepanavan',\n",
       " 'wvmeer',\n",
       " 'scibm',\n",
       " 'sisian',\n",
       " 'bookkepeer',\n",
       " 'offier',\n",
       " 'iwrm',\n",
       " 'languagetranslator',\n",
       " 'specilalist',\n",
       " 'airticket',\n",
       " 'achitect',\n",
       " 'modelmaker',\n",
       " 'becd',\n",
       " 'biling',\n",
       " 'adminsitrative',\n",
       " 'ugrad',\n",
       " 'involver',\n",
       " 'enpard',\n",
       " 'dceo',\n",
       " 'careercenter',\n",
       " 'charentsavan',\n",
       " 'pmdi',\n",
       " 'uplistsikhe',\n",
       " 'techincal',\n",
       " 'dispetcher',\n",
       " 'nushikyan',\n",
       " 'vlac',\n",
       " 'assitant',\n",
       " 'dafi',\n",
       " 'ceed',\n",
       " 'amasia',\n",
       " 'kajaran',\n",
       " 'mounter',\n",
       " 'enpi',\n",
       " 'vizualizator',\n",
       " 'kotayq',\n",
       " 'gsgp',\n",
       " 'devision',\n",
       " 'magento',\n",
       " 'ijevan',\n",
       " 'analist',\n",
       " 'mdgr',\n",
       " 'ameriagroup',\n",
       " 'mbbg',\n",
       " 'audtior',\n",
       " 'hachn',\n",
       " 'armeniainformation',\n",
       " 'trdp',\n",
       " 'prognoss',\n",
       " 'carfleet',\n",
       " 'athgo',\n",
       " 'hfh',\n",
       " 'rhiycauc',\n",
       " 'cardiologyst',\n",
       " 'plad',\n",
       " 'amsg',\n",
       " 'spcp',\n",
       " 'msme',\n",
       " 'devops',\n",
       " 'sysadmin',\n",
       " 'proccesing',\n",
       " 'cpco',\n",
       " 'hapnk',\n",
       " 'euag',\n",
       " 'cheef',\n",
       " 'pssr',\n",
       " 'agroprocessing',\n",
       " 'yeravan',\n",
       " 'bitrix',\n",
       " 'srtuctural',\n",
       " 'aspn',\n",
       " 'educationusa',\n",
       " 'transactons',\n",
       " 'coordiantor',\n",
       " 'lionbridge',\n",
       " 'btrp',\n",
       " 'radiotechnology',\n",
       " 'postbanking',\n",
       " 'regoinal',\n",
       " 'assistat',\n",
       " 'inteligence',\n",
       " 'feldsher',\n",
       " 'yeghegnadzor',\n",
       " 'controler',\n",
       " 'poligrapher',\n",
       " 'mobilizer',\n",
       " 'meghri',\n",
       " 'geomarketing',\n",
       " 'bsibm',\n",
       " 'advertize',\n",
       " 'mechanist',\n",
       " 'fsdp',\n",
       " 'ncvetd',\n",
       " 'sposnsorship',\n",
       " 'prfessional',\n",
       " 'hydrobiologist',\n",
       " 'yexvard',\n",
       " 'tsaghkahovit',\n",
       " 'reanimatology',\n",
       " 'emarketing',\n",
       " 'coordinatior',\n",
       " 'undaf',\n",
       " 'fairwild',\n",
       " 'gharabagh',\n",
       " 'documenter',\n",
       " 'rbwm',\n",
       " 'fianance',\n",
       " 'tirm',\n",
       " 'artik',\n",
       " 'turpanjian',\n",
       " 'noyemberyan',\n",
       " 'wathab',\n",
       " 'mediaplanning',\n",
       " 'newswriter',\n",
       " 'viewbook',\n",
       " 'phytobenthos',\n",
       " 'vardenis',\n",
       " 'mangaer',\n",
       " 'egineer',\n",
       " 'outreacher',\n",
       " 'subscribtion',\n",
       " 'preseller',\n",
       " 'unrc',\n",
       " 'airticketing',\n",
       " 'communcation',\n",
       " 'moskovyan',\n",
       " 'vayk',\n",
       " 'aygavan',\n",
       " 'intensivist',\n",
       " 'marketologist',\n",
       " 'startegies',\n",
       " 'fishfarm',\n",
       " 'visitarm',\n",
       " 'egovernance',\n",
       " 'sysytems',\n",
       " 'unct',\n",
       " 'consulant',\n",
       " 'tshambarak',\n",
       " 'icwb',\n",
       " 'archhitect',\n",
       " 'stta',\n",
       " 'aacas',\n",
       " 'atcredit']"
      ]
     },
     "execution_count": 93,
     "metadata": {},
     "output_type": "execute_result"
    }
   ],
   "source": [
    "out_of_vocab = [token for token in vocab_list if token not in model_vocab]\n",
    "print(len(out_of_vocab))\n",
    "out_of_vocab"
   ]
  },
  {
   "cell_type": "code",
   "execution_count": 95,
   "metadata": {},
   "outputs": [],
   "source": [
    "def create_corpus(df, col):\n",
    "    corpus = []\n",
    "    for doc in tqdm(df[col]):\n",
    "        words = [word for word in nltk.word_tokenize(str(doc))]\n",
    "        corpus.append(words)\n",
    "\n",
    "    return corpus"
   ]
  },
  {
   "cell_type": "code",
   "execution_count": 96,
   "metadata": {},
   "outputs": [],
   "source": [
    "def vectorize(doc_list, keyed_vectors):\n",
    "    \"\"\"Generate vectors for list of documents using a Word Embedding\n",
    "\n",
    "    Args:\n",
    "        doc_list: List of documents\n",
    "        keyed_vectors: Gensim's Word Embedding\n",
    "\n",
    "    Returns:\n",
    "        List of document vectors (mean of word vectors)\n",
    "    \"\"\"\n",
    "    features = []\n",
    "\n",
    "    for tokens in doc_list:\n",
    "        zero_vector = np.zeros(keyed_vectors.vector_size)\n",
    "        vectors = []\n",
    "        for token in tokens:\n",
    "            if token in keyed_vectors:\n",
    "                try:\n",
    "                    vectors.append(keyed_vectors[token])\n",
    "                except KeyError:\n",
    "                    continue\n",
    "        if vectors:\n",
    "            vectors = np.asarray(vectors)\n",
    "            avg_vec = vectors.mean(axis=0)\n",
    "            features.append(avg_vec)\n",
    "        else:\n",
    "            features.append(zero_vector)\n",
    "    return features"
   ]
  },
  {
   "cell_type": "code",
   "execution_count": 97,
   "metadata": {},
   "outputs": [
    {
     "name": "stderr",
     "output_type": "stream",
     "text": [
      "100%|█████████████████████████████████████████████████████████████████████████| 18992/18992 [00:01<00:00, 11907.23it/s]\n"
     ]
    },
    {
     "data": {
      "text/plain": [
       "(18992, 100)"
      ]
     },
     "execution_count": 97,
     "metadata": {},
     "output_type": "execute_result"
    }
   ],
   "source": [
    "title_docs = create_corpus(job_df, 'job_title')\n",
    "title_embeddings = vectorize(title_docs, keyed_vectors=pre_model)\n",
    "len(title_embeddings), len(title_embeddings[0])"
   ]
  },
  {
   "cell_type": "code",
   "execution_count": 101,
   "metadata": {},
   "outputs": [
    {
     "data": {
      "text/plain": [
       "[['chief', 'financial', 'officer'],\n",
       " ['full', 'time', 'community', 'connection', 'intern', 'pay', 'internship'],\n",
       " ['country', 'coordinator'],\n",
       " ['bcc', 'specialist'],\n",
       " ['software', 'developer']]"
      ]
     },
     "execution_count": 101,
     "metadata": {},
     "output_type": "execute_result"
    }
   ],
   "source": [
    "title_docs[:5]"
   ]
  },
  {
   "cell_type": "code",
   "execution_count": 99,
   "metadata": {},
   "outputs": [
    {
     "data": {
      "text/plain": [
       "[array([ 3.69033334e-03, -8.16303313e-01,  2.58175343e-01, -5.07819951e-01,\n",
       "         2.10846677e-01, -6.16106331e-01, -2.74685651e-01, -3.47249359e-01,\n",
       "        -2.43132666e-01,  1.37167662e-01,  1.98463321e-01, -3.64103280e-02,\n",
       "         3.89976650e-01,  3.74276638e-01, -4.11023349e-01, -5.15526652e-01,\n",
       "         3.82256657e-01, -4.81333345e-01, -8.08190048e-01,  5.29996715e-02,\n",
       "         2.01666844e-03, -3.53026003e-01,  1.31509900e-02,  6.21566735e-02,\n",
       "        -5.93280017e-01, -5.18303327e-02,  6.04100013e-03, -2.52666682e-01,\n",
       "        -1.05693340e-01,  3.43269974e-01,  3.63386661e-01,  3.38946670e-01,\n",
       "        -7.02413321e-01, -3.53622675e-01, -5.72921634e-01, -1.58606663e-01,\n",
       "        -2.40019992e-01,  3.60786676e-01,  5.92480004e-01, -7.88466707e-02,\n",
       "        -4.56159979e-01, -2.84089327e-01,  4.85139996e-01, -5.09253331e-02,\n",
       "         3.02446663e-01,  6.68813288e-01, -1.62749991e-01, -2.43542984e-01,\n",
       "        -4.65536684e-01, -5.84923327e-01,  1.28453359e-01, -6.46554351e-01,\n",
       "        -1.44953325e-01,  8.73393357e-01,  4.84460033e-02, -2.12329984e+00,\n",
       "        -2.19376683e-01, -9.67600048e-02,  1.67689991e+00,  5.70523322e-01,\n",
       "         1.63826659e-01, -7.44133368e-02, -3.58233362e-01,  1.98979333e-01,\n",
       "         3.01227689e-01, -8.93926620e-01,  1.64926663e-01,  6.35339975e-01,\n",
       "         1.03178334e+00,  9.86210048e-01, -1.40071347e-01, -3.62385988e-01,\n",
       "        -7.18869984e-01, -7.74833262e-01,  2.82449991e-01, -4.18036669e-01,\n",
       "        -2.47169986e-01,  3.13993335e-01, -9.86986637e-01, -6.68826625e-02,\n",
       "         1.07913339e+00, -2.84790009e-01,  1.22328006e-01,  2.75499863e-03,\n",
       "        -9.78410065e-01, -5.01273334e-01, -2.71717340e-01, -1.88566670e-01,\n",
       "         3.19229990e-01, -6.72983348e-01,  5.91969967e-01, -8.92556608e-02,\n",
       "         2.18833327e-01,  1.60523325e-01,  1.98163331e-01,  8.60356629e-01,\n",
       "         5.89916646e-01, -4.30503339e-01, -1.05334716e-02,  4.91796702e-01],\n",
       "       dtype=float32)]"
      ]
     },
     "execution_count": 99,
     "metadata": {},
     "output_type": "execute_result"
    }
   ],
   "source": [
    "title_embeddings[:1]"
   ]
  },
  {
   "cell_type": "code",
   "execution_count": 100,
   "metadata": {},
   "outputs": [],
   "source": [
    "# Save embeddings file in numpy format\n",
    "title_embeddings_outfile = OUTPUT_DIR + \"title_embeddings\"\n",
    "np.save(title_embeddings_outfile, title_embeddings)\n",
    "\n",
    "# Save job title tokens in file\n",
    "title_docs_outfile = OUTPUT_DIR + \"title_docs.csv\"\n",
    "df = raw_job_df.copy(deep=True)\n",
    "df[\"clean_job_title\"] = pd.Series(title_docs)\n",
    "pd.DataFrame(data=df).to_csv(title_docs_outfile, index=False)"
   ]
  },
  {
   "cell_type": "code",
   "execution_count": null,
   "metadata": {},
   "outputs": [],
   "source": []
  }
 ],
 "metadata": {
  "kernelspec": {
   "display_name": "Python 3",
   "language": "python",
   "name": "python3"
  },
  "language_info": {
   "codemirror_mode": {
    "name": "ipython",
    "version": 3
   },
   "file_extension": ".py",
   "mimetype": "text/x-python",
   "name": "python",
   "nbconvert_exporter": "python",
   "pygments_lexer": "ipython3",
   "version": "3.8.5"
  }
 },
 "nbformat": 4,
 "nbformat_minor": 4
}
