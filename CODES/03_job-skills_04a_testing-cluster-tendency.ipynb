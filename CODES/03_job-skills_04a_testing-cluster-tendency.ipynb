{
 "cells": [
  {
   "cell_type": "markdown",
   "metadata": {},
   "source": [
    "## Load libraries"
   ]
  },
  {
   "cell_type": "code",
   "execution_count": 5,
   "metadata": {},
   "outputs": [],
   "source": [
    "# Libraries to work cross-platform\n",
    "import os\n",
    "\n",
    "# Libraries to work with dataset\n",
    "import numpy as np\n",
    "import pandas as pd\n",
    "\n",
    "# Libraries for evaluation\n",
    "from pyclustertend import hopkins\n",
    "\n",
    "# Libraries for monitoring operation process\n",
    "from datetime import datetime\n",
    "from tqdm import tqdm"
   ]
  },
  {
   "cell_type": "markdown",
   "metadata": {},
   "source": [
    "## Configurate and declare global variables"
   ]
  },
  {
   "cell_type": "code",
   "execution_count": 2,
   "metadata": {},
   "outputs": [],
   "source": [
    "os_name = os.name\n",
    "\n",
    "if os_name == 'nt':  \n",
    "    \"\"\"Windows platform\"\"\"\n",
    "    BASE_DIR = \"E:/THIENDHB_GOOGLEDRIVE/MASTER TILBURG/THESIS/\"\n",
    "    INPUT_DIR = BASE_DIR + \"DATASET/INPUT/\"\n",
    "    OUTPUT_DIR = BASE_DIR + \"DATASET/OUTPUT/\"\n",
    "elif os_name == 'posix':\n",
    "    \"\"\"Linux platform\"\"\"\n",
    "    BASE_DIR = \"/media/pinkalinux/WORK/THIENDHB_GOOGLEDRIVE/MASTER TILBURG/THESIS/\"\n",
    "    INPUT_DIR = BASE_DIR + \"DATASET/INPUT/\"\n",
    "    OUTPUT_DIR = BASE_DIR + \"DATASET/OUTPUT/\"\n",
    "\n",
    "SEED = 6886\n",
    "%matplotlib inline"
   ]
  },
  {
   "cell_type": "markdown",
   "metadata": {},
   "source": [
    "## Import data"
   ]
  },
  {
   "cell_type": "code",
   "execution_count": 3,
   "metadata": {},
   "outputs": [
    {
     "data": {
      "text/plain": [
       "(361584, 600)"
      ]
     },
     "execution_count": 3,
     "metadata": {},
     "output_type": "execute_result"
    }
   ],
   "source": [
    "skill_embeddings = np.load(OUTPUT_DIR + \"skill_feat_embeddings.npy\")\n",
    "skill_embeddings.shape"
   ]
  },
  {
   "cell_type": "markdown",
   "metadata": {},
   "source": [
    "## Test cluster tendency"
   ]
  },
  {
   "cell_type": "code",
   "execution_count": 18,
   "metadata": {},
   "outputs": [],
   "source": [
    "def get_hopkins_stats(X, n):\n",
    "    \"\"\"\n",
    "    Function to run the Hopkins test to test the cluster tendency\n",
    "    Inputs:\n",
    "    - X: dataset to test \n",
    "    - n: sample size to test\n",
    "    Return:\n",
    "    - Hopkins statistics (= 1 - H): Closer to 0 means cluster tendency. \n",
    "    - Duration: time spent in minutes to run the Hopkins test\n",
    "    \"\"\"\n",
    "    start_hopkin_time = datetime.now()\n",
    "    print(\n",
    "        \"n =\", n,\n",
    "        \"\\nStart computing Hopkins statistic\",\n",
    "        start_hopkin_time.strftime(\"%Y-%m-%d %H:%M:%S.%f\"),\n",
    "    )\n",
    "\n",
    "    h_stat = hopkins(X, n)\n",
    "\n",
    "    end_hopkin_time = datetime.now()\n",
    "    print(\n",
    "        \"End computing Hopkins statistic\",\n",
    "        end_hopkin_time.strftime(\"%Y-%m-%d %H:%M:%S.%f\")\n",
    "    )\n",
    "    print(\"Duration\", end_hopkin_time - start_hopkin_time)\n",
    "    print('Hopkins statistics =', h_stat)\n",
    "    return h_stat, end_hopkin_time - start_hopkin_time"
   ]
  },
  {
   "cell_type": "code",
   "execution_count": 11,
   "metadata": {},
   "outputs": [
    {
     "name": "stderr",
     "output_type": "stream",
     "text": [
      "Running Hopkins test:   0%|                                                                      | 0/4 [00:00<?, ?it/s]"
     ]
    },
    {
     "name": "stdout",
     "output_type": "stream",
     "text": [
      "Start computing Hopkins statistic 2021-05-02 15:51:44.598395\n",
      "End computing Hopkins statistic 2021-05-02 15:59:19.297918\n",
      "Duration 0:07:34.699523\n",
      "Start computing Hopkins statistic 2021-05-02 15:59:19.345102\n",
      "End computing Hopkins statistic 2021-05-02 16:07:24.344824\n",
      "Duration 0:08:04.999722\n",
      "Start computing Hopkins statistic 2021-05-02 16:07:24.375987\n",
      "End computing Hopkins statistic 2021-05-02 16:24:31.960523\n",
      "Duration 0:17:07.584536\n",
      "Start computing Hopkins statistic 2021-05-02 16:24:31.991765\n",
      "End computing Hopkins statistic 2021-05-02 17:20:58.546461\n",
      "Duration 0:56:26.554696\n"
     ]
    }
   ],
   "source": [
    "# Test the cluster tendency of data\n",
    "n_sample_list = [10, 100, 1000, 5000, 10000]\n",
    "hopkins_list = []\n",
    "duration_list = []\n",
    "\n",
    "tqdm_bar = tqdm(desc=\"Running Hopkins test\", total=len(n_sample_list))\n",
    "for n in n_sample_list:\n",
    "    hopkins_stat, duration = get_hopkins_stats(skill_embeddings, n)\n",
    "    hopkins_list.append(hopkins_stat)\n",
    "    duration_list.append(duration)\n",
    "    tqdm_bar.update(1)\n",
    "tqdm_bar.close()"
   ]
  },
  {
   "cell_type": "code",
   "execution_count": 13,
   "metadata": {},
   "outputs": [],
   "source": [
    "hopkins_result_df = pd.DataFrame(\n",
    "    {\n",
    "        \"dataset\": [\"skill_wide_embeddings\"]*len(n_sample_list),\n",
    "        \"dataset_size\": [skill_embeddings.shape]*len(n_sample_list),\n",
    "        \"n\": n_sample_list,\n",
    "        \"hopkins_stastitics\": hopkins_list,\n",
    "        \"test_duration\": duration_list\n",
    "    }\n",
    ")"
   ]
  },
  {
   "cell_type": "code",
   "execution_count": 32,
   "metadata": {},
   "outputs": [
    {
     "data": {
      "text/html": [
       "<div>\n",
       "<style scoped>\n",
       "    .dataframe tbody tr th:only-of-type {\n",
       "        vertical-align: middle;\n",
       "    }\n",
       "\n",
       "    .dataframe tbody tr th {\n",
       "        vertical-align: top;\n",
       "    }\n",
       "\n",
       "    .dataframe thead th {\n",
       "        text-align: right;\n",
       "    }\n",
       "</style>\n",
       "<table border=\"1\" class=\"dataframe\">\n",
       "  <thead>\n",
       "    <tr style=\"text-align: right;\">\n",
       "      <th></th>\n",
       "      <th>dataset</th>\n",
       "      <th>dataset_size</th>\n",
       "      <th>n</th>\n",
       "      <th>hopkins_stastitics</th>\n",
       "      <th>test_duration</th>\n",
       "    </tr>\n",
       "  </thead>\n",
       "  <tbody>\n",
       "    <tr>\n",
       "      <th>0</th>\n",
       "      <td>skill_wide_embeddings</td>\n",
       "      <td>(361584, 600)</td>\n",
       "      <td>10</td>\n",
       "      <td>0.123751</td>\n",
       "      <td>7.34</td>\n",
       "    </tr>\n",
       "    <tr>\n",
       "      <th>1</th>\n",
       "      <td>skill_wide_embeddings</td>\n",
       "      <td>(361584, 600)</td>\n",
       "      <td>100</td>\n",
       "      <td>0.0736615</td>\n",
       "      <td>8.04</td>\n",
       "    </tr>\n",
       "    <tr>\n",
       "      <th>2</th>\n",
       "      <td>skill_wide_embeddings</td>\n",
       "      <td>(361584, 600)</td>\n",
       "      <td>1000</td>\n",
       "      <td>0.0675676</td>\n",
       "      <td>17.04</td>\n",
       "    </tr>\n",
       "    <tr>\n",
       "      <th>3</th>\n",
       "      <td>skill_wide_embeddings</td>\n",
       "      <td>(361584, 600)</td>\n",
       "      <td>5000</td>\n",
       "      <td>0.0677865</td>\n",
       "      <td>56.26</td>\n",
       "    </tr>\n",
       "    <tr>\n",
       "      <th>4</th>\n",
       "      <td>skill_wide_embeddings</td>\n",
       "      <td>(361584, 600)</td>\n",
       "      <td>10000</td>\n",
       "      <td>0.0688456</td>\n",
       "      <td>104.23</td>\n",
       "    </tr>\n",
       "  </tbody>\n",
       "</table>\n",
       "</div>"
      ],
      "text/plain": [
       "                 dataset   dataset_size      n hopkins_stastitics  \\\n",
       "0  skill_wide_embeddings  (361584, 600)     10           0.123751   \n",
       "1  skill_wide_embeddings  (361584, 600)    100          0.0736615   \n",
       "2  skill_wide_embeddings  (361584, 600)   1000          0.0675676   \n",
       "3  skill_wide_embeddings  (361584, 600)   5000          0.0677865   \n",
       "4  skill_wide_embeddings  (361584, 600)  10000          0.0688456   \n",
       "\n",
       "   test_duration  \n",
       "0           7.34  \n",
       "1           8.04  \n",
       "2          17.04  \n",
       "3          56.26  \n",
       "4         104.23  "
      ]
     },
     "execution_count": 32,
     "metadata": {},
     "output_type": "execute_result"
    }
   ],
   "source": [
    "hopkins_result_df"
   ]
  },
  {
   "cell_type": "code",
   "execution_count": 33,
   "metadata": {},
   "outputs": [],
   "source": [
    "hopkins_result_df.to_csv(OUTPUT_DIR + \"skill_hopkins_test_result.csv\", index=False)"
   ]
  }
 ],
 "metadata": {
  "kernelspec": {
   "display_name": "Python 3",
   "language": "python",
   "name": "python3"
  },
  "language_info": {
   "codemirror_mode": {
    "name": "ipython",
    "version": 3
   },
   "file_extension": ".py",
   "mimetype": "text/x-python",
   "name": "python",
   "nbconvert_exporter": "python",
   "pygments_lexer": "ipython3",
   "version": "3.8.5"
  }
 },
 "nbformat": 4,
 "nbformat_minor": 4
}
