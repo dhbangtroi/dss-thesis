{
 "cells": [
  {
   "cell_type": "markdown",
   "metadata": {},
   "source": [
    "## Load libraries"
   ]
  },
  {
   "cell_type": "code",
   "execution_count": 41,
   "metadata": {},
   "outputs": [],
   "source": [
    "# Libraries to work with dataset\n",
    "import pandas as pd\n",
    "# import numpy as np\n",
    "\n",
    "# Libraries to preprocess text\n",
    "import nltk\n",
    "from nltk.corpus import stopwords\n",
    "import re\n",
    "import string\n",
    "from nltk.stem import WordNetLemmatizer\n",
    "from nltk.corpus import wordnet\n",
    "# from collections import Counter\n",
    "# from rake_nltk import Metric, Rake\n",
    "# import spacy\n",
    "# import pytextrank\n",
    "import pke\n",
    "\n",
    "# Library to create embeddings\n",
    "from gensim.models import Word2Vec\n",
    "\n",
    "# Libraries to cluster data\n",
    "\n",
    "# Libraries to visualize data\n",
    "import seaborn as sns\n",
    "# from icecream import ic\n",
    "\n",
    "# Libraries to speed up processing\n",
    "# import dask.dataframe as dd\n",
    "# from dask.multiprocessing import get\n",
    "# import timeit\n",
    "# import time\n",
    "# import concurrent.futures\n",
    "# from functools import partial\n",
    "\n",
    "# Download neccessary resources\n",
    "# nltk.download('punkt')\n",
    "# nltk.download('stopwords')"
   ]
  },
  {
   "cell_type": "markdown",
   "metadata": {},
   "source": [
    "## Import data"
   ]
  },
  {
   "cell_type": "code",
   "execution_count": 2,
   "metadata": {},
   "outputs": [],
   "source": [
    "BASE_DIR = \"E:/THIENDHB_GOOGLEDRIVE/MASTER TILBURG/THESIS/\"\n",
    "INPUT_DIR = BASE_DIR + \"DATASET/INPUT/\"\n",
    "OUTPUT_DIR = BASE_DIR + \"DATASET/OUTPUT/\"\n",
    "\n",
    "df_raw = pd.read_csv(INPUT_DIR + \"refined_jobpost_data.csv\")\n",
    "pd.set_option('display.max_colwidth', None)"
   ]
  },
  {
   "cell_type": "markdown",
   "metadata": {},
   "source": [
    "## Explore data"
   ]
  },
  {
   "cell_type": "code",
   "execution_count": 4,
   "metadata": {},
   "outputs": [
    {
     "data": {
      "text/plain": [
       "(18992, 5)"
      ]
     },
     "execution_count": 4,
     "metadata": {},
     "output_type": "execute_result"
    }
   ],
   "source": [
    "df_raw.shape"
   ]
  },
  {
   "cell_type": "code",
   "execution_count": 5,
   "metadata": {},
   "outputs": [
    {
     "data": {
      "text/html": [
       "<div>\n",
       "<style scoped>\n",
       "    .dataframe tbody tr th:only-of-type {\n",
       "        vertical-align: middle;\n",
       "    }\n",
       "\n",
       "    .dataframe tbody tr th {\n",
       "        vertical-align: top;\n",
       "    }\n",
       "\n",
       "    .dataframe thead th {\n",
       "        text-align: right;\n",
       "    }\n",
       "</style>\n",
       "<table border=\"1\" class=\"dataframe\">\n",
       "  <thead>\n",
       "    <tr style=\"text-align: right;\">\n",
       "      <th></th>\n",
       "      <th>job_id</th>\n",
       "      <th>job_title</th>\n",
       "      <th>job_description</th>\n",
       "      <th>job_requirement</th>\n",
       "      <th>job_qualification</th>\n",
       "    </tr>\n",
       "  </thead>\n",
       "  <tbody>\n",
       "    <tr>\n",
       "      <th>0</th>\n",
       "      <td>1</td>\n",
       "      <td>Chief Financial Officer</td>\n",
       "      <td>AMERIA Investment Consulting Company is seeking a\\r\\nChief Financial Officer. This position manages the company's fiscal and\\r\\nadministrative functions, provides highly responsible and technically\\r\\ncomplex staff assistance to the Executive Director. The work performed\\r\\nrequires a high level of technical proficiency in financial management\\r\\nand investment management, as well as management, supervisory, and\\r\\nadministrative skills.</td>\n",
       "      <td>- Supervises financial management and administrative staff, including\\r\\nassigning responsibilities, reviewing employees' work processes and\\r\\nproducts, counseling employees, giving performance evaluations, and\\r\\nrecommending disciplinary action;\\r\\n- Serves as member of management team participating in both strategic\\r\\nand operational planning for the company;\\r\\n- Directs and oversees the company's financial management activities,\\r\\nincluding establishing and monitoring internal controls, managing cash\\r\\nand investments, and managing the investment portfolio in collaboration\\r\\nwith the Investment team leader. This includes, but is not limited to,\\r\\nevaluation of investment risk, concentration risk, fund deployment\\r\\nlevels, adequacy of loss and liquidity reserves Assists investment team\\r\\nin development of proper documentation and internal systems;\\r\\n- Directs and oversees the annual budgeting process, including\\r\\ndeveloping projections for financial planning, and preparing budgets;\\r\\n- Prepares external and internal financial management reports, such as\\r\\naudited financial statements, tax returns, and reports for the board of\\r\\ndirectors and company staff;\\r\\n- Develops, implements, and maintains efficient and effective accounting\\r\\nsystems and controls to ensure compliance with national and\\r\\ninternational accounting standards and principles, sufficiency of fund\\r\\naccounting, and comprehensiveness of data for reporting and compliance\\r\\nrequirements;\\r\\n- Ensures contract compliance, including interpreting and monitoring\\r\\ncontracts with clients, submitting required reports, and monitoring\\r\\ncovenants and other contract terms;\\r\\n- Oversees the design, implementation and maintenance of computer-based\\r\\ninformation system. Oversees records retention (both manual and\\r\\ncomputer-based) and file maintenance activities;\\r\\n- Serves as company's risk manager, including evaluating loss exposure\\r\\nand obtaining insurance as appropriate;\\r\\n- Manages other administrative operations, such as facilities\\r\\nmanagement, payroll administration, office operations, and\\r\\nadministrative support;\\r\\n- Monitors corporate compliance with by-laws and articles of\\r\\nincorporation regarding corporate registration and reporting of\\r\\nfundraising operations.</td>\n",
       "      <td>To perform this job successfully, an\\r\\nindividual must be able to perform each essential duty satisfactorily.\\r\\nThe requirements listed below are representative of the knowledge,\\r\\nskill, and/or ability required.\\r\\nKnowledge of:\\r\\n- Generally accepted accounting principles;\\r\\n- Local accounting standards and legislation;\\r\\n- State reporting requirements pertaining to accounting;\\r\\n- Principles and practices of financial management and budgeting;\\r\\n- Principles and practices of financial systems design and analysis;\\r\\n- Principles and practices of contract management, records management,\\r\\nand risk management;\\r\\n- Principles and practices of management and supervision;\\r\\n- Principles and practices of information systems management.\\r\\nAbility to:\\r\\n- Apply sound fiscal and administrative practices to the company's\\r\\nactivities;\\r\\n- Plan, organize and supervise the work of subordinate employees,\\r\\nincluding training them, assigning and evaluating their work, and\\r\\nproviding job performance feedback;\\r\\n- Critically analyze fiscal and administrative policies, practices,\\r\\nprocedures, and systems, and recommend and implement changes as needed;\\r\\n- Gather and synthesize financial information from a variety of sources\\r\\nand present it to a variety of audiences with differing financial\\r\\nmanagement and analysis expertise;\\r\\n- Prepare detailed, comprehensive financial reports, including\\r\\nexplanatory text;\\r\\n- Operate IBM-compatible personal computer, including word processing,\\r\\nspreadsheet, and database software applications;\\r\\n- Operate specialized software applications that support the financial\\r\\nmanagement and budgeting functions.\\r\\nQualifications:\\r\\n- A minimum of 5-7 years Accounting/ Corporate Finance/ Banking\\r\\nexperience, including a role as a CFO;\\r\\n- Excellent finance and accounting technical skills coupled with a\\r\\ndemonstrated knowledge of all key financial functions in an consulting\\r\\ncompany context - accounting, finance, control, treasury, reserving, and\\r\\nreporting;\\r\\n- Strong financial planning and analytical skills and experience and the\\r\\nability to work closely with and support the CEO and other executives in\\r\\nstrategic development and implementation;\\r\\n- Excellent leadership, management and supervisory track record of\\r\\nattracting, selecting, developing, rewarding and retaining high-caliber,\\r\\naccounting and finance executive and teams who achieve business goals;\\r\\n- An undergraduate degree in finance, business, or other related\\r\\ndiscipline is required. A CPA, CFA, ACCA or other financial\\r\\ncertification is highly preferred, as is a Masters degree in Business\\r\\nAdministration, Accounting or Finance;\\r\\n- Fluency in English, Armenian and Russian with outstanding writing\\r\\nskills;\\r\\n- Excellent analytical, communication, teamwork, interpersonal skills;\\r\\n- Need to be well organized and detail-oriented as well as goal/ result\\r\\ndriven and able to deal with complex issues.</td>\n",
       "    </tr>\n",
       "    <tr>\n",
       "      <th>1</th>\n",
       "      <td>2</td>\n",
       "      <td>Full-time Community Connections Intern (paid internship)</td>\n",
       "      <td>IREX currently seeks to fill the position of a paid\\r\\nIntern for the Community Connections (CC) Program. The position is based\\r\\nin the Yerevan office however applicants must be willing to travel\\r\\nthroughout Armenia as necessary.  This position reports directly to the\\r\\nCC Program Manager.</td>\n",
       "      <td>- Presenting the CC program to interested parties; \\r\\n- Assisting in planning and scheduling of programmatic meetings and\\r\\nevents (this includes coordinating logistics for CC staff, visitors and\\r\\nparticipants);\\r\\n- Assisting the Program Staff;\\r\\n- Translation/Interpretation from Armenian to English and vice versa;\\r\\n- Helping create, maintain and update the CC filing system and\\r\\ndatabases;\\r\\n- Completing general administrative tasks for the CC program within the\\r\\noffice;\\r\\n- Other duties as assigned/ needed.</td>\n",
       "      <td>- Bachelor's Degree; Master's is preferred;\\r\\n- Excellent skills in spoken and written English and Armenian languages;\\r\\n- Past English to Armenian translation and Armenian to English\\r\\ntranslation experience;\\r\\n- Good communication and public speaking skills;\\r\\n- Ability to work independently and as part of a team.\\r\\nREMUNERATION:  Commensurate with experience.</td>\n",
       "    </tr>\n",
       "    <tr>\n",
       "      <th>2</th>\n",
       "      <td>3</td>\n",
       "      <td>Country Coordinator</td>\n",
       "      <td>Public outreach and strengthening of a growing\\r\\nnetwork of environmental NGOs, businesses, international organizations\\r\\nand public agencies. Will serve as primary contact between CENN and\\r\\npublic. This is a full-time position.</td>\n",
       "      <td>- Working with the Country Director to provide environmental information\\r\\nto the general public via regular electronic communications and serving\\r\\nas the primary local contact to Armenian NGOs and businesses and the\\r\\nArmenian offices of international organizations and agencies;\\r\\n- Helping to organize and prepare CENN seminars/ workshops;\\r\\n- Participating in defining the strategy and policy of CENN in Armenia,\\r\\nthe Caucasus region and abroad.</td>\n",
       "      <td>- Degree in environmentally related field, or 5 years relevant\\r\\nexperience;\\r\\n- Oral and written fluency in Armenian, Russian and English;\\r\\n- Knowledge/ experience of working with environmental issues specific to\\r\\nArmenia is a plus.\\r\\nREMUNERATION:  Salary commensurate with experience.</td>\n",
       "    </tr>\n",
       "  </tbody>\n",
       "</table>\n",
       "</div>"
      ],
      "text/plain": [
       "   job_id                                                 job_title  \\\n",
       "0       1                                   Chief Financial Officer   \n",
       "1       2  Full-time Community Connections Intern (paid internship)   \n",
       "2       3                                       Country Coordinator   \n",
       "\n",
       "                                                                                                                                                                                                                                                                                                                                                                                                                                             job_description  \\\n",
       "0  AMERIA Investment Consulting Company is seeking a\\r\\nChief Financial Officer. This position manages the company's fiscal and\\r\\nadministrative functions, provides highly responsible and technically\\r\\ncomplex staff assistance to the Executive Director. The work performed\\r\\nrequires a high level of technical proficiency in financial management\\r\\nand investment management, as well as management, supervisory, and\\r\\nadministrative skills.   \n",
       "1                                                                                                                                                    IREX currently seeks to fill the position of a paid\\r\\nIntern for the Community Connections (CC) Program. The position is based\\r\\nin the Yerevan office however applicants must be willing to travel\\r\\nthroughout Armenia as necessary.  This position reports directly to the\\r\\nCC Program Manager.   \n",
       "2                                                                                                                                                                                                                   Public outreach and strengthening of a growing\\r\\nnetwork of environmental NGOs, businesses, international organizations\\r\\nand public agencies. Will serve as primary contact between CENN and\\r\\npublic. This is a full-time position.   \n",
       "\n",
       "                                                                                                                                                                                                                                                                                                                                                                                                                                                                                                                                                                                                                                                                                                                                                                                                                                                                                                                                                                                                                                                                                                                                                                                                                                                                                                                                                                                                                                                                                                                                                                                                                                                                                                                                                                                                                                                                                                                                                                                                                                                                                                                                                                                                                                                                                                                                                                                job_requirement  \\\n",
       "0  - Supervises financial management and administrative staff, including\\r\\nassigning responsibilities, reviewing employees' work processes and\\r\\nproducts, counseling employees, giving performance evaluations, and\\r\\nrecommending disciplinary action;\\r\\n- Serves as member of management team participating in both strategic\\r\\nand operational planning for the company;\\r\\n- Directs and oversees the company's financial management activities,\\r\\nincluding establishing and monitoring internal controls, managing cash\\r\\nand investments, and managing the investment portfolio in collaboration\\r\\nwith the Investment team leader. This includes, but is not limited to,\\r\\nevaluation of investment risk, concentration risk, fund deployment\\r\\nlevels, adequacy of loss and liquidity reserves Assists investment team\\r\\nin development of proper documentation and internal systems;\\r\\n- Directs and oversees the annual budgeting process, including\\r\\ndeveloping projections for financial planning, and preparing budgets;\\r\\n- Prepares external and internal financial management reports, such as\\r\\naudited financial statements, tax returns, and reports for the board of\\r\\ndirectors and company staff;\\r\\n- Develops, implements, and maintains efficient and effective accounting\\r\\nsystems and controls to ensure compliance with national and\\r\\ninternational accounting standards and principles, sufficiency of fund\\r\\naccounting, and comprehensiveness of data for reporting and compliance\\r\\nrequirements;\\r\\n- Ensures contract compliance, including interpreting and monitoring\\r\\ncontracts with clients, submitting required reports, and monitoring\\r\\ncovenants and other contract terms;\\r\\n- Oversees the design, implementation and maintenance of computer-based\\r\\ninformation system. Oversees records retention (both manual and\\r\\ncomputer-based) and file maintenance activities;\\r\\n- Serves as company's risk manager, including evaluating loss exposure\\r\\nand obtaining insurance as appropriate;\\r\\n- Manages other administrative operations, such as facilities\\r\\nmanagement, payroll administration, office operations, and\\r\\nadministrative support;\\r\\n- Monitors corporate compliance with by-laws and articles of\\r\\nincorporation regarding corporate registration and reporting of\\r\\nfundraising operations.   \n",
       "1                                                                                                                                                                                                                                                                                                                                                                                                                                                                                                                                                                                                                                                                                                                                                                                                                                                                                                                                                                                                                                                                                                                                                                                                                                                                                                                                                                                                                                                                                                                                                                                                                                                                                                                                                                                                                                               - Presenting the CC program to interested parties; \\r\\n- Assisting in planning and scheduling of programmatic meetings and\\r\\nevents (this includes coordinating logistics for CC staff, visitors and\\r\\nparticipants);\\r\\n- Assisting the Program Staff;\\r\\n- Translation/Interpretation from Armenian to English and vice versa;\\r\\n- Helping create, maintain and update the CC filing system and\\r\\ndatabases;\\r\\n- Completing general administrative tasks for the CC program within the\\r\\noffice;\\r\\n- Other duties as assigned/ needed.   \n",
       "2                                                                                                                                                                                                                                                                                                                                                                                                                                                                                                                                                                                                                                                                                                                                                                                                                                                                                                                                                                                                                                                                                                                                                                                                                                                                                                                                                                                                                                                                                                                                                                                                                                                                                                                                                                                                                                                                                                                     - Working with the Country Director to provide environmental information\\r\\nto the general public via regular electronic communications and serving\\r\\nas the primary local contact to Armenian NGOs and businesses and the\\r\\nArmenian offices of international organizations and agencies;\\r\\n- Helping to organize and prepare CENN seminars/ workshops;\\r\\n- Participating in defining the strategy and policy of CENN in Armenia,\\r\\nthe Caucasus region and abroad.   \n",
       "\n",
       "                                                                                                                                                                                                                                                                                                                                                                                                                                                                                                                                                                                                                                                                                                                                                                                                                                                                                                                                                                                                                                                                                                                                                                                                                                                                                                                                                                                                                                                                                                                                                                                                                                                                                                                                                                                                                                                                                                                                                                                                                                                                                                                                                                                                                                                                                                                                                                                                                                                                                                                                                                                                                                                                                                                                                                                                                                                                                                                                                                                                                                                                                              job_qualification  \n",
       "0  To perform this job successfully, an\\r\\nindividual must be able to perform each essential duty satisfactorily.\\r\\nThe requirements listed below are representative of the knowledge,\\r\\nskill, and/or ability required.\\r\\nKnowledge of:\\r\\n- Generally accepted accounting principles;\\r\\n- Local accounting standards and legislation;\\r\\n- State reporting requirements pertaining to accounting;\\r\\n- Principles and practices of financial management and budgeting;\\r\\n- Principles and practices of financial systems design and analysis;\\r\\n- Principles and practices of contract management, records management,\\r\\nand risk management;\\r\\n- Principles and practices of management and supervision;\\r\\n- Principles and practices of information systems management.\\r\\nAbility to:\\r\\n- Apply sound fiscal and administrative practices to the company's\\r\\nactivities;\\r\\n- Plan, organize and supervise the work of subordinate employees,\\r\\nincluding training them, assigning and evaluating their work, and\\r\\nproviding job performance feedback;\\r\\n- Critically analyze fiscal and administrative policies, practices,\\r\\nprocedures, and systems, and recommend and implement changes as needed;\\r\\n- Gather and synthesize financial information from a variety of sources\\r\\nand present it to a variety of audiences with differing financial\\r\\nmanagement and analysis expertise;\\r\\n- Prepare detailed, comprehensive financial reports, including\\r\\nexplanatory text;\\r\\n- Operate IBM-compatible personal computer, including word processing,\\r\\nspreadsheet, and database software applications;\\r\\n- Operate specialized software applications that support the financial\\r\\nmanagement and budgeting functions.\\r\\nQualifications:\\r\\n- A minimum of 5-7 years Accounting/ Corporate Finance/ Banking\\r\\nexperience, including a role as a CFO;\\r\\n- Excellent finance and accounting technical skills coupled with a\\r\\ndemonstrated knowledge of all key financial functions in an consulting\\r\\ncompany context - accounting, finance, control, treasury, reserving, and\\r\\nreporting;\\r\\n- Strong financial planning and analytical skills and experience and the\\r\\nability to work closely with and support the CEO and other executives in\\r\\nstrategic development and implementation;\\r\\n- Excellent leadership, management and supervisory track record of\\r\\nattracting, selecting, developing, rewarding and retaining high-caliber,\\r\\naccounting and finance executive and teams who achieve business goals;\\r\\n- An undergraduate degree in finance, business, or other related\\r\\ndiscipline is required. A CPA, CFA, ACCA or other financial\\r\\ncertification is highly preferred, as is a Masters degree in Business\\r\\nAdministration, Accounting or Finance;\\r\\n- Fluency in English, Armenian and Russian with outstanding writing\\r\\nskills;\\r\\n- Excellent analytical, communication, teamwork, interpersonal skills;\\r\\n- Need to be well organized and detail-oriented as well as goal/ result\\r\\ndriven and able to deal with complex issues.  \n",
       "1                                                                                                                                                                                                                                                                                                                                                                                                                                                                                                                                                                                                                                                                                                                                                                                                                                                                                                                                                                                                                                                                                                                                                                                                                                                                                                                                                                                                                                                                                                                                                                                                                                                                                                                                                                                                                                                                                                                                                                                                                                                                                                                                                                                                                                                                                                                                                                                                                                                                                                                                                                                                                                                                                                                            - Bachelor's Degree; Master's is preferred;\\r\\n- Excellent skills in spoken and written English and Armenian languages;\\r\\n- Past English to Armenian translation and Armenian to English\\r\\ntranslation experience;\\r\\n- Good communication and public speaking skills;\\r\\n- Ability to work independently and as part of a team.\\r\\nREMUNERATION:  Commensurate with experience.  \n",
       "2                                                                                                                                                                                                                                                                                                                                                                                                                                                                                                                                                                                                                                                                                                                                                                                                                                                                                                                                                                                                                                                                                                                                                                                                                                                                                                                                                                                                                                                                                                                                                                                                                                                                                                                                                                                                                                                                                                                                                                                                                                                                                                                                                                                                                                                                                                                                                                                                                                                                                                                                                                                                                                                                                                                                                                                                        - Degree in environmentally related field, or 5 years relevant\\r\\nexperience;\\r\\n- Oral and written fluency in Armenian, Russian and English;\\r\\n- Knowledge/ experience of working with environmental issues specific to\\r\\nArmenia is a plus.\\r\\nREMUNERATION:  Salary commensurate with experience.  "
      ]
     },
     "execution_count": 5,
     "metadata": {},
     "output_type": "execute_result"
    }
   ],
   "source": [
    "df_raw.head(3)"
   ]
  },
  {
   "cell_type": "code",
   "execution_count": 6,
   "metadata": {},
   "outputs": [
    {
     "data": {
      "text/plain": [
       "array(['job_id', 'job_title', 'job_description', 'job_requirement',\n",
       "       'job_qualification'], dtype=object)"
      ]
     },
     "execution_count": 6,
     "metadata": {},
     "output_type": "execute_result"
    }
   ],
   "source": [
    "df_raw.columns.values"
   ]
  },
  {
   "cell_type": "markdown",
   "metadata": {},
   "source": [
    "### Treating missing data"
   ]
  },
  {
   "cell_type": "code",
   "execution_count": 3,
   "metadata": {},
   "outputs": [],
   "source": [
    "# Detecting missing values\n",
    "def missing_values_table(df):\n",
    "\n",
    "    # Total missing values\n",
    "    mis_val = df.isnull().sum()\n",
    "\n",
    "    # Percentage of missing values\n",
    "    mis_val_percent = 100 * df.isnull().sum() / len(df)\n",
    "\n",
    "    # Make a table with the results\n",
    "    mis_val_table = pd.concat([mis_val, mis_val_percent], axis=1)\n",
    "\n",
    "    # Rename the columns\n",
    "    mis_val_table_columns = mis_val_table.rename(\n",
    "        columns={0: \"Missing Values\", 1: \"% of Total Values\"}\n",
    "    )\n",
    "\n",
    "    # Sort the table by percentage of missing descending\n",
    "    # .iloc[:, 1]!= 0: filter on missing missing values not equal to zero\n",
    "    mis_val_table_columns = (\n",
    "        mis_val_table_columns[mis_val_table_columns.iloc[:, 1] != 0]\n",
    "        .sort_values(\"% of Total Values\", ascending=False)\n",
    "        .round(2)\n",
    "    )  # round(2), keep 2 digits\n",
    "    # Print some summary information\n",
    "    print(\n",
    "        \"Dataset has {} columns.\".format(df.shape[1])\n",
    "        + \"\\n\"\n",
    "        + \"There are {} columns that have missing values.\".format(\n",
    "            mis_val_table_columns.shape[0]\n",
    "        )\n",
    "    )\n",
    "\n",
    "    # Return the dataframe with missing information\n",
    "    return mis_val_table_columns"
   ]
  },
  {
   "cell_type": "code",
   "execution_count": 8,
   "metadata": {},
   "outputs": [
    {
     "name": "stdout",
     "output_type": "stream",
     "text": [
      "Dataset has 5 columns.\n",
      "There are 3 columns that have missing values.\n"
     ]
    },
    {
     "data": {
      "text/html": [
       "<div>\n",
       "<style scoped>\n",
       "    .dataframe tbody tr th:only-of-type {\n",
       "        vertical-align: middle;\n",
       "    }\n",
       "\n",
       "    .dataframe tbody tr th {\n",
       "        vertical-align: top;\n",
       "    }\n",
       "\n",
       "    .dataframe thead th {\n",
       "        text-align: right;\n",
       "    }\n",
       "</style>\n",
       "<table border=\"1\" class=\"dataframe\">\n",
       "  <thead>\n",
       "    <tr style=\"text-align: right;\">\n",
       "      <th></th>\n",
       "      <th>Missing Values</th>\n",
       "      <th>% of Total Values</th>\n",
       "    </tr>\n",
       "  </thead>\n",
       "  <tbody>\n",
       "    <tr>\n",
       "      <th>job_description</th>\n",
       "      <td>3411</td>\n",
       "      <td>17.96</td>\n",
       "    </tr>\n",
       "    <tr>\n",
       "      <th>job_requirement</th>\n",
       "      <td>2508</td>\n",
       "      <td>13.21</td>\n",
       "    </tr>\n",
       "    <tr>\n",
       "      <th>job_qualification</th>\n",
       "      <td>472</td>\n",
       "      <td>2.49</td>\n",
       "    </tr>\n",
       "  </tbody>\n",
       "</table>\n",
       "</div>"
      ],
      "text/plain": [
       "                   Missing Values  % of Total Values\n",
       "job_description              3411              17.96\n",
       "job_requirement              2508              13.21\n",
       "job_qualification             472               2.49"
      ]
     },
     "execution_count": 8,
     "metadata": {},
     "output_type": "execute_result"
    }
   ],
   "source": [
    "missing_values_table(df_raw)"
   ]
  },
  {
   "cell_type": "code",
   "execution_count": 9,
   "metadata": {},
   "outputs": [
    {
     "data": {
      "text/plain": [
       "<AxesSubplot:>"
      ]
     },
     "execution_count": 9,
     "metadata": {},
     "output_type": "execute_result"
    },
    {
     "data": {
      "image/png": "[encoded data removed]",
      "text/plain": [
       "<Figure size 432x288 with 2 Axes>"
      ]
     },
     "metadata": {
      "needs_background": "light"
     },
     "output_type": "display_data"
    }
   ],
   "source": [
    "sns.heatmap(df_raw.isnull(), cmap='viridis')"
   ]
  },
  {
   "cell_type": "code",
   "execution_count": 4,
   "metadata": {},
   "outputs": [
    {
     "data": {
      "text/html": [
       "<div>\n",
       "<style scoped>\n",
       "    .dataframe tbody tr th:only-of-type {\n",
       "        vertical-align: middle;\n",
       "    }\n",
       "\n",
       "    .dataframe tbody tr th {\n",
       "        vertical-align: top;\n",
       "    }\n",
       "\n",
       "    .dataframe thead th {\n",
       "        text-align: right;\n",
       "    }\n",
       "</style>\n",
       "<table border=\"1\" class=\"dataframe\">\n",
       "  <thead>\n",
       "    <tr style=\"text-align: right;\">\n",
       "      <th></th>\n",
       "      <th>job_id</th>\n",
       "      <th>job_title</th>\n",
       "      <th>job_description</th>\n",
       "      <th>job_requirement</th>\n",
       "      <th>job_qualification</th>\n",
       "    </tr>\n",
       "  </thead>\n",
       "  <tbody>\n",
       "    <tr>\n",
       "      <th>0</th>\n",
       "      <td>1</td>\n",
       "      <td>Chief Financial Officer</td>\n",
       "      <td>AMERIA Investment Consulting Company is seeking a\\r\\nChief Financial Officer. This position manages the company's fiscal and\\r\\nadministrative functions, provides highly responsible and technically\\r\\ncomplex staff assistance to the Executive Director. The work performed\\r\\nrequires a high level of technical proficiency in financial management\\r\\nand investment management, as well as management, supervisory, and\\r\\nadministrative skills.</td>\n",
       "      <td>- Supervises financial management and administrative staff, including\\r\\nassigning responsibilities, reviewing employees' work processes and\\r\\nproducts, counseling employees, giving performance evaluations, and\\r\\nrecommending disciplinary action;\\r\\n- Serves as member of management team participating in both strategic\\r\\nand operational planning for the company;\\r\\n- Directs and oversees the company's financial management activities,\\r\\nincluding establishing and monitoring internal controls, managing cash\\r\\nand investments, and managing the investment portfolio in collaboration\\r\\nwith the Investment team leader. This includes, but is not limited to,\\r\\nevaluation of investment risk, concentration risk, fund deployment\\r\\nlevels, adequacy of loss and liquidity reserves Assists investment team\\r\\nin development of proper documentation and internal systems;\\r\\n- Directs and oversees the annual budgeting process, including\\r\\ndeveloping projections for financial planning, and preparing budgets;\\r\\n- Prepares external and internal financial management reports, such as\\r\\naudited financial statements, tax returns, and reports for the board of\\r\\ndirectors and company staff;\\r\\n- Develops, implements, and maintains efficient and effective accounting\\r\\nsystems and controls to ensure compliance with national and\\r\\ninternational accounting standards and principles, sufficiency of fund\\r\\naccounting, and comprehensiveness of data for reporting and compliance\\r\\nrequirements;\\r\\n- Ensures contract compliance, including interpreting and monitoring\\r\\ncontracts with clients, submitting required reports, and monitoring\\r\\ncovenants and other contract terms;\\r\\n- Oversees the design, implementation and maintenance of computer-based\\r\\ninformation system. Oversees records retention (both manual and\\r\\ncomputer-based) and file maintenance activities;\\r\\n- Serves as company's risk manager, including evaluating loss exposure\\r\\nand obtaining insurance as appropriate;\\r\\n- Manages other administrative operations, such as facilities\\r\\nmanagement, payroll administration, office operations, and\\r\\nadministrative support;\\r\\n- Monitors corporate compliance with by-laws and articles of\\r\\nincorporation regarding corporate registration and reporting of\\r\\nfundraising operations.</td>\n",
       "      <td>To perform this job successfully, an\\r\\nindividual must be able to perform each essential duty satisfactorily.\\r\\nThe requirements listed below are representative of the knowledge,\\r\\nskill, and/or ability required.\\r\\nKnowledge of:\\r\\n- Generally accepted accounting principles;\\r\\n- Local accounting standards and legislation;\\r\\n- State reporting requirements pertaining to accounting;\\r\\n- Principles and practices of financial management and budgeting;\\r\\n- Principles and practices of financial systems design and analysis;\\r\\n- Principles and practices of contract management, records management,\\r\\nand risk management;\\r\\n- Principles and practices of management and supervision;\\r\\n- Principles and practices of information systems management.\\r\\nAbility to:\\r\\n- Apply sound fiscal and administrative practices to the company's\\r\\nactivities;\\r\\n- Plan, organize and supervise the work of subordinate employees,\\r\\nincluding training them, assigning and evaluating their work, and\\r\\nproviding job performance feedback;\\r\\n- Critically analyze fiscal and administrative policies, practices,\\r\\nprocedures, and systems, and recommend and implement changes as needed;\\r\\n- Gather and synthesize financial information from a variety of sources\\r\\nand present it to a variety of audiences with differing financial\\r\\nmanagement and analysis expertise;\\r\\n- Prepare detailed, comprehensive financial reports, including\\r\\nexplanatory text;\\r\\n- Operate IBM-compatible personal computer, including word processing,\\r\\nspreadsheet, and database software applications;\\r\\n- Operate specialized software applications that support the financial\\r\\nmanagement and budgeting functions.\\r\\nQualifications:\\r\\n- A minimum of 5-7 years Accounting/ Corporate Finance/ Banking\\r\\nexperience, including a role as a CFO;\\r\\n- Excellent finance and accounting technical skills coupled with a\\r\\ndemonstrated knowledge of all key financial functions in an consulting\\r\\ncompany context - accounting, finance, control, treasury, reserving, and\\r\\nreporting;\\r\\n- Strong financial planning and analytical skills and experience and the\\r\\nability to work closely with and support the CEO and other executives in\\r\\nstrategic development and implementation;\\r\\n- Excellent leadership, management and supervisory track record of\\r\\nattracting, selecting, developing, rewarding and retaining high-caliber,\\r\\naccounting and finance executive and teams who achieve business goals;\\r\\n- An undergraduate degree in finance, business, or other related\\r\\ndiscipline is required. A CPA, CFA, ACCA or other financial\\r\\ncertification is highly preferred, as is a Masters degree in Business\\r\\nAdministration, Accounting or Finance;\\r\\n- Fluency in English, Armenian and Russian with outstanding writing\\r\\nskills;\\r\\n- Excellent analytical, communication, teamwork, interpersonal skills;\\r\\n- Need to be well organized and detail-oriented as well as goal/ result\\r\\ndriven and able to deal with complex issues.</td>\n",
       "    </tr>\n",
       "    <tr>\n",
       "      <th>1</th>\n",
       "      <td>2</td>\n",
       "      <td>Full-time Community Connections Intern (paid internship)</td>\n",
       "      <td>IREX currently seeks to fill the position of a paid\\r\\nIntern for the Community Connections (CC) Program. The position is based\\r\\nin the Yerevan office however applicants must be willing to travel\\r\\nthroughout Armenia as necessary.  This position reports directly to the\\r\\nCC Program Manager.</td>\n",
       "      <td>- Presenting the CC program to interested parties; \\r\\n- Assisting in planning and scheduling of programmatic meetings and\\r\\nevents (this includes coordinating logistics for CC staff, visitors and\\r\\nparticipants);\\r\\n- Assisting the Program Staff;\\r\\n- Translation/Interpretation from Armenian to English and vice versa;\\r\\n- Helping create, maintain and update the CC filing system and\\r\\ndatabases;\\r\\n- Completing general administrative tasks for the CC program within the\\r\\noffice;\\r\\n- Other duties as assigned/ needed.</td>\n",
       "      <td>- Bachelor's Degree; Master's is preferred;\\r\\n- Excellent skills in spoken and written English and Armenian languages;\\r\\n- Past English to Armenian translation and Armenian to English\\r\\ntranslation experience;\\r\\n- Good communication and public speaking skills;\\r\\n- Ability to work independently and as part of a team.\\r\\nREMUNERATION:  Commensurate with experience.</td>\n",
       "    </tr>\n",
       "    <tr>\n",
       "      <th>2</th>\n",
       "      <td>3</td>\n",
       "      <td>Country Coordinator</td>\n",
       "      <td>Public outreach and strengthening of a growing\\r\\nnetwork of environmental NGOs, businesses, international organizations\\r\\nand public agencies. Will serve as primary contact between CENN and\\r\\npublic. This is a full-time position.</td>\n",
       "      <td>- Working with the Country Director to provide environmental information\\r\\nto the general public via regular electronic communications and serving\\r\\nas the primary local contact to Armenian NGOs and businesses and the\\r\\nArmenian offices of international organizations and agencies;\\r\\n- Helping to organize and prepare CENN seminars/ workshops;\\r\\n- Participating in defining the strategy and policy of CENN in Armenia,\\r\\nthe Caucasus region and abroad.</td>\n",
       "      <td>- Degree in environmentally related field, or 5 years relevant\\r\\nexperience;\\r\\n- Oral and written fluency in Armenian, Russian and English;\\r\\n- Knowledge/ experience of working with environmental issues specific to\\r\\nArmenia is a plus.\\r\\nREMUNERATION:  Salary commensurate with experience.</td>\n",
       "    </tr>\n",
       "  </tbody>\n",
       "</table>\n",
       "</div>"
      ],
      "text/plain": [
       "   job_id                                                 job_title  \\\n",
       "0       1                                   Chief Financial Officer   \n",
       "1       2  Full-time Community Connections Intern (paid internship)   \n",
       "2       3                                       Country Coordinator   \n",
       "\n",
       "                                                                                                                                                                                                                                                                                                                                                                                                                                             job_description  \\\n",
       "0  AMERIA Investment Consulting Company is seeking a\\r\\nChief Financial Officer. This position manages the company's fiscal and\\r\\nadministrative functions, provides highly responsible and technically\\r\\ncomplex staff assistance to the Executive Director. The work performed\\r\\nrequires a high level of technical proficiency in financial management\\r\\nand investment management, as well as management, supervisory, and\\r\\nadministrative skills.   \n",
       "1                                                                                                                                                    IREX currently seeks to fill the position of a paid\\r\\nIntern for the Community Connections (CC) Program. The position is based\\r\\nin the Yerevan office however applicants must be willing to travel\\r\\nthroughout Armenia as necessary.  This position reports directly to the\\r\\nCC Program Manager.   \n",
       "2                                                                                                                                                                                                                   Public outreach and strengthening of a growing\\r\\nnetwork of environmental NGOs, businesses, international organizations\\r\\nand public agencies. Will serve as primary contact between CENN and\\r\\npublic. This is a full-time position.   \n",
       "\n",
       "                                                                                                                                                                                                                                                                                                                                                                                                                                                                                                                                                                                                                                                                                                                                                                                                                                                                                                                                                                                                                                                                                                                                                                                                                                                                                                                                                                                                                                                                                                                                                                                                                                                                                                                                                                                                                                                                                                                                                                                                                                                                                                                                                                                                                                                                                                                                                                                job_requirement  \\\n",
       "0  - Supervises financial management and administrative staff, including\\r\\nassigning responsibilities, reviewing employees' work processes and\\r\\nproducts, counseling employees, giving performance evaluations, and\\r\\nrecommending disciplinary action;\\r\\n- Serves as member of management team participating in both strategic\\r\\nand operational planning for the company;\\r\\n- Directs and oversees the company's financial management activities,\\r\\nincluding establishing and monitoring internal controls, managing cash\\r\\nand investments, and managing the investment portfolio in collaboration\\r\\nwith the Investment team leader. This includes, but is not limited to,\\r\\nevaluation of investment risk, concentration risk, fund deployment\\r\\nlevels, adequacy of loss and liquidity reserves Assists investment team\\r\\nin development of proper documentation and internal systems;\\r\\n- Directs and oversees the annual budgeting process, including\\r\\ndeveloping projections for financial planning, and preparing budgets;\\r\\n- Prepares external and internal financial management reports, such as\\r\\naudited financial statements, tax returns, and reports for the board of\\r\\ndirectors and company staff;\\r\\n- Develops, implements, and maintains efficient and effective accounting\\r\\nsystems and controls to ensure compliance with national and\\r\\ninternational accounting standards and principles, sufficiency of fund\\r\\naccounting, and comprehensiveness of data for reporting and compliance\\r\\nrequirements;\\r\\n- Ensures contract compliance, including interpreting and monitoring\\r\\ncontracts with clients, submitting required reports, and monitoring\\r\\ncovenants and other contract terms;\\r\\n- Oversees the design, implementation and maintenance of computer-based\\r\\ninformation system. Oversees records retention (both manual and\\r\\ncomputer-based) and file maintenance activities;\\r\\n- Serves as company's risk manager, including evaluating loss exposure\\r\\nand obtaining insurance as appropriate;\\r\\n- Manages other administrative operations, such as facilities\\r\\nmanagement, payroll administration, office operations, and\\r\\nadministrative support;\\r\\n- Monitors corporate compliance with by-laws and articles of\\r\\nincorporation regarding corporate registration and reporting of\\r\\nfundraising operations.   \n",
       "1                                                                                                                                                                                                                                                                                                                                                                                                                                                                                                                                                                                                                                                                                                                                                                                                                                                                                                                                                                                                                                                                                                                                                                                                                                                                                                                                                                                                                                                                                                                                                                                                                                                                                                                                                                                                                                               - Presenting the CC program to interested parties; \\r\\n- Assisting in planning and scheduling of programmatic meetings and\\r\\nevents (this includes coordinating logistics for CC staff, visitors and\\r\\nparticipants);\\r\\n- Assisting the Program Staff;\\r\\n- Translation/Interpretation from Armenian to English and vice versa;\\r\\n- Helping create, maintain and update the CC filing system and\\r\\ndatabases;\\r\\n- Completing general administrative tasks for the CC program within the\\r\\noffice;\\r\\n- Other duties as assigned/ needed.   \n",
       "2                                                                                                                                                                                                                                                                                                                                                                                                                                                                                                                                                                                                                                                                                                                                                                                                                                                                                                                                                                                                                                                                                                                                                                                                                                                                                                                                                                                                                                                                                                                                                                                                                                                                                                                                                                                                                                                                                                                     - Working with the Country Director to provide environmental information\\r\\nto the general public via regular electronic communications and serving\\r\\nas the primary local contact to Armenian NGOs and businesses and the\\r\\nArmenian offices of international organizations and agencies;\\r\\n- Helping to organize and prepare CENN seminars/ workshops;\\r\\n- Participating in defining the strategy and policy of CENN in Armenia,\\r\\nthe Caucasus region and abroad.   \n",
       "\n",
       "                                                                                                                                                                                                                                                                                                                                                                                                                                                                                                                                                                                                                                                                                                                                                                                                                                                                                                                                                                                                                                                                                                                                                                                                                                                                                                                                                                                                                                                                                                                                                                                                                                                                                                                                                                                                                                                                                                                                                                                                                                                                                                                                                                                                                                                                                                                                                                                                                                                                                                                                                                                                                                                                                                                                                                                                                                                                                                                                                                                                                                                                                              job_qualification  \n",
       "0  To perform this job successfully, an\\r\\nindividual must be able to perform each essential duty satisfactorily.\\r\\nThe requirements listed below are representative of the knowledge,\\r\\nskill, and/or ability required.\\r\\nKnowledge of:\\r\\n- Generally accepted accounting principles;\\r\\n- Local accounting standards and legislation;\\r\\n- State reporting requirements pertaining to accounting;\\r\\n- Principles and practices of financial management and budgeting;\\r\\n- Principles and practices of financial systems design and analysis;\\r\\n- Principles and practices of contract management, records management,\\r\\nand risk management;\\r\\n- Principles and practices of management and supervision;\\r\\n- Principles and practices of information systems management.\\r\\nAbility to:\\r\\n- Apply sound fiscal and administrative practices to the company's\\r\\nactivities;\\r\\n- Plan, organize and supervise the work of subordinate employees,\\r\\nincluding training them, assigning and evaluating their work, and\\r\\nproviding job performance feedback;\\r\\n- Critically analyze fiscal and administrative policies, practices,\\r\\nprocedures, and systems, and recommend and implement changes as needed;\\r\\n- Gather and synthesize financial information from a variety of sources\\r\\nand present it to a variety of audiences with differing financial\\r\\nmanagement and analysis expertise;\\r\\n- Prepare detailed, comprehensive financial reports, including\\r\\nexplanatory text;\\r\\n- Operate IBM-compatible personal computer, including word processing,\\r\\nspreadsheet, and database software applications;\\r\\n- Operate specialized software applications that support the financial\\r\\nmanagement and budgeting functions.\\r\\nQualifications:\\r\\n- A minimum of 5-7 years Accounting/ Corporate Finance/ Banking\\r\\nexperience, including a role as a CFO;\\r\\n- Excellent finance and accounting technical skills coupled with a\\r\\ndemonstrated knowledge of all key financial functions in an consulting\\r\\ncompany context - accounting, finance, control, treasury, reserving, and\\r\\nreporting;\\r\\n- Strong financial planning and analytical skills and experience and the\\r\\nability to work closely with and support the CEO and other executives in\\r\\nstrategic development and implementation;\\r\\n- Excellent leadership, management and supervisory track record of\\r\\nattracting, selecting, developing, rewarding and retaining high-caliber,\\r\\naccounting and finance executive and teams who achieve business goals;\\r\\n- An undergraduate degree in finance, business, or other related\\r\\ndiscipline is required. A CPA, CFA, ACCA or other financial\\r\\ncertification is highly preferred, as is a Masters degree in Business\\r\\nAdministration, Accounting or Finance;\\r\\n- Fluency in English, Armenian and Russian with outstanding writing\\r\\nskills;\\r\\n- Excellent analytical, communication, teamwork, interpersonal skills;\\r\\n- Need to be well organized and detail-oriented as well as goal/ result\\r\\ndriven and able to deal with complex issues.  \n",
       "1                                                                                                                                                                                                                                                                                                                                                                                                                                                                                                                                                                                                                                                                                                                                                                                                                                                                                                                                                                                                                                                                                                                                                                                                                                                                                                                                                                                                                                                                                                                                                                                                                                                                                                                                                                                                                                                                                                                                                                                                                                                                                                                                                                                                                                                                                                                                                                                                                                                                                                                                                                                                                                                                                                                            - Bachelor's Degree; Master's is preferred;\\r\\n- Excellent skills in spoken and written English and Armenian languages;\\r\\n- Past English to Armenian translation and Armenian to English\\r\\ntranslation experience;\\r\\n- Good communication and public speaking skills;\\r\\n- Ability to work independently and as part of a team.\\r\\nREMUNERATION:  Commensurate with experience.  \n",
       "2                                                                                                                                                                                                                                                                                                                                                                                                                                                                                                                                                                                                                                                                                                                                                                                                                                                                                                                                                                                                                                                                                                                                                                                                                                                                                                                                                                                                                                                                                                                                                                                                                                                                                                                                                                                                                                                                                                                                                                                                                                                                                                                                                                                                                                                                                                                                                                                                                                                                                                                                                                                                                                                                                                                                                                                                        - Degree in environmentally related field, or 5 years relevant\\r\\nexperience;\\r\\n- Oral and written fluency in Armenian, Russian and English;\\r\\n- Knowledge/ experience of working with environmental issues specific to\\r\\nArmenia is a plus.\\r\\nREMUNERATION:  Salary commensurate with experience.  "
      ]
     },
     "execution_count": 4,
     "metadata": {},
     "output_type": "execute_result"
    }
   ],
   "source": [
    "# Replace missing values with \"No information\"\n",
    "df = df_raw.copy(deep=True)\n",
    "df.fillna('Unprovided', inplace=True)\n",
    "df.head(3)"
   ]
  },
  {
   "cell_type": "code",
   "execution_count": 5,
   "metadata": {},
   "outputs": [
    {
     "data": {
      "text/html": [
       "<div>\n",
       "<style scoped>\n",
       "    .dataframe tbody tr th:only-of-type {\n",
       "        vertical-align: middle;\n",
       "    }\n",
       "\n",
       "    .dataframe tbody tr th {\n",
       "        vertical-align: top;\n",
       "    }\n",
       "\n",
       "    .dataframe thead th {\n",
       "        text-align: right;\n",
       "    }\n",
       "</style>\n",
       "<table border=\"1\" class=\"dataframe\">\n",
       "  <thead>\n",
       "    <tr style=\"text-align: right;\">\n",
       "      <th></th>\n",
       "      <th>job_title</th>\n",
       "    </tr>\n",
       "  </thead>\n",
       "  <tbody>\n",
       "    <tr>\n",
       "      <th>1</th>\n",
       "      <td>Full-time Community Connections Intern (paid internship)</td>\n",
       "    </tr>\n",
       "    <tr>\n",
       "      <th>2</th>\n",
       "      <td>Country Coordinator</td>\n",
       "    </tr>\n",
       "    <tr>\n",
       "      <th>3</th>\n",
       "      <td>BCC Specialist</td>\n",
       "    </tr>\n",
       "    <tr>\n",
       "      <th>4</th>\n",
       "      <td>Software Developer</td>\n",
       "    </tr>\n",
       "    <tr>\n",
       "      <th>5</th>\n",
       "      <td>Saleswoman</td>\n",
       "    </tr>\n",
       "  </tbody>\n",
       "</table>\n",
       "</div>"
      ],
      "text/plain": [
       "                                                  job_title\n",
       "1  Full-time Community Connections Intern (paid internship)\n",
       "2                                       Country Coordinator\n",
       "3                                            BCC Specialist\n",
       "4                                        Software Developer\n",
       "5                                                Saleswoman"
      ]
     },
     "execution_count": 5,
     "metadata": {},
     "output_type": "execute_result"
    }
   ],
   "source": [
    "title_df = df.loc[1:5, [\"job_title\"]]\n",
    "title_df"
   ]
  },
  {
   "cell_type": "code",
   "execution_count": 6,
   "metadata": {},
   "outputs": [
    {
     "data": {
      "text/html": [
       "<div>\n",
       "<style scoped>\n",
       "    .dataframe tbody tr th:only-of-type {\n",
       "        vertical-align: middle;\n",
       "    }\n",
       "\n",
       "    .dataframe tbody tr th {\n",
       "        vertical-align: top;\n",
       "    }\n",
       "\n",
       "    .dataframe thead th {\n",
       "        text-align: right;\n",
       "    }\n",
       "</style>\n",
       "<table border=\"1\" class=\"dataframe\">\n",
       "  <thead>\n",
       "    <tr style=\"text-align: right;\">\n",
       "      <th></th>\n",
       "      <th>job_description</th>\n",
       "      <th>job_requirement</th>\n",
       "      <th>job_qualification</th>\n",
       "    </tr>\n",
       "  </thead>\n",
       "  <tbody>\n",
       "    <tr>\n",
       "      <th>1</th>\n",
       "      <td>IREX currently seeks to fill the position of a paid\\r\\nIntern for the Community Connections (CC) Program. The position is based\\r\\nin the Yerevan office however applicants must be willing to travel\\r\\nthroughout Armenia as necessary.  This position reports directly to the\\r\\nCC Program Manager.</td>\n",
       "      <td>- Presenting the CC program to interested parties; \\r\\n- Assisting in planning and scheduling of programmatic meetings and\\r\\nevents (this includes coordinating logistics for CC staff, visitors and\\r\\nparticipants);\\r\\n- Assisting the Program Staff;\\r\\n- Translation/Interpretation from Armenian to English and vice versa;\\r\\n- Helping create, maintain and update the CC filing system and\\r\\ndatabases;\\r\\n- Completing general administrative tasks for the CC program within the\\r\\noffice;\\r\\n- Other duties as assigned/ needed.</td>\n",
       "      <td>- Bachelor's Degree; Master's is preferred;\\r\\n- Excellent skills in spoken and written English and Armenian languages;\\r\\n- Past English to Armenian translation and Armenian to English\\r\\ntranslation experience;\\r\\n- Good communication and public speaking skills;\\r\\n- Ability to work independently and as part of a team.\\r\\nREMUNERATION:  Commensurate with experience.</td>\n",
       "    </tr>\n",
       "    <tr>\n",
       "      <th>2</th>\n",
       "      <td>Public outreach and strengthening of a growing\\r\\nnetwork of environmental NGOs, businesses, international organizations\\r\\nand public agencies. Will serve as primary contact between CENN and\\r\\npublic. This is a full-time position.</td>\n",
       "      <td>- Working with the Country Director to provide environmental information\\r\\nto the general public via regular electronic communications and serving\\r\\nas the primary local contact to Armenian NGOs and businesses and the\\r\\nArmenian offices of international organizations and agencies;\\r\\n- Helping to organize and prepare CENN seminars/ workshops;\\r\\n- Participating in defining the strategy and policy of CENN in Armenia,\\r\\nthe Caucasus region and abroad.</td>\n",
       "      <td>- Degree in environmentally related field, or 5 years relevant\\r\\nexperience;\\r\\n- Oral and written fluency in Armenian, Russian and English;\\r\\n- Knowledge/ experience of working with environmental issues specific to\\r\\nArmenia is a plus.\\r\\nREMUNERATION:  Salary commensurate with experience.</td>\n",
       "    </tr>\n",
       "    <tr>\n",
       "      <th>3</th>\n",
       "      <td>The LEAD (Local Enhancement and Development for\\r\\nHealth) BCC Specialist will apply state-of-the-art approaches in working\\r\\nwith LGUs (Local Government Units) and NGOs to help them to identify and\\r\\naddress provider-caused barriers to service provision as well as to\\r\\nidentify and address supports for good service delivery by developing\\r\\ntools that may be adapted to each LGU's needs. S/he will work with LEAD\\r\\nstaff across all components to support quality service delivery and will\\r\\nalso monitor implementation of improved service delivery in LGUs, and\\r\\nwill provide additional assistance to LGUs and NGOs, as needed. S/he\\r\\nwill collect all relevant published and grey literature documents,\\r\\nidentify gaps in knowledge, and work with NGOs and consultants to fill\\r\\nin the gaps. S/he will establish training for NGOs and LGU\\r\\nadministration staff pursuing service enhancement and provider behavior\\r\\nchange and will oversee the training. S/he will serve as the Project's\\r\\nprimary liaison to TSAP and other projects and organizations working in\\r\\nbehavior change.</td>\n",
       "      <td>- Identify gaps in knowledge and overseeing information collection to\\r\\nfill them;\\r\\n- Consolidate partnerships with center of excellence of technical\\r\\nsupport, working with local NGOs/COs, LCEs, and LGUs;\\r\\n- Work with LEAD team to develop assessment tools for LGUs to identify\\r\\nbarriers and supports to quality service provision;\\r\\n- Assist LGUs and NGOs to design and implement multifaceted (if\\r\\nnecessary), systematic interventions, based on assessment results, to\\r\\nenhance quality service provision, especially through provider behavior\\r\\nchange. For example, ensure that not only providers, but their\\r\\nsupervisors are trained and that monitoring and supervisory systems\\r\\npromote provider change, quality services, and sustainability of change;\\r\\n- Assist other LEAD specialists and units to enhance the quality of\\r\\nservices, especially through BCC and provider behavior change, and\\r\\nassure that programs serve community needs;\\r\\n- Oversee and, when practical, co-facilitate behavior change training\\r\\nactivities and proposal development and coordinate these activities, as\\r\\nneeded, with other project components and counterpart agencies;\\r\\n- Participate in developing programs to address common barriers (e.g.,\\r\\nstrengthen service providers' interpersonal communication skills through\\r\\non-the-job training and use of innovative training approaches based on\\r\\nTSAP-FP and other projects' approaches);\\r\\n- Provide training to local groups in developing programs in community\\r\\nmobilization and advocacy to participate in health planning process; \\r\\n- Develop monitoring and evaluation systems for client-centered quality\\r\\ncare/ provider behavior change;\\r\\n- Reinforce inter-organization collaboration and coordination of BCC\\r\\ninterventions to improve the overall quality of interventions;\\r\\n- Serve as primary LEAD liaison with BCC agencies, projects, and\\r\\nconsultants.</td>\n",
       "      <td>- Advanced degree in public health, social science, or communication or\\r\\nrelated experience;\\r\\n- Familiarity with Behavior-centered Programming SM preferred;\\r\\n- At least five years experience in the design, implementation, and\\r\\nmonitoring/evaluation of behavior change programs in the developing\\r\\nworld, preferably including Philippines;\\r\\n- Experience with behavior change in reproductive health and/or family\\r\\nplanning programs;\\r\\n- Excellent communication, coordination, and facilitation skills;\\r\\n- Experience with PC-based software, including word processing and basic\\r\\nspreadsheet analysis;\\r\\n- Knowledge of a language of the Philippines, or willingness to learn;\\r\\n- High level of written and spoken English fluency.</td>\n",
       "    </tr>\n",
       "    <tr>\n",
       "      <th>4</th>\n",
       "      <td>Unprovided</td>\n",
       "      <td>- Rendering technical assistance to Database Management Systems;\\r\\n- Realization of SQL servers maintenance activities: back-up and\\r\\nreplication;\\r\\n- Participation in designing of software development projects.</td>\n",
       "      <td>- University degree; economical background is a plus;\\r\\n- Excellent knowledge of Windows 2000 Server, Networking TCP/ IP\\r\\ntechnologies, MS SQL 2000 Server, Visual Basic 6;\\r\\n- At least 2 years of experience in database software development;\\r\\n- Good knowledge of English.\\r\\nREMUNERATION:  Will be commensurate with the norms accepted in the\\r\\nCompany.</td>\n",
       "    </tr>\n",
       "    <tr>\n",
       "      <th>5</th>\n",
       "      <td>Saleswoman will sell menswear and accessories.</td>\n",
       "      <td>Unprovided</td>\n",
       "      <td>- Candidates should be female, 20-30 years old;\\r\\n- Nice-looking exterior; \\r\\n- Excellent communication skills;\\r\\n- Fluency in Armenian and Russian;  \\r\\n- Good knowledge of English (oral).\\r\\nREMUNERATION:  Starting salary - 40,000 AMD.</td>\n",
       "    </tr>\n",
       "  </tbody>\n",
       "</table>\n",
       "</div>"
      ],
      "text/plain": [
       "                                                                                                                                                                                                                                                                                                                                                                                                                                                                                                                                                                                                                                                                                                                                                                                                                                                                                                                                                                                                                                                                                                                     job_description  \\\n",
       "1                                                                                                                                                                                                                                                                                                                                                                                                                                                                                                                                                                                                                                                                                                                                                                                                                            IREX currently seeks to fill the position of a paid\\r\\nIntern for the Community Connections (CC) Program. The position is based\\r\\nin the Yerevan office however applicants must be willing to travel\\r\\nthroughout Armenia as necessary.  This position reports directly to the\\r\\nCC Program Manager.   \n",
       "2                                                                                                                                                                                                                                                                                                                                                                                                                                                                                                                                                                                                                                                                                                                                                                                                                                                                                           Public outreach and strengthening of a growing\\r\\nnetwork of environmental NGOs, businesses, international organizations\\r\\nand public agencies. Will serve as primary contact between CENN and\\r\\npublic. This is a full-time position.   \n",
       "3  The LEAD (Local Enhancement and Development for\\r\\nHealth) BCC Specialist will apply state-of-the-art approaches in working\\r\\nwith LGUs (Local Government Units) and NGOs to help them to identify and\\r\\naddress provider-caused barriers to service provision as well as to\\r\\nidentify and address supports for good service delivery by developing\\r\\ntools that may be adapted to each LGU's needs. S/he will work with LEAD\\r\\nstaff across all components to support quality service delivery and will\\r\\nalso monitor implementation of improved service delivery in LGUs, and\\r\\nwill provide additional assistance to LGUs and NGOs, as needed. S/he\\r\\nwill collect all relevant published and grey literature documents,\\r\\nidentify gaps in knowledge, and work with NGOs and consultants to fill\\r\\nin the gaps. S/he will establish training for NGOs and LGU\\r\\nadministration staff pursuing service enhancement and provider behavior\\r\\nchange and will oversee the training. S/he will serve as the Project's\\r\\nprimary liaison to TSAP and other projects and organizations working in\\r\\nbehavior change.   \n",
       "4                                                                                                                                                                                                                                                                                                                                                                                                                                                                                                                                                                                                                                                                                                                                                                                                                                                                                                                                                                                                                                                                                                                         Unprovided   \n",
       "5                                                                                                                                                                                                                                                                                                                                                                                                                                                                                                                                                                                                                                                                                                                                                                                                                                                                                                                                                                                                                                                                                     Saleswoman will sell menswear and accessories.   \n",
       "\n",
       "                                                                                                                                                                                                                                                                                                                                                                                                                                                                                                                                                                                                                                                                                                                                                                                                                                                                                                                                                                                                                                                                                                                                                                                                                                                                                                                                                                                                                                                                                                                                                                                                                                                                                                                                                                                                                                                                                                                                                                                job_requirement  \\\n",
       "1                                                                                                                                                                                                                                                                                                                                                                                                                                                                                                                                                                                                                                                                                                                                                                                                                                                                                                                                                                                                                                                                                                                                                                                                                                                                                                                                                                                                                                               - Presenting the CC program to interested parties; \\r\\n- Assisting in planning and scheduling of programmatic meetings and\\r\\nevents (this includes coordinating logistics for CC staff, visitors and\\r\\nparticipants);\\r\\n- Assisting the Program Staff;\\r\\n- Translation/Interpretation from Armenian to English and vice versa;\\r\\n- Helping create, maintain and update the CC filing system and\\r\\ndatabases;\\r\\n- Completing general administrative tasks for the CC program within the\\r\\noffice;\\r\\n- Other duties as assigned/ needed.   \n",
       "2                                                                                                                                                                                                                                                                                                                                                                                                                                                                                                                                                                                                                                                                                                                                                                                                                                                                                                                                                                                                                                                                                                                                                                                                                                                                                                                                                                                                                                                                                                                     - Working with the Country Director to provide environmental information\\r\\nto the general public via regular electronic communications and serving\\r\\nas the primary local contact to Armenian NGOs and businesses and the\\r\\nArmenian offices of international organizations and agencies;\\r\\n- Helping to organize and prepare CENN seminars/ workshops;\\r\\n- Participating in defining the strategy and policy of CENN in Armenia,\\r\\nthe Caucasus region and abroad.   \n",
       "3  - Identify gaps in knowledge and overseeing information collection to\\r\\nfill them;\\r\\n- Consolidate partnerships with center of excellence of technical\\r\\nsupport, working with local NGOs/COs, LCEs, and LGUs;\\r\\n- Work with LEAD team to develop assessment tools for LGUs to identify\\r\\nbarriers and supports to quality service provision;\\r\\n- Assist LGUs and NGOs to design and implement multifaceted (if\\r\\nnecessary), systematic interventions, based on assessment results, to\\r\\nenhance quality service provision, especially through provider behavior\\r\\nchange. For example, ensure that not only providers, but their\\r\\nsupervisors are trained and that monitoring and supervisory systems\\r\\npromote provider change, quality services, and sustainability of change;\\r\\n- Assist other LEAD specialists and units to enhance the quality of\\r\\nservices, especially through BCC and provider behavior change, and\\r\\nassure that programs serve community needs;\\r\\n- Oversee and, when practical, co-facilitate behavior change training\\r\\nactivities and proposal development and coordinate these activities, as\\r\\nneeded, with other project components and counterpart agencies;\\r\\n- Participate in developing programs to address common barriers (e.g.,\\r\\nstrengthen service providers' interpersonal communication skills through\\r\\non-the-job training and use of innovative training approaches based on\\r\\nTSAP-FP and other projects' approaches);\\r\\n- Provide training to local groups in developing programs in community\\r\\nmobilization and advocacy to participate in health planning process; \\r\\n- Develop monitoring and evaluation systems for client-centered quality\\r\\ncare/ provider behavior change;\\r\\n- Reinforce inter-organization collaboration and coordination of BCC\\r\\ninterventions to improve the overall quality of interventions;\\r\\n- Serve as primary LEAD liaison with BCC agencies, projects, and\\r\\nconsultants.   \n",
       "4                                                                                                                                                                                                                                                                                                                                                                                                                                                                                                                                                                                                                                                                                                                                                                                                                                                                                                                                                                                                                                                                                                                                                                                                                                                                                                                                                                                                                                                                                                                                                                                                                                                                                                                                                                        - Rendering technical assistance to Database Management Systems;\\r\\n- Realization of SQL servers maintenance activities: back-up and\\r\\nreplication;\\r\\n- Participation in designing of software development projects.   \n",
       "5                                                                                                                                                                                                                                                                                                                                                                                                                                                                                                                                                                                                                                                                                                                                                                                                                                                                                                                                                                                                                                                                                                                                                                                                                                                                                                                                                                                                                                                                                                                                                                                                                                                                                                                                                                                                                                                                                                                                                                                    Unprovided   \n",
       "\n",
       "                                                                                                                                                                                                                                                                                                                                                                                                                                                                                                                                                                                                                                                                                                                                                       job_qualification  \n",
       "1                                                                                                                                                                                                                                                                                                                                                                                     - Bachelor's Degree; Master's is preferred;\\r\\n- Excellent skills in spoken and written English and Armenian languages;\\r\\n- Past English to Armenian translation and Armenian to English\\r\\ntranslation experience;\\r\\n- Good communication and public speaking skills;\\r\\n- Ability to work independently and as part of a team.\\r\\nREMUNERATION:  Commensurate with experience.  \n",
       "2                                                                                                                                                                                                                                                                                                                                                                                                                                                                 - Degree in environmentally related field, or 5 years relevant\\r\\nexperience;\\r\\n- Oral and written fluency in Armenian, Russian and English;\\r\\n- Knowledge/ experience of working with environmental issues specific to\\r\\nArmenia is a plus.\\r\\nREMUNERATION:  Salary commensurate with experience.  \n",
       "3  - Advanced degree in public health, social science, or communication or\\r\\nrelated experience;\\r\\n- Familiarity with Behavior-centered Programming SM preferred;\\r\\n- At least five years experience in the design, implementation, and\\r\\nmonitoring/evaluation of behavior change programs in the developing\\r\\nworld, preferably including Philippines;\\r\\n- Experience with behavior change in reproductive health and/or family\\r\\nplanning programs;\\r\\n- Excellent communication, coordination, and facilitation skills;\\r\\n- Experience with PC-based software, including word processing and basic\\r\\nspreadsheet analysis;\\r\\n- Knowledge of a language of the Philippines, or willingness to learn;\\r\\n- High level of written and spoken English fluency.  \n",
       "4                                                                                                                                                                                                                                                                                                                                                                                                 - University degree; economical background is a plus;\\r\\n- Excellent knowledge of Windows 2000 Server, Networking TCP/ IP\\r\\ntechnologies, MS SQL 2000 Server, Visual Basic 6;\\r\\n- At least 2 years of experience in database software development;\\r\\n- Good knowledge of English.\\r\\nREMUNERATION:  Will be commensurate with the norms accepted in the\\r\\nCompany.  \n",
       "5                                                                                                                                                                                                                                                                                                                                                                                                                                                                                                                       - Candidates should be female, 20-30 years old;\\r\\n- Nice-looking exterior; \\r\\n- Excellent communication skills;\\r\\n- Fluency in Armenian and Russian;  \\r\\n- Good knowledge of English (oral).\\r\\nREMUNERATION:  Starting salary - 40,000 AMD.  "
      ]
     },
     "execution_count": 6,
     "metadata": {},
     "output_type": "execute_result"
    }
   ],
   "source": [
    "skill_columns = [\"job_description\", \"job_requirement\", \"job_qualification\"]\n",
    "skill_df = df.loc[1:5, skill_columns]\n",
    "skill_df"
   ]
  },
  {
   "cell_type": "markdown",
   "metadata": {},
   "source": [
    "## Text preprocessing"
   ]
  },
  {
   "cell_type": "markdown",
   "metadata": {},
   "source": [
    "- Removing URL\n",
    "- Lowercasing\n",
    "- Removing irrelevant characters (punctuation, numbers)\n",
    "- Removing stopwords\n",
    "- POS tagging\n",
    "- Lemmatization"
   ]
  },
  {
   "cell_type": "code",
   "execution_count": 20,
   "metadata": {},
   "outputs": [],
   "source": [
    "def nltk_tag_to_wordnet_tag(nltk_tag):\n",
    "    \"\"\"Helper function to convert nltk POS tags to wordnet POS tags\"\"\"\n",
    "    if nltk_tag.startswith('J'):\n",
    "        return wordnet.ADJ\n",
    "    elif nltk_tag.startswith('V'):\n",
    "        return wordnet.VERB\n",
    "    elif nltk_tag.startswith('N'):\n",
    "        return wordnet.NOUN\n",
    "    elif nltk_tag.startswith('R'):\n",
    "        return wordnet.ADV\n",
    "    else:\n",
    "        return None\n",
    "\n",
    "\n",
    "def lemmatize(token):\n",
    "    lemmatizer = WordNetLemmatizer()\n",
    "    nltk_tagged = nltk.pos_tag(token)\n",
    "    wordnet_tagged = map(lambda x: (x[0], nltk_tag_to_wordnet_tag(x[1])), nltk_tagged)\n",
    "    lemmatized_sentence = []\n",
    "    for word, tag in wordnet_tagged:\n",
    "        if tag is None:\n",
    "            # if no tag found then use as it is\n",
    "            lemmatized_sentence.append(word)\n",
    "        else:\n",
    "            # else use the tag to lemmatize the token\n",
    "            lemmatized_sentence.append(lemmatizer.lemmatize(word, tag))\n",
    "\n",
    "    return \" \".join(lemmatized_sentence)\n",
    "\n",
    "\n",
    "stop_words = set(stopwords.words(\"english\"))\n",
    "spec_chars = string.punctuation + string.digits\n",
    "\n",
    "\n",
    "def pre_process(text, spec_chars=spec_chars, stop_words=stop_words):\n",
    "    \"\"\"Function to pre process text once for all steps:\n",
    "    - Removing URLs\n",
    "    - Removing stop words\n",
    "    - Removing special characters and numbers\n",
    "    - Lowercasing\n",
    "    - POS tagging\n",
    "    - Lemmatizing\n",
    "\n",
    "    Inputs:\n",
    "    - text: raw text to normalize\n",
    "    - spec_chars: list of special characters to remove\n",
    "    - stop_words: set of stopwords to remove\n",
    "\n",
    "    Return: normalized text\n",
    "    \"\"\"\n",
    "    # convert to string\n",
    "    text = str(text)\n",
    "\n",
    "    # lowercasing\n",
    "    text = text.lower()\n",
    "\n",
    "    # remove URLs\n",
    "    text = re.sub(r\"http\\S+\", \"\", text)\n",
    "    text = re.sub(r\"www\\S+\", \"\", text)\n",
    "\n",
    "    # remove special characters and numbers\n",
    "    text = text.translate(str.maketrans('', '', spec_chars))\n",
    "\n",
    "    # tokenize\n",
    "    tokens = nltk.word_tokenize(text)\n",
    "\n",
    "    # remove stop words\n",
    "    tokens = [word for word in tokens if word not in stop_words]\n",
    "\n",
    "    # lemmatize\n",
    "    tokens = lemmatize(tokens)\n",
    "\n",
    "    return tokens"
   ]
  },
  {
   "cell_type": "code",
   "execution_count": 298,
   "metadata": {},
   "outputs": [],
   "source": [
    "# text_columns = [\"job_title\",\n",
    "#                 \"job_description\",\n",
    "#                 \"job_requirement\",\n",
    "#                 \"job_qualification\"]\n",
    "# new_columns = [\n",
    "#     \"clean_job_title\",\n",
    "#     \"clean_job_description\",\n",
    "#     \"clean_job_requirement\",\n",
    "#     \"clean_job_qualification\"\n",
    "# ]"
   ]
  },
  {
   "cell_type": "code",
   "execution_count": 23,
   "metadata": {},
   "outputs": [
    {
     "data": {
      "text/html": [
       "<div>\n",
       "<style scoped>\n",
       "    .dataframe tbody tr th:only-of-type {\n",
       "        vertical-align: middle;\n",
       "    }\n",
       "\n",
       "    .dataframe tbody tr th {\n",
       "        vertical-align: top;\n",
       "    }\n",
       "\n",
       "    .dataframe thead th {\n",
       "        text-align: right;\n",
       "    }\n",
       "</style>\n",
       "<table border=\"1\" class=\"dataframe\">\n",
       "  <thead>\n",
       "    <tr style=\"text-align: right;\">\n",
       "      <th></th>\n",
       "      <th>job_title</th>\n",
       "    </tr>\n",
       "  </thead>\n",
       "  <tbody>\n",
       "    <tr>\n",
       "      <th>1</th>\n",
       "      <td>fulltime community connection intern pay internship</td>\n",
       "    </tr>\n",
       "    <tr>\n",
       "      <th>2</th>\n",
       "      <td>country coordinator</td>\n",
       "    </tr>\n",
       "    <tr>\n",
       "      <th>3</th>\n",
       "      <td>bcc specialist</td>\n",
       "    </tr>\n",
       "    <tr>\n",
       "      <th>4</th>\n",
       "      <td>software developer</td>\n",
       "    </tr>\n",
       "    <tr>\n",
       "      <th>5</th>\n",
       "      <td>saleswoman</td>\n",
       "    </tr>\n",
       "  </tbody>\n",
       "</table>\n",
       "</div>"
      ],
      "text/plain": [
       "                                             job_title\n",
       "1  fulltime community connection intern pay internship\n",
       "2                                  country coordinator\n",
       "3                                       bcc specialist\n",
       "4                                   software developer\n",
       "5                                           saleswoman"
      ]
     },
     "execution_count": 23,
     "metadata": {},
     "output_type": "execute_result"
    }
   ],
   "source": [
    "clean_title_df = title_df.applymap(pre_process)\n",
    "clean_title_df"
   ]
  },
  {
   "cell_type": "code",
   "execution_count": 7,
   "metadata": {},
   "outputs": [],
   "source": [
    "# define the valid Part-of-Speeches to occur in the graph\n",
    "pos = {\"NOUN\", \"PROPN\", \"ADJ\"}\n",
    "\n",
    "# define the grammar for selecting the keyphrase candidates\n",
    "grammar = \"NP: {<ADJ>*<NOUN|PROPN>+}\"\n",
    "\n",
    "\n",
    "def extract_keyphrases(text, topn=10, window_size=10, grammar=grammar, pos=pos):\n",
    "\n",
    "    # 1. create a PositionRank extractor.\n",
    "    extractor = pke.unsupervised.PositionRank()\n",
    "\n",
    "    # 2. load the content of the document.\n",
    "    extractor.load_document(input=text,\n",
    "                            language='en',\n",
    "                            normalization='lemmatization')\n",
    "\n",
    "    # 3. select the noun phrases up to 4 words as keyphrase candidates.\n",
    "    extractor.candidate_selection(grammar=grammar,\n",
    "                                  maximum_word_number=4)\n",
    "\n",
    "    # 4. weight the candidates using the sum of their word's scores that are\n",
    "    #    computed using random walk biased with the position of the words\n",
    "    #    in the document. In the graph, nodes are words (nouns and\n",
    "    #    adjectives only) that are connected if they occur in a window of\n",
    "    #    <window-size> words.\n",
    "    extractor.candidate_weighting(window=window_size,\n",
    "                                  pos=pos)\n",
    "\n",
    "    # 5. get the <topn>-highest scored candidates as keyphrases\n",
    "    keyphrases = extractor.get_n_best(n=topn)\n",
    "#     return [phrase[0] for phrase in keyphrases]\n",
    "    return keyphrases"
   ]
  },
  {
   "cell_type": "code",
   "execution_count": 8,
   "metadata": {},
   "outputs": [],
   "source": [
    "clean_skill_df = skill_df.applymap(extract_keyphrases)\n",
    "clean_skill_df\n",
    "\n",
    "# def do_multi_process(df, func, n_core):\n",
    "#     df_split = np.array_split(df, n_core)\n",
    "# #     pool = concurrent.futures.ProcessPoolExecutor(max_workers=n_core)\n",
    "#     pool = concurrent.futures.ThreadPoolExecutor(max_workers=n_core)\n",
    "#     apply_partial = partial(func)\n",
    "#     return pd.concat(pool.map(apply_partial, df_split))\n",
    "\n",
    "\n",
    "# do_multi_process(skill_df, process_text, 8)\n",
    "# skill_df"
   ]
  },
  {
   "cell_type": "code",
   "execution_count": 24,
   "metadata": {},
   "outputs": [
    {
     "data": {
      "text/plain": [
       "51"
      ]
     },
     "execution_count": 24,
     "metadata": {},
     "output_type": "execute_result"
    }
   ],
   "source": [
    "import gc\n",
    "gc.collect()"
   ]
  },
  {
   "cell_type": "code",
   "execution_count": 65,
   "metadata": {},
   "outputs": [
    {
     "data": {
      "text/html": [
       "<div>\n",
       "<style scoped>\n",
       "    .dataframe tbody tr th:only-of-type {\n",
       "        vertical-align: middle;\n",
       "    }\n",
       "\n",
       "    .dataframe tbody tr th {\n",
       "        vertical-align: top;\n",
       "    }\n",
       "\n",
       "    .dataframe thead th {\n",
       "        text-align: right;\n",
       "    }\n",
       "</style>\n",
       "<table border=\"1\" class=\"dataframe\">\n",
       "  <thead>\n",
       "    <tr style=\"text-align: right;\">\n",
       "      <th></th>\n",
       "      <th>job_description</th>\n",
       "      <th>job_requirement</th>\n",
       "      <th>job_qualification</th>\n",
       "    </tr>\n",
       "  </thead>\n",
       "  <tbody>\n",
       "    <tr>\n",
       "      <th>1</th>\n",
       "      <td>[position, cc program manager, community connections, irex, program, yerevan office, cc, intern, applicants, armenia]</td>\n",
       "      <td>[cc program, cc staff, program staff, cc filing system, interested parties, general administrative tasks, programmatic meetings, assisting, planning, scheduling]</td>\n",
       "      <td>[armenian translation, excellent skills, armenian languages, past english, public speaking skills, translation experience, armenian, master, english, degree]</td>\n",
       "    </tr>\n",
       "    <tr>\n",
       "      <th>2</th>\n",
       "      <td>[public outreach, public agencies, environmental ngos, international organizations, primary contact, network, strengthening, businesses, time position, cenn]</td>\n",
       "      <td>[regular electronic communications, environmental information, general public, primary local contact, country director, armenian ngos, armenian offices, cenn seminars/ workshops, international organizations, businesses]</td>\n",
       "      <td>[knowledge/ experience, experience, degree, years, field, environmental issues, fluency, english, plus, armenia]</td>\n",
       "    </tr>\n",
       "    <tr>\n",
       "      <th>3</th>\n",
       "      <td>[local enhancement, service enhancement, quality service delivery, improved service delivery, local government units, good service delivery, service provision, bcc specialist, lead, administration staff]</td>\n",
       "      <td>[information collection, gaps, knowledge, quality service provision, provider behavior change, local ngos, provider change, quality services, overall quality, provider behavior]</td>\n",
       "      <td>[public health, advanced degree, behavior change programs, social science, related experience, reproductive health, years experience, excellent communication, behavior change, experience]</td>\n",
       "    </tr>\n",
       "    <tr>\n",
       "      <th>4</th>\n",
       "      <td>[unprovided]</td>\n",
       "      <td>[sql servers maintenance activities, database management systems, technical assistance, realization, software development projects, up, back, replication, participation, designing]</td>\n",
       "      <td>[economical background, university degree, excellent knowledge, networking tcp/ ip, good knowledge, database software development, server, ms sql, visual basic, technologies]</td>\n",
       "    </tr>\n",
       "    <tr>\n",
       "      <th>5</th>\n",
       "      <td>[saleswoman, menswear, accessories]</td>\n",
       "      <td>[unprovided]</td>\n",
       "      <td>[excellent communication skills, looking exterior, candidates, years, good knowledge, fluency, english, remuneration, salary, amd]</td>\n",
       "    </tr>\n",
       "  </tbody>\n",
       "</table>\n",
       "</div>"
      ],
      "text/plain": [
       "                                                                                                                                                                                               job_description  \\\n",
       "1                                                                                        [position, cc program manager, community connections, irex, program, yerevan office, cc, intern, applicants, armenia]   \n",
       "2                                                [public outreach, public agencies, environmental ngos, international organizations, primary contact, network, strengthening, businesses, time position, cenn]   \n",
       "3  [local enhancement, service enhancement, quality service delivery, improved service delivery, local government units, good service delivery, service provision, bcc specialist, lead, administration staff]   \n",
       "4                                                                                                                                                                                                 [unprovided]   \n",
       "5                                                                                                                                                                          [saleswoman, menswear, accessories]   \n",
       "\n",
       "                                                                                                                                                                                                               job_requirement  \\\n",
       "1                                                            [cc program, cc staff, program staff, cc filing system, interested parties, general administrative tasks, programmatic meetings, assisting, planning, scheduling]   \n",
       "2  [regular electronic communications, environmental information, general public, primary local contact, country director, armenian ngos, armenian offices, cenn seminars/ workshops, international organizations, businesses]   \n",
       "3                                            [information collection, gaps, knowledge, quality service provision, provider behavior change, local ngos, provider change, quality services, overall quality, provider behavior]   \n",
       "4                                         [sql servers maintenance activities, database management systems, technical assistance, realization, software development projects, up, back, replication, participation, designing]   \n",
       "5                                                                                                                                                                                                                 [unprovided]   \n",
       "\n",
       "                                                                                                                                                                             job_qualification  \n",
       "1                                [armenian translation, excellent skills, armenian languages, past english, public speaking skills, translation experience, armenian, master, english, degree]  \n",
       "2                                                                             [knowledge/ experience, experience, degree, years, field, environmental issues, fluency, english, plus, armenia]  \n",
       "3  [public health, advanced degree, behavior change programs, social science, related experience, reproductive health, years experience, excellent communication, behavior change, experience]  \n",
       "4               [economical background, university degree, excellent knowledge, networking tcp/ ip, good knowledge, database software development, server, ms sql, visual basic, technologies]  \n",
       "5                                                           [excellent communication skills, looking exterior, candidates, years, good knowledge, fluency, english, remuneration, salary, amd]  "
      ]
     },
     "execution_count": 65,
     "metadata": {},
     "output_type": "execute_result"
    }
   ],
   "source": [
    "clean_skill_df"
   ]
  },
  {
   "cell_type": "markdown",
   "metadata": {},
   "source": [
    "## Create word embeddings"
   ]
  },
  {
   "cell_type": "code",
   "execution_count": 80,
   "metadata": {},
   "outputs": [
    {
     "data": {
      "text/html": [
       "<div>\n",
       "<style scoped>\n",
       "    .dataframe tbody tr th:only-of-type {\n",
       "        vertical-align: middle;\n",
       "    }\n",
       "\n",
       "    .dataframe tbody tr th {\n",
       "        vertical-align: top;\n",
       "    }\n",
       "\n",
       "    .dataframe thead th {\n",
       "        text-align: right;\n",
       "    }\n",
       "</style>\n",
       "<table border=\"1\" class=\"dataframe\">\n",
       "  <thead>\n",
       "    <tr style=\"text-align: right;\">\n",
       "      <th></th>\n",
       "      <th>job_description</th>\n",
       "      <th>job_requirement</th>\n",
       "      <th>job_qualification</th>\n",
       "      <th>combi1</th>\n",
       "      <th>combi2</th>\n",
       "      <th>combi3</th>\n",
       "      <th>combi4</th>\n",
       "    </tr>\n",
       "  </thead>\n",
       "  <tbody>\n",
       "    <tr>\n",
       "      <th>1</th>\n",
       "      <td>[position, cc program manager, community connections, irex, program, yerevan office, cc, intern, applicants, armenia]</td>\n",
       "      <td>[cc program, cc staff, program staff, cc filing system, interested parties, general administrative tasks, programmatic meetings, assisting, planning, scheduling]</td>\n",
       "      <td>[armenian translation, excellent skills, armenian languages, past english, public speaking skills, translation experience, armenian, master, english, degree]</td>\n",
       "      <td>[position, cc program manager, community connections, irex, program, yerevan office, cc, intern, applicants, armenia, cc program, cc staff, program staff, cc filing system, interested parties, general administrative tasks, programmatic meetings, assisting, planning, scheduling]</td>\n",
       "      <td>[position, cc program manager, community connections, irex, program, yerevan office, cc, intern, applicants, armenia, armenian translation, excellent skills, armenian languages, past english, public speaking skills, translation experience, armenian, master, english, degree]</td>\n",
       "      <td>[cc program, cc staff, program staff, cc filing system, interested parties, general administrative tasks, programmatic meetings, assisting, planning, scheduling, armenian translation, excellent skills, armenian languages, past english, public speaking skills, translation experience, armenian, master, english, degree]</td>\n",
       "      <td>[position, cc program manager, community connections, irex, program, yerevan office, cc, intern, applicants, armenia, cc program, cc staff, program staff, cc filing system, interested parties, general administrative tasks, programmatic meetings, assisting, planning, scheduling, armenian translation, excellent skills, armenian languages, past english, public speaking skills, translation experience, armenian, master, english, degree]</td>\n",
       "    </tr>\n",
       "    <tr>\n",
       "      <th>2</th>\n",
       "      <td>[public outreach, public agencies, environmental ngos, international organizations, primary contact, network, strengthening, businesses, time position, cenn]</td>\n",
       "      <td>[regular electronic communications, environmental information, general public, primary local contact, country director, armenian ngos, armenian offices, cenn seminars/ workshops, international organizations, businesses]</td>\n",
       "      <td>[knowledge/ experience, experience, degree, years, field, environmental issues, fluency, english, plus, armenia]</td>\n",
       "      <td>[public outreach, public agencies, environmental ngos, international organizations, primary contact, network, strengthening, businesses, time position, cenn, regular electronic communications, environmental information, general public, primary local contact, country director, armenian ngos, armenian offices, cenn seminars/ workshops, international organizations, businesses]</td>\n",
       "      <td>[public outreach, public agencies, environmental ngos, international organizations, primary contact, network, strengthening, businesses, time position, cenn, knowledge/ experience, experience, degree, years, field, environmental issues, fluency, english, plus, armenia]</td>\n",
       "      <td>[regular electronic communications, environmental information, general public, primary local contact, country director, armenian ngos, armenian offices, cenn seminars/ workshops, international organizations, businesses, knowledge/ experience, experience, degree, years, field, environmental issues, fluency, english, plus, armenia]</td>\n",
       "      <td>[public outreach, public agencies, environmental ngos, international organizations, primary contact, network, strengthening, businesses, time position, cenn, regular electronic communications, environmental information, general public, primary local contact, country director, armenian ngos, armenian offices, cenn seminars/ workshops, international organizations, businesses, knowledge/ experience, experience, degree, years, field, environmental issues, fluency, english, plus, armenia]</td>\n",
       "    </tr>\n",
       "    <tr>\n",
       "      <th>3</th>\n",
       "      <td>[local enhancement, service enhancement, quality service delivery, improved service delivery, local government units, good service delivery, service provision, bcc specialist, lead, administration staff]</td>\n",
       "      <td>[information collection, gaps, knowledge, quality service provision, provider behavior change, local ngos, provider change, quality services, overall quality, provider behavior]</td>\n",
       "      <td>[public health, advanced degree, behavior change programs, social science, related experience, reproductive health, years experience, excellent communication, behavior change, experience]</td>\n",
       "      <td>[local enhancement, service enhancement, quality service delivery, improved service delivery, local government units, good service delivery, service provision, bcc specialist, lead, administration staff, information collection, gaps, knowledge, quality service provision, provider behavior change, local ngos, provider change, quality services, overall quality, provider behavior]</td>\n",
       "      <td>[local enhancement, service enhancement, quality service delivery, improved service delivery, local government units, good service delivery, service provision, bcc specialist, lead, administration staff, public health, advanced degree, behavior change programs, social science, related experience, reproductive health, years experience, excellent communication, behavior change, experience]</td>\n",
       "      <td>[information collection, gaps, knowledge, quality service provision, provider behavior change, local ngos, provider change, quality services, overall quality, provider behavior, public health, advanced degree, behavior change programs, social science, related experience, reproductive health, years experience, excellent communication, behavior change, experience]</td>\n",
       "      <td>[local enhancement, service enhancement, quality service delivery, improved service delivery, local government units, good service delivery, service provision, bcc specialist, lead, administration staff, information collection, gaps, knowledge, quality service provision, provider behavior change, local ngos, provider change, quality services, overall quality, provider behavior, public health, advanced degree, behavior change programs, social science, related experience, reproductive health, years experience, excellent communication, behavior change, experience]</td>\n",
       "    </tr>\n",
       "    <tr>\n",
       "      <th>4</th>\n",
       "      <td>[unprovided]</td>\n",
       "      <td>[sql servers maintenance activities, database management systems, technical assistance, realization, software development projects, up, back, replication, participation, designing]</td>\n",
       "      <td>[economical background, university degree, excellent knowledge, networking tcp/ ip, good knowledge, database software development, server, ms sql, visual basic, technologies]</td>\n",
       "      <td>[unprovided, sql servers maintenance activities, database management systems, technical assistance, realization, software development projects, up, back, replication, participation, designing]</td>\n",
       "      <td>[unprovided, economical background, university degree, excellent knowledge, networking tcp/ ip, good knowledge, database software development, server, ms sql, visual basic, technologies]</td>\n",
       "      <td>[sql servers maintenance activities, database management systems, technical assistance, realization, software development projects, up, back, replication, participation, designing, economical background, university degree, excellent knowledge, networking tcp/ ip, good knowledge, database software development, server, ms sql, visual basic, technologies]</td>\n",
       "      <td>[unprovided, sql servers maintenance activities, database management systems, technical assistance, realization, software development projects, up, back, replication, participation, designing, economical background, university degree, excellent knowledge, networking tcp/ ip, good knowledge, database software development, server, ms sql, visual basic, technologies]</td>\n",
       "    </tr>\n",
       "    <tr>\n",
       "      <th>5</th>\n",
       "      <td>[saleswoman, menswear, accessories]</td>\n",
       "      <td>[unprovided]</td>\n",
       "      <td>[excellent communication skills, looking exterior, candidates, years, good knowledge, fluency, english, remuneration, salary, amd]</td>\n",
       "      <td>[saleswoman, menswear, accessories, unprovided]</td>\n",
       "      <td>[saleswoman, menswear, accessories, excellent communication skills, looking exterior, candidates, years, good knowledge, fluency, english, remuneration, salary, amd]</td>\n",
       "      <td>[unprovided, excellent communication skills, looking exterior, candidates, years, good knowledge, fluency, english, remuneration, salary, amd]</td>\n",
       "      <td>[saleswoman, menswear, accessories, unprovided, excellent communication skills, looking exterior, candidates, years, good knowledge, fluency, english, remuneration, salary, amd]</td>\n",
       "    </tr>\n",
       "  </tbody>\n",
       "</table>\n",
       "</div>"
      ],
      "text/plain": [
       "                                                                                                                                                                                               job_description  \\\n",
       "1                                                                                        [position, cc program manager, community connections, irex, program, yerevan office, cc, intern, applicants, armenia]   \n",
       "2                                                [public outreach, public agencies, environmental ngos, international organizations, primary contact, network, strengthening, businesses, time position, cenn]   \n",
       "3  [local enhancement, service enhancement, quality service delivery, improved service delivery, local government units, good service delivery, service provision, bcc specialist, lead, administration staff]   \n",
       "4                                                                                                                                                                                                 [unprovided]   \n",
       "5                                                                                                                                                                          [saleswoman, menswear, accessories]   \n",
       "\n",
       "                                                                                                                                                                                                               job_requirement  \\\n",
       "1                                                            [cc program, cc staff, program staff, cc filing system, interested parties, general administrative tasks, programmatic meetings, assisting, planning, scheduling]   \n",
       "2  [regular electronic communications, environmental information, general public, primary local contact, country director, armenian ngos, armenian offices, cenn seminars/ workshops, international organizations, businesses]   \n",
       "3                                            [information collection, gaps, knowledge, quality service provision, provider behavior change, local ngos, provider change, quality services, overall quality, provider behavior]   \n",
       "4                                         [sql servers maintenance activities, database management systems, technical assistance, realization, software development projects, up, back, replication, participation, designing]   \n",
       "5                                                                                                                                                                                                                 [unprovided]   \n",
       "\n",
       "                                                                                                                                                                             job_qualification  \\\n",
       "1                                [armenian translation, excellent skills, armenian languages, past english, public speaking skills, translation experience, armenian, master, english, degree]   \n",
       "2                                                                             [knowledge/ experience, experience, degree, years, field, environmental issues, fluency, english, plus, armenia]   \n",
       "3  [public health, advanced degree, behavior change programs, social science, related experience, reproductive health, years experience, excellent communication, behavior change, experience]   \n",
       "4               [economical background, university degree, excellent knowledge, networking tcp/ ip, good knowledge, database software development, server, ms sql, visual basic, technologies]   \n",
       "5                                                           [excellent communication skills, looking exterior, candidates, years, good knowledge, fluency, english, remuneration, salary, amd]   \n",
       "\n",
       "                                                                                                                                                                                                                                                                                                                                                                                         combi1  \\\n",
       "1                                                                                                        [position, cc program manager, community connections, irex, program, yerevan office, cc, intern, applicants, armenia, cc program, cc staff, program staff, cc filing system, interested parties, general administrative tasks, programmatic meetings, assisting, planning, scheduling]   \n",
       "2      [public outreach, public agencies, environmental ngos, international organizations, primary contact, network, strengthening, businesses, time position, cenn, regular electronic communications, environmental information, general public, primary local contact, country director, armenian ngos, armenian offices, cenn seminars/ workshops, international organizations, businesses]   \n",
       "3  [local enhancement, service enhancement, quality service delivery, improved service delivery, local government units, good service delivery, service provision, bcc specialist, lead, administration staff, information collection, gaps, knowledge, quality service provision, provider behavior change, local ngos, provider change, quality services, overall quality, provider behavior]   \n",
       "4                                                                                                                                                                                              [unprovided, sql servers maintenance activities, database management systems, technical assistance, realization, software development projects, up, back, replication, participation, designing]   \n",
       "5                                                                                                                                                                                                                                                                                                                                               [saleswoman, menswear, accessories, unprovided]   \n",
       "\n",
       "                                                                                                                                                                                                                                                                                                                                                                                                   combi2  \\\n",
       "1                                                                                                                      [position, cc program manager, community connections, irex, program, yerevan office, cc, intern, applicants, armenia, armenian translation, excellent skills, armenian languages, past english, public speaking skills, translation experience, armenian, master, english, degree]   \n",
       "2                                                                                                                           [public outreach, public agencies, environmental ngos, international organizations, primary contact, network, strengthening, businesses, time position, cenn, knowledge/ experience, experience, degree, years, field, environmental issues, fluency, english, plus, armenia]   \n",
       "3  [local enhancement, service enhancement, quality service delivery, improved service delivery, local government units, good service delivery, service provision, bcc specialist, lead, administration staff, public health, advanced degree, behavior change programs, social science, related experience, reproductive health, years experience, excellent communication, behavior change, experience]   \n",
       "4                                                                                                                                                                                                              [unprovided, economical background, university degree, excellent knowledge, networking tcp/ ip, good knowledge, database software development, server, ms sql, visual basic, technologies]   \n",
       "5                                                                                                                                                                                                                                   [saleswoman, menswear, accessories, excellent communication skills, looking exterior, candidates, years, good knowledge, fluency, english, remuneration, salary, amd]   \n",
       "\n",
       "                                                                                                                                                                                                                                                                                                                                                                         combi3  \\\n",
       "1                                                [cc program, cc staff, program staff, cc filing system, interested parties, general administrative tasks, programmatic meetings, assisting, planning, scheduling, armenian translation, excellent skills, armenian languages, past english, public speaking skills, translation experience, armenian, master, english, degree]   \n",
       "2                                   [regular electronic communications, environmental information, general public, primary local contact, country director, armenian ngos, armenian offices, cenn seminars/ workshops, international organizations, businesses, knowledge/ experience, experience, degree, years, field, environmental issues, fluency, english, plus, armenia]   \n",
       "3  [information collection, gaps, knowledge, quality service provision, provider behavior change, local ngos, provider change, quality services, overall quality, provider behavior, public health, advanced degree, behavior change programs, social science, related experience, reproductive health, years experience, excellent communication, behavior change, experience]   \n",
       "4            [sql servers maintenance activities, database management systems, technical assistance, realization, software development projects, up, back, replication, participation, designing, economical background, university degree, excellent knowledge, networking tcp/ ip, good knowledge, database software development, server, ms sql, visual basic, technologies]   \n",
       "5                                                                                                                                                                                                                                [unprovided, excellent communication skills, looking exterior, candidates, years, good knowledge, fluency, english, remuneration, salary, amd]   \n",
       "\n",
       "                                                                                                                                                                                                                                                                                                                                                                                                                                                                                                                                                                                    combi4  \n",
       "1                                                                                                                                      [position, cc program manager, community connections, irex, program, yerevan office, cc, intern, applicants, armenia, cc program, cc staff, program staff, cc filing system, interested parties, general administrative tasks, programmatic meetings, assisting, planning, scheduling, armenian translation, excellent skills, armenian languages, past english, public speaking skills, translation experience, armenian, master, english, degree]  \n",
       "2                                                                                 [public outreach, public agencies, environmental ngos, international organizations, primary contact, network, strengthening, businesses, time position, cenn, regular electronic communications, environmental information, general public, primary local contact, country director, armenian ngos, armenian offices, cenn seminars/ workshops, international organizations, businesses, knowledge/ experience, experience, degree, years, field, environmental issues, fluency, english, plus, armenia]  \n",
       "3  [local enhancement, service enhancement, quality service delivery, improved service delivery, local government units, good service delivery, service provision, bcc specialist, lead, administration staff, information collection, gaps, knowledge, quality service provision, provider behavior change, local ngos, provider change, quality services, overall quality, provider behavior, public health, advanced degree, behavior change programs, social science, related experience, reproductive health, years experience, excellent communication, behavior change, experience]  \n",
       "4                                                                                                                                                                                                           [unprovided, sql servers maintenance activities, database management systems, technical assistance, realization, software development projects, up, back, replication, participation, designing, economical background, university degree, excellent knowledge, networking tcp/ ip, good knowledge, database software development, server, ms sql, visual basic, technologies]  \n",
       "5                                                                                                                                                                                                                                                                                                                                                                                                        [saleswoman, menswear, accessories, unprovided, excellent communication skills, looking exterior, candidates, years, good knowledge, fluency, english, remuneration, salary, amd]  "
      ]
     },
     "execution_count": 80,
     "metadata": {},
     "output_type": "execute_result"
    }
   ],
   "source": [
    "# Create new columns for later skillset extraction\n",
    "# New columns are combinations of single columns\n",
    "# combi1: job_description + job_requirement\n",
    "# combi2: job_description + job_qualification\n",
    "# combi3: job_requirement + job_qualification\n",
    "# combi4: job_description + job_requirement + job_qualification\n",
    "feat_df = clean_skill_df.copy(deep=True)\n",
    "feat_df[\"combi1\"] = feat_df['job_description'] + feat_df['job_requirement']\n",
    "feat_df[\"combi2\"] = feat_df[\"job_description\"] + feat_df[\"job_qualification\"]\n",
    "feat_df[\"combi3\"] = feat_df[\"job_requirement\"] + feat_df[\"job_qualification\"]\n",
    "feat_df[\"combi4\"] = feat_df[\"combi1\"] + feat_df[\"job_qualification\"]\n",
    "feat_df"
   ]
  },
  {
   "cell_type": "code",
   "execution_count": 105,
   "metadata": {},
   "outputs": [
    {
     "name": "stdout",
     "output_type": "stream",
     "text": [
      "[['position', 'cc program manager', 'community connections', 'irex', 'program', 'yerevan office', 'cc', 'intern', 'applicants', 'armenia', 'cc program', 'cc staff', 'program staff', 'cc filing system', 'interested parties', 'general administrative tasks', 'programmatic meetings', 'assisting', 'planning', 'scheduling', 'armenian translation', 'excellent skills', 'armenian languages', 'past english', 'public speaking skills', 'translation experience', 'armenian', 'master', 'english', 'degree'], ['public outreach', 'public agencies', 'environmental ngos', 'international organizations', 'primary contact', 'network', 'strengthening', 'businesses', 'time position', 'cenn', 'regular electronic communications', 'environmental information', 'general public', 'primary local contact', 'country director', 'armenian ngos', 'armenian offices', 'cenn seminars/ workshops', 'international organizations', 'businesses', 'knowledge/ experience', 'experience', 'degree', 'years', 'field', 'environmental issues', 'fluency', 'english', 'plus', 'armenia'], ['local enhancement', 'service enhancement', 'quality service delivery', 'improved service delivery', 'local government units', 'good service delivery', 'service provision', 'bcc specialist', 'lead', 'administration staff', 'information collection', 'gaps', 'knowledge', 'quality service provision', 'provider behavior change', 'local ngos', 'provider change', 'quality services', 'overall quality', 'provider behavior', 'public health', 'advanced degree', 'behavior change programs', 'social science', 'related experience', 'reproductive health', 'years experience', 'excellent communication', 'behavior change', 'experience'], ['unprovided', 'sql servers maintenance activities', 'database management systems', 'technical assistance', 'realization', 'software development projects', 'up', 'back', 'replication', 'participation', 'designing', 'economical background', 'university degree', 'excellent knowledge', 'networking tcp/ ip', 'good knowledge', 'database software development', 'server', 'ms sql', 'visual basic', 'technologies'], ['saleswoman', 'menswear', 'accessories', 'unprovided', 'excellent communication skills', 'looking exterior', 'candidates', 'years', 'good knowledge', 'fluency', 'english', 'remuneration', 'salary', 'amd']]\n"
     ]
    }
   ],
   "source": [
    "corpus = feat_df['combi4'].values.tolist()\n",
    "print(corpus)"
   ]
  },
  {
   "cell_type": "code",
   "execution_count": 106,
   "metadata": {},
   "outputs": [],
   "source": [
    "word2vec = Word2Vec(corpus, min_count=1)"
   ]
  },
  {
   "cell_type": "code",
   "execution_count": 110,
   "metadata": {},
   "outputs": [
    {
     "data": {
      "text/plain": [
       "{'english': 0,\n",
       " 'armenia': 1,\n",
       " 'degree': 2,\n",
       " 'international organizations': 3,\n",
       " 'businesses': 4,\n",
       " 'good knowledge': 5,\n",
       " 'unprovided': 6,\n",
       " 'fluency': 7,\n",
       " 'experience': 8,\n",
       " 'years': 9,\n",
       " 'knowledge/ experience': 10,\n",
       " 'field': 11,\n",
       " 'public outreach': 12,\n",
       " 'public agencies': 13,\n",
       " 'environmental ngos': 14,\n",
       " 'environmental issues': 15,\n",
       " 'primary contact': 16,\n",
       " 'network': 17,\n",
       " 'strengthening': 18,\n",
       " 'cenn': 19,\n",
       " 'time position': 20,\n",
       " 'cenn seminars/ workshops': 21,\n",
       " 'regular electronic communications': 22,\n",
       " 'environmental information': 23,\n",
       " 'master': 24,\n",
       " 'primary local contact': 25,\n",
       " 'country director': 26,\n",
       " 'armenian ngos': 27,\n",
       " 'armenian offices': 28,\n",
       " 'general public': 29,\n",
       " 'amd': 30,\n",
       " 'local enhancement': 31,\n",
       " 'cc filing system': 32,\n",
       " 'cc program manager': 33,\n",
       " 'community connections': 34,\n",
       " 'irex': 35,\n",
       " 'program': 36,\n",
       " 'yerevan office': 37,\n",
       " 'cc': 38,\n",
       " 'intern': 39,\n",
       " 'applicants': 40,\n",
       " 'cc program': 41,\n",
       " 'cc staff': 42,\n",
       " 'program staff': 43,\n",
       " 'interested parties': 44,\n",
       " 'armenian': 45,\n",
       " 'general administrative tasks': 46,\n",
       " 'programmatic meetings': 47,\n",
       " 'assisting': 48,\n",
       " 'planning': 49,\n",
       " 'scheduling': 50,\n",
       " 'armenian translation': 51,\n",
       " 'excellent skills': 52,\n",
       " 'armenian languages': 53,\n",
       " 'past english': 54,\n",
       " 'public speaking skills': 55,\n",
       " 'translation experience': 56,\n",
       " 'plus': 57,\n",
       " 'service enhancement': 58,\n",
       " 'salary': 59,\n",
       " 'networking tcp/ ip': 60,\n",
       " 'technical assistance': 61,\n",
       " 'realization': 62,\n",
       " 'software development projects': 63,\n",
       " 'up': 64,\n",
       " 'back': 65,\n",
       " 'replication': 66,\n",
       " 'participation': 67,\n",
       " 'designing': 68,\n",
       " 'economical background': 69,\n",
       " 'university degree': 70,\n",
       " 'excellent knowledge': 71,\n",
       " 'database software development': 72,\n",
       " 'sql servers maintenance activities': 73,\n",
       " 'server': 74,\n",
       " 'ms sql': 75,\n",
       " 'visual basic': 76,\n",
       " 'technologies': 77,\n",
       " 'saleswoman': 78,\n",
       " 'menswear': 79,\n",
       " 'accessories': 80,\n",
       " 'excellent communication skills': 81,\n",
       " 'looking exterior': 82,\n",
       " 'candidates': 83,\n",
       " 'remuneration': 84,\n",
       " 'database management systems': 85,\n",
       " 'behavior change': 86,\n",
       " 'quality service delivery': 87,\n",
       " 'provider behavior change': 88,\n",
       " 'improved service delivery': 89,\n",
       " 'local government units': 90,\n",
       " 'good service delivery': 91,\n",
       " 'service provision': 92,\n",
       " 'bcc specialist': 93,\n",
       " 'lead': 94,\n",
       " 'administration staff': 95,\n",
       " 'information collection': 96,\n",
       " 'gaps': 97,\n",
       " 'knowledge': 98,\n",
       " 'quality service provision': 99,\n",
       " 'local ngos': 100,\n",
       " 'excellent communication': 101,\n",
       " 'provider change': 102,\n",
       " 'quality services': 103,\n",
       " 'overall quality': 104,\n",
       " 'provider behavior': 105,\n",
       " 'public health': 106,\n",
       " 'advanced degree': 107,\n",
       " 'behavior change programs': 108,\n",
       " 'social science': 109,\n",
       " 'related experience': 110,\n",
       " 'reproductive health': 111,\n",
       " 'years experience': 112,\n",
       " 'position': 113}"
      ]
     },
     "execution_count": 110,
     "metadata": {},
     "output_type": "execute_result"
    }
   ],
   "source": [
    "word2vec.wv.key_to_index"
   ]
  },
  {
   "cell_type": "code",
   "execution_count": 111,
   "metadata": {},
   "outputs": [
    {
     "data": {
      "text/plain": [
       "[('degree', 0.3702576458454132),\n",
       " ('field', 0.3153174817562103),\n",
       " ('good knowledge', 0.2795438766479492),\n",
       " ('salary', 0.2575942575931549),\n",
       " ('time position', 0.25576135516166687),\n",
       " ('sql servers maintenance activities', 0.2459896206855774),\n",
       " ('plus', 0.2179144024848938),\n",
       " ('good service delivery', 0.2026248425245285),\n",
       " ('candidates', 0.18146558105945587),\n",
       " ('reproductive health', 0.17556390166282654)]"
      ]
     },
     "execution_count": 111,
     "metadata": {},
     "output_type": "execute_result"
    }
   ],
   "source": [
    "word2vec.wv.most_similar('designing')"
   ]
  },
  {
   "cell_type": "markdown",
   "metadata": {},
   "source": [
    "## Feature selection"
   ]
  },
  {
   "cell_type": "code",
   "execution_count": 122,
   "metadata": {},
   "outputs": [],
   "source": [
    "from skfeature.utility import construct_W\n",
    "import numpy as np\n",
    "\n",
    "kwargs_W = {\n",
    "    \"metric\": \"euclidean\",\n",
    "    \"neighbor_mode\": \"knn\",\n",
    "    \"weight_mode\": \"heat_kernel\",\n",
    "    \"k\": 5,\n",
    "    \"t\": 1,\n",
    "}\n",
    "\n",
    "V = word2vec.wv.index_to_key\n",
    "X = np.zeros((len(V), word2vec.vector_size))\n",
    "\n",
    "for index, word in enumerate(V):\n",
    "    X[index, :] += word2vec.wv[word]\n",
    "\n",
    "W = construct_W.construct_W(X)"
   ]
  },
  {
   "cell_type": "code",
   "execution_count": 124,
   "metadata": {},
   "outputs": [
    {
     "name": "stdout",
     "output_type": "stream",
     "text": [
      "[0.75341529 0.66536979 0.72793408 0.61901629 0.685007   0.73713355\n",
      " 0.62051096 0.75171897 0.64841794 0.73042337 0.75627326 0.72404081\n",
      " 0.75627529 0.68347281 0.7107632  0.66042901 0.69045458 0.73070276\n",
      " 0.65843504 0.68642793 0.74836522 0.68652104 0.69896702 0.74717973\n",
      " 0.73061905 0.61525768 0.5939736  0.59520503 0.70815952 0.70762687\n",
      " 0.71648103 0.64875553 0.6758396  0.71919493 0.69817695 0.72134963\n",
      " 0.6189108  0.67024834 0.64804259 0.64622722 0.71125163 0.7186889\n",
      " 0.76156951 0.70275367 0.73809909 0.74425271 0.71010015 0.70894684\n",
      " 0.75179007 0.69268851 0.80160001 0.70011105 0.67963403 0.67281742\n",
      " 0.65928781 0.66441848 0.68875058 0.69665708 0.71927068 0.762455\n",
      " 0.61659855 0.67757404 0.81248305 0.70775106 0.59899848 0.71627575\n",
      " 0.7222085  0.69026432 0.76992899 0.654      0.73098509 0.69330245\n",
      " 0.75783297 0.71609199 0.68119725 0.65818784 0.69525226 0.73679944\n",
      " 0.68454291 0.74695199 0.6897122  0.69873111 0.75064263 0.65583265\n",
      " 0.68601156 0.68072758 0.71589223 0.79340558 0.7603344  0.71511872\n",
      " 0.73381324 0.66777764 0.73268237 0.74355236 0.73010492 0.71423426\n",
      " 0.67460975 0.65831138 0.71439575 0.7288347 ]\n"
     ]
    }
   ],
   "source": [
    "from skfeature.function.similarity_based import lap_score\n",
    "\n",
    "score = lap_score.lap_score(X, W=W)\n",
    "print(score)"
   ]
  },
  {
   "cell_type": "code",
   "execution_count": 149,
   "metadata": {},
   "outputs": [
    {
     "name": "stdout",
     "output_type": "stream",
     "text": [
      "[26 27 64 25 60 36  3  6 39 38  8 31 69 83 75 97 18 54 15 55  1 91 37 53\n",
      " 96 32 61 52 85 74 13 78  4 84 19 21 56 80 67 16 49 71 76 57 34 81 22 51\n",
      " 43 29 63 28 47 46 14 40 95 98 89 86 73 65 30 41 33 58 35 66 11  2 99 94\n",
      "  9 24 17 70 92 90 77  5 44 93 45 79 23 20 82  7 48  0 10 12 72 88 42 59\n",
      " 68 87 50 62]\n"
     ]
    }
   ],
   "source": [
    "idx = lap_score.feature_ranking(score)\n",
    "print(idx)\n",
    "\n",
    "num_fea = 5\n",
    "selected_features = X[:, idx[0:num_fea]]"
   ]
  },
  {
   "cell_type": "code",
   "execution_count": 132,
   "metadata": {},
   "outputs": [
    {
     "ename": "NameError",
     "evalue": "name 'y' is not defined",
     "output_type": "error",
     "traceback": [
      "\u001b[1;31m---------------------------------------------------------------------------\u001b[0m",
      "\u001b[1;31mNameError\u001b[0m                                 Traceback (most recent call last)",
      "\u001b[1;32m<ipython-input-132-3828376a0e2f>\u001b[0m in \u001b[0;36m<module>\u001b[1;34m\u001b[0m\n\u001b[0;32m      3\u001b[0m \u001b[1;32mfrom\u001b[0m \u001b[0mskfeature\u001b[0m\u001b[1;33m.\u001b[0m\u001b[0mutility\u001b[0m \u001b[1;32mimport\u001b[0m \u001b[0munsupervised_evaluation\u001b[0m\u001b[1;33m\u001b[0m\u001b[1;33m\u001b[0m\u001b[0m\n\u001b[0;32m      4\u001b[0m \u001b[1;33m\u001b[0m\u001b[0m\n\u001b[1;32m----> 5\u001b[1;33m \u001b[0mnum_cluster\u001b[0m \u001b[1;33m=\u001b[0m \u001b[0mlen\u001b[0m\u001b[1;33m(\u001b[0m\u001b[0mnp\u001b[0m\u001b[1;33m.\u001b[0m\u001b[0munique\u001b[0m\u001b[1;33m(\u001b[0m\u001b[0my\u001b[0m\u001b[1;33m)\u001b[0m\u001b[1;33m)\u001b[0m\u001b[1;33m\u001b[0m\u001b[1;33m\u001b[0m\u001b[0m\n\u001b[0m\u001b[0;32m      6\u001b[0m \u001b[0mprint\u001b[0m\u001b[1;33m(\u001b[0m\u001b[0mnum_cluster\u001b[0m\u001b[1;33m)\u001b[0m\u001b[1;33m\u001b[0m\u001b[1;33m\u001b[0m\u001b[0m\n\u001b[0;32m      7\u001b[0m nmi, acc = unsupervised_evaluation.evaluation(\n",
      "\u001b[1;31mNameError\u001b[0m: name 'y' is not defined"
     ]
    }
   ],
   "source": [
    "import numpy as np\n",
    "from skfeature.utility import unsupervised_evaluation\n",
    "\n",
    "num_cluster = len(np.unique(y))\n",
    "print(num_cluster)\n",
    "nmi, acc = unsupervised_evaluation.evaluation(\n",
    "    X_selected=selected_features, n_clusters=num_cluster, y=y\n",
    ")\n",
    "print(nmi)\n",
    "print(acc)"
   ]
  },
  {
   "cell_type": "code",
   "execution_count": 130,
   "metadata": {},
   "outputs": [
    {
     "name": "stderr",
     "output_type": "stream",
     "text": [
      "ERROR: Could not find a version that satisfies the requirement sklearn.utils.linear_assignment\n",
      "ERROR: No matching distribution found for sklearn.utils.linear_assignment\n"
     ]
    }
   ],
   "source": [
    "!pip install sklearn.utils.linear_assignment"
   ]
  },
  {
   "cell_type": "markdown",
   "metadata": {},
   "source": [
    "## Clustering"
   ]
  },
  {
   "cell_type": "code",
   "execution_count": null,
   "metadata": {},
   "outputs": [],
   "source": [
    "# from sklearn.feature_extraction.text import TfidfVectorizer\n",
    "\n",
    "# vectorizer = TfidfVectorizer(stop_words={\"english\"})\n",
    "# X = vectorizer.fit_transform(df[\"clean_qualification\"])"
   ]
  },
  {
   "cell_type": "code",
   "execution_count": 144,
   "metadata": {},
   "outputs": [
    {
     "data": {
      "image/png": "[encoded data removed]",
      "text/plain": [
       "<Figure size 432x288 with 1 Axes>"
      ]
     },
     "metadata": {
      "needs_background": "light"
     },
     "output_type": "display_data"
    }
   ],
   "source": [
    "import matplotlib.pyplot as plt\n",
    "from sklearn.cluster import KMeans\n",
    "\n",
    "Sum_of_squared_distances = []\n",
    "K = range(2, 10)\n",
    "for k in K:\n",
    "    km = KMeans(n_clusters=k, max_iter=200, n_init=10, random_state=6886)\n",
    "    km = km.fit(X)\n",
    "    Sum_of_squared_distances.append(km.inertia_)\n",
    "plt.plot(K, Sum_of_squared_distances, \"bx-\")\n",
    "plt.xlabel(\"k\")\n",
    "plt.ylabel(\"Sum_of_squared_distances\")\n",
    "plt.title(\"Elbow Method For Optimal k\")\n",
    "plt.show()"
   ]
  },
  {
   "cell_type": "code",
   "execution_count": 146,
   "metadata": {},
   "outputs": [
    {
     "name": "stdout",
     "output_type": "stream",
     "text": [
      "2:['position', 'cc program manager', 'community connections', 'irex', 'program', 'yerevan office', 'cc', 'intern', 'applicants', 'armenia', 'cc program', 'cc staff', 'program staff', 'cc filing system', 'interested parties', 'general administrative tasks', 'programmatic meetings', 'assisting', 'planning', 'scheduling', 'armenian translation', 'excellent skills', 'armenian languages', 'past english', 'public speaking skills', 'translation experience', 'armenian', 'master', 'english', 'degree']\n",
      "3:['public outreach', 'public agencies', 'environmental ngos', 'international organizations', 'primary contact', 'network', 'strengthening', 'businesses', 'time position', 'cenn', 'regular electronic communications', 'environmental information', 'general public', 'primary local contact', 'country director', 'armenian ngos', 'armenian offices', 'cenn seminars/ workshops', 'international organizations', 'businesses', 'knowledge/ experience', 'experience', 'degree', 'years', 'field', 'environmental issues', 'fluency', 'english', 'plus', 'armenia']\n",
      "1:['local enhancement', 'service enhancement', 'quality service delivery', 'improved service delivery', 'local government units', 'good service delivery', 'service provision', 'bcc specialist', 'lead', 'administration staff', 'information collection', 'gaps', 'knowledge', 'quality service provision', 'provider behavior change', 'local ngos', 'provider change', 'quality services', 'overall quality', 'provider behavior', 'public health', 'advanced degree', 'behavior change programs', 'social science', 'related experience', 'reproductive health', 'years experience', 'excellent communication', 'behavior change', 'experience']\n",
      "3:['unprovided', 'sql servers maintenance activities', 'database management systems', 'technical assistance', 'realization', 'software development projects', 'up', 'back', 'replication', 'participation', 'designing', 'economical background', 'university degree', 'excellent knowledge', 'networking tcp/ ip', 'good knowledge', 'database software development', 'server', 'ms sql', 'visual basic', 'technologies']\n",
      "1:['saleswoman', 'menswear', 'accessories', 'unprovided', 'excellent communication skills', 'looking exterior', 'candidates', 'years', 'good knowledge', 'fluency', 'english', 'remuneration', 'salary', 'amd']\n",
      "Cluster id labels for inputted data\n",
      "Centroids data\n",
      "Score (Opposite of the value of X on the K-means objective which is Sum of distances of samples to their closest cluster center):\n",
      "-106.45906009335472\n",
      "Silhouette_score: \n",
      "0.010609571766279545\n"
     ]
    },
    {
     "data": {
      "image/png": "[encoded data removed]",
      "text/plain": [
       "<Figure size 432x288 with 1 Axes>"
      ]
     },
     "metadata": {
      "needs_background": "light"
     },
     "output_type": "display_data"
    }
   ],
   "source": [
    "from nltk.cluster import KMeansClusterer\n",
    "from sklearn import cluster, metrics\n",
    "from sklearn.manifold import TSNE\n",
    "\n",
    "NUM_CLUSTERS = 4\n",
    "kclusterer = KMeansClusterer(\n",
    "    NUM_CLUSTERS, distance=nltk.cluster.util.cosine_distance, repeats=200\n",
    ")\n",
    "assigned_clusters = kclusterer.cluster(X, assign_clusters=True)\n",
    "# print(assigned_clusters)\n",
    "\n",
    "for index, sentence in enumerate(corpus):\n",
    "    print(str(assigned_clusters[index]) + \":\" + str(sentence))\n",
    "\n",
    "kmeans = cluster.KMeans(n_clusters=NUM_CLUSTERS)\n",
    "kmeans.fit(X)\n",
    "\n",
    "labels = kmeans.labels_\n",
    "centroids = kmeans.cluster_centers_\n",
    "\n",
    "print(\"Cluster id labels for inputted data\")\n",
    "# print(labels)\n",
    "print(\"Centroids data\")\n",
    "# print(centroids)\n",
    "\n",
    "print(\n",
    "    \"Score (Opposite of the value of X on the K-means objective which is Sum of distances of samples to their closest cluster center):\"\n",
    ")\n",
    "print(kmeans.score(X))\n",
    "\n",
    "silhouette_score = metrics.silhouette_score(X, labels, metric=\"euclidean\")\n",
    "\n",
    "print(\"Silhouette_score: \")\n",
    "print(silhouette_score)\n",
    "\n",
    "model = TSNE(n_components=3, random_state=0)\n",
    "np.set_printoptions(suppress=True)\n",
    "\n",
    "Y = model.fit_transform(X)\n",
    "\n",
    "plt.scatter(Y[:, 0], Y[:, 1], c=assigned_clusters, s=290, alpha=0.5)\n",
    "\n",
    "for j in range(len(corpus)):\n",
    "    plt.annotate(\n",
    "        assigned_clusters[j],\n",
    "        xy=(Y[j][0], Y[j][1]),\n",
    "        xytext=(0, 0),\n",
    "        textcoords=\"offset points\",\n",
    "    )\n",
    "#     print(\"%s %s\" % (assigned_clusters[j], corpus[j]))\n",
    "\n",
    "\n",
    "plt.show()"
   ]
  },
  {
   "cell_type": "code",
   "execution_count": null,
   "metadata": {},
   "outputs": [],
   "source": []
  }
 ],
 "metadata": {
  "kernelspec": {
   "display_name": "Python 3",
   "language": "python",
   "name": "python3"
  },
  "language_info": {
   "codemirror_mode": {
    "name": "ipython",
    "version": 3
   },
   "file_extension": ".py",
   "mimetype": "text/x-python",
   "name": "python",
   "nbconvert_exporter": "python",
   "pygments_lexer": "ipython3",
   "version": "3.8.5"
  }
 },
 "nbformat": 4,
 "nbformat_minor": 4
}
